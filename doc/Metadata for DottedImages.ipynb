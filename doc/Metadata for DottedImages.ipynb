{
 "cells": [
  {
   "cell_type": "code",
   "execution_count": null,
   "id": "6655df25",
   "metadata": {},
   "outputs": [],
   "source": [
    "!pip install tqdm"
   ]
  },
  {
   "cell_type": "code",
   "execution_count": 1,
   "id": "3b33d973",
   "metadata": {},
   "outputs": [],
   "source": [
    "thumbnail_size = (518,345)\n",
    "create_thumbnails = False\n",
    "replace = False\n",
    "_base_folder = 'avian_monitoring'"
   ]
  },
  {
   "cell_type": "code",
   "execution_count": 15,
   "id": "fb1130e6",
   "metadata": {},
   "outputs": [],
   "source": [
    "from PIL import Image, ExifTags\n",
    "import os\n",
    "import re\n",
    "import json\n",
    "import pandas as pd\n",
    "import geopandas as gpd\n",
    "from pathlib import Path\n",
    "import platform\n",
    "import pandas_access\n",
    "from datetime import datetime\n",
    "import pyodbc\n",
    "\n",
    "# PILlow have methods to read exif, however, in the tests\n",
    "# made, it returns a empty dict for images with actual exif data\n",
    "import piexif\n",
    "import fiona\n",
    "import numpy as np\n",
    "from multiprocessing import Pool\n",
    "from functools import partial\n",
    "import sqlite3\n",
    "import tempfile\n",
    "from pandas.io.json import json_normalize\n",
    "import geopandas as gp\n",
    "import numpy as np\n",
    "import boto3\n",
    "import re\n",
    "from tqdm.notebook import tqdm\n",
    "from dateutil.parser import parse\n",
    "from concurrent.futures import ThreadPoolExecutor,as_completed\n",
    "tqdm.pandas()\n",
    "\n",
    "boto3.setup_default_session(profile_name='GLO')"
   ]
  },
  {
   "cell_type": "code",
   "execution_count": 3,
   "id": "0583c1df",
   "metadata": {},
   "outputs": [],
   "source": [
    "def clean_date(text):\n",
    "  datetimestr = parse(text)\n",
    "  text = datetime.strftime(datetimestr, '%Y-%b-%d')\n",
    "  return text"
   ]
  },
  {
   "cell_type": "markdown",
   "id": "61ba25dd",
   "metadata": {},
   "source": [
    "# Unified 2010-2021 Data"
   ]
  },
  {
   "cell_type": "code",
   "execution_count": 4,
   "id": "1147a2b5",
   "metadata": {},
   "outputs": [],
   "source": [
    "# Notes: In order to use all the fields, I did a rename of the columns containing '?' or '/'\n",
    "#acc_db = \"/mnt/c/Users/carizaporras/Downloads/Colibri_tblsSpeciesData2010-2021_18sept22.accdb\"\n",
    "acc_db = \"/mnt/z/Colibri2010-2021CWBColonies_12Nov2022_working_copy.accdb\"\n",
    "schema = pandas_access.read_schema(acc_db) "
   ]
  },
  {
   "cell_type": "code",
   "execution_count": 5,
   "id": "ef6dd021",
   "metadata": {},
   "outputs": [],
   "source": [
    "ct_name = \"tblRWCWB_ColonyInventory_10Nov22\"\n",
    "#colonies_table = schema.pop(\"tblRWCWB_ColonyInventory_13Sept2022\")\n",
    "colonies_table =  schema.pop(ct_name)"
   ]
  },
  {
   "cell_type": "markdown",
   "id": "17882869",
   "metadata": {},
   "source": [
    "There are three tables with slighly different schema"
   ]
  },
  {
   "cell_type": "code",
   "execution_count": 6,
   "id": "2150d7a0",
   "metadata": {},
   "outputs": [
    {
     "data": {
      "text/plain": [
       "{'tblColonySiteNotes2010': {'ID': 'Long Integer',\n",
       "  'Latitude': 'Text (100)',\n",
       "  'Longitude': 'Text (100)',\n",
       "  'Dotter': 'Text (100)',\n",
       "  'ColonyName': 'Text (100)',\n",
       "  'Habitat': 'Text (100)',\n",
       "  'Oil': 'Text (2)',\n",
       "  'Notes': 'Text (510)'},\n",
       " 'tblSpeciesCodes': {'SpeciesCode': 'Text (100) NOT NULL'},\n",
       " 'tblSpeciesData2010': {'AutoID': 'Double',\n",
       "  'Year': 'Double',\n",
       "  'Date': 'DateTime',\n",
       "  'ColonyName': 'Text (510)',\n",
       "  'Latitude': 'Text (510)',\n",
       "  'Longitude': 'Text (510)',\n",
       "  'DottingAreaNumber': 'Text (510)',\n",
       "  'CameraNumber': 'Text (510)',\n",
       "  'CardNumber': 'Text (510)',\n",
       "  'PhotoNumber': 'Text (510)',\n",
       "  'PQ': 'Text (510)',\n",
       "  'SpeciesCode': 'Text (510)',\n",
       "  'WBN': 'Double',\n",
       "  'ChickNestwithoutAdult': 'Double',\n",
       "  'AbandNest': 'Double',\n",
       "  'EmptyNest': 'Double',\n",
       "  'PBN': 'Double',\n",
       "  'Site': 'Double',\n",
       "  'Brood': 'Double',\n",
       "  'OtherAdultsInColony': 'Double',\n",
       "  'OtherImmInColony': 'Double',\n",
       "  'RoostingBirds': 'Double',\n",
       "  'RoostingAdults': 'Double',\n",
       "  'RoostingImmatures': 'Double',\n",
       "  'UnknownAge': 'Double',\n",
       "  'Dotter': 'Text (510)',\n",
       "  'DateDotted': 'DateTime'},\n",
       " 'tblSpeciesData2011_2013': {'AutoID': 'Double',\n",
       "  'Year': 'Double',\n",
       "  'Date': 'DateTime',\n",
       "  'ColonyName': 'Text (510)',\n",
       "  'DottingAreaNumber': 'Text (510)',\n",
       "  'CameraNumber': 'Text (510)',\n",
       "  'CardNumber': 'Text (510)',\n",
       "  'PhotoNumber': 'Text (510)',\n",
       "  'PQ': 'Text (510)',\n",
       "  'SpeciesCode': 'Text (510)',\n",
       "  'WBN': 'Double',\n",
       "  'ChickNestwithoutAdult': 'Double',\n",
       "  'AbandNest': 'Double',\n",
       "  'EmptyNest': 'Double',\n",
       "  'PBN': 'Double',\n",
       "  'Site': 'Double',\n",
       "  'Brood': 'Double',\n",
       "  'OtherAdultsInColony': 'Double',\n",
       "  'OtherImmInColony': 'Double',\n",
       "  'ChicksNestlings': 'Double',\n",
       "  'RoostingBirds': 'Double',\n",
       "  'RoostingAdults': 'Double',\n",
       "  'RoostingImmatures': 'Double',\n",
       "  'UnknownAge': 'Double',\n",
       "  'Dotter': 'Text (510)',\n",
       "  'DateDotted': 'DateTime',\n",
       "  'BestForBPE': 'Text (510)',\n",
       "  'Notes': 'Text (510)'},\n",
       " 'tblSpeciesData2015_2018_2021': {'AutoID': 'Long Integer',\n",
       "  'Year': 'Long Integer',\n",
       "  'Date': 'DateTime',\n",
       "  'ColonyName': 'Text (510)',\n",
       "  'Subcolony': 'Text (510)',\n",
       "  'DottingAreaNumber': 'Text (6)',\n",
       "  'CameraNumber': 'Text (2)',\n",
       "  'CardNumber': 'Text (2)',\n",
       "  'PhotoNumber': 'Text (10)',\n",
       "  'PQ': 'Text (2)',\n",
       "  'SpeciesCode': 'Text (100)',\n",
       "  'WBN': 'Long Integer',\n",
       "  'ChickNest': 'Long Integer',\n",
       "  'ChickNestwithoutAdult': 'Long Integer',\n",
       "  'Brood': 'Long Integer',\n",
       "  'AbandNest': 'Long Integer',\n",
       "  'EmptyNest': 'Long Integer',\n",
       "  'PBN': 'Long Integer',\n",
       "  'Territory': 'Long Integer',\n",
       "  'Site': 'Long Integer',\n",
       "  'OtherBirds': 'Long Integer',\n",
       "  'Dotter': 'Text (6)',\n",
       "  'DateDotted': 'DateTime',\n",
       "  'BestForBPE': 'Text (100)',\n",
       "  'Notes': 'Text (510)'}}"
      ]
     },
     "execution_count": 6,
     "metadata": {},
     "output_type": "execute_result"
    }
   ],
   "source": [
    "schema"
   ]
  },
  {
   "cell_type": "markdown",
   "id": "0f47f136",
   "metadata": {},
   "source": [
    "Taking the 2015 to 2021 table as a reference, lets compare the schemas.\n",
    "\n",
    "Fields in the reference but not in the `tblSpeciesData2011_2013` table"
   ]
  },
  {
   "cell_type": "code",
   "execution_count": 7,
   "id": "7535028f",
   "metadata": {},
   "outputs": [
    {
     "data": {
      "text/plain": [
       "{'ChickNest', 'OtherBirds', 'Subcolony', 'Territory'}"
      ]
     },
     "execution_count": 7,
     "metadata": {},
     "output_type": "execute_result"
    }
   ],
   "source": [
    "schema[\"tblSpeciesData2015_2018_2021\"].keys() - schema[\"tblSpeciesData2011_2013\"].keys()"
   ]
  },
  {
   "cell_type": "markdown",
   "id": "eb00a611",
   "metadata": {},
   "source": [
    "Fields in the `tblSpeciesData2011_2013` table but not in the reference"
   ]
  },
  {
   "cell_type": "code",
   "execution_count": 8,
   "id": "2bef7532",
   "metadata": {},
   "outputs": [
    {
     "data": {
      "text/plain": [
       "{'ChicksNestlings',\n",
       " 'OtherAdultsInColony',\n",
       " 'OtherImmInColony',\n",
       " 'RoostingAdults',\n",
       " 'RoostingBirds',\n",
       " 'RoostingImmatures',\n",
       " 'UnknownAge'}"
      ]
     },
     "execution_count": 8,
     "metadata": {},
     "output_type": "execute_result"
    }
   ],
   "source": [
    " schema[\"tblSpeciesData2011_2013\"].keys() - schema[\"tblSpeciesData2015_2018_2021\"].keys() "
   ]
  },
  {
   "cell_type": "markdown",
   "id": "cbfcb572",
   "metadata": {},
   "source": [
    "Fields in the referece but not in the 2010 table"
   ]
  },
  {
   "cell_type": "code",
   "execution_count": 9,
   "id": "e20b6a5e",
   "metadata": {},
   "outputs": [
    {
     "data": {
      "text/plain": [
       "{'BestForBPE', 'ChickNest', 'Notes', 'OtherBirds', 'Subcolony', 'Territory'}"
      ]
     },
     "execution_count": 9,
     "metadata": {},
     "output_type": "execute_result"
    }
   ],
   "source": [
    "schema[\"tblSpeciesData2015_2018_2021\"].keys() - schema[\"tblSpeciesData2010\"].keys()"
   ]
  },
  {
   "cell_type": "markdown",
   "id": "95e4fdbf",
   "metadata": {},
   "source": [
    "Fields in the referece but not in the 2010 table"
   ]
  },
  {
   "cell_type": "code",
   "execution_count": 10,
   "id": "5a7763ae",
   "metadata": {},
   "outputs": [
    {
     "data": {
      "text/plain": [
       "{'Latitude',\n",
       " 'Longitude',\n",
       " 'OtherAdultsInColony',\n",
       " 'OtherImmInColony',\n",
       " 'RoostingAdults',\n",
       " 'RoostingBirds',\n",
       " 'RoostingImmatures',\n",
       " 'UnknownAge'}"
      ]
     },
     "execution_count": 10,
     "metadata": {},
     "output_type": "execute_result"
    }
   ],
   "source": [
    "schema[\"tblSpeciesData2010\"].keys() - schema[\"tblSpeciesData2015_2018_2021\"].keys() "
   ]
  },
  {
   "cell_type": "markdown",
   "id": "d1b0e1a8",
   "metadata": {},
   "source": [
    "That also means that we have different formulas to calculate the total. The bestForBPE field is used as filter in 2013 to 2021, but it is not used in the 2010.\n",
    "\n",
    "### Formulas\n",
    "\n",
    "|                | 2010                                                                                                                                                               | 2011-2013                                                                                                                                                          | 2015-2021                                                                                                 |\n",
    "|----------------|--------------------------------------------------------------------------------------------------------------------------------------------------------------------|--------------------------------------------------------------------------------------------------------------------------------------------------------------------|-----------------------------------------------------------------------------------------------------------|\n",
    "| Nests          | sum(<br>[WBN]<br>+[ChickNestw/outAdult]<br>+[AbandNest]<br>+[EmptyNest]<br>+[PBN]<br>+[Site]<br>+[Brood])                                                          | Sum(<br>[WBN]<br>+[ChickNestw/outAdult]<br>+[AbandNest]<br>+[EmptyNest]<br>+[PBN]<br>+[Site]<br>+[Brood])                                                          | Sum(<br>[WBN]<br>+[ChickNest]<br>+[ChickNestw/outAdult]<br>+[AbandNest]<br>+[PBN]<br>+[Site]<br>+[Brood]) |\n",
    "| Birds          | sum([WBN]<br>+[PBN]<br>+[Site]<br>+[OtherAdultsInColony]<br>+[OtherImmInColony]<br>+[RoostingBirds]<br>+[RoostingAdults]<br>+[RoostingImmatures]<br>+[UnknownAge]) | Sum([WBN]<br>+[PBN]<br>+[Site]<br>+[OtherAdultsInColony]<br>+[OtherImmInColony]<br>+[RoostingBirds]<br>+[RoostingAdults]<br>+[RoostingImmatures]<br>+[UnknownAge]) | Sum(<br>[WBN]<br>+[ChickNest]<br>+[PBN]<br>+[Territory]<br>+[Site]<br>+[OtherBirds])                      |\n",
    "| SumOfEmptyNest | sum(EmptyNest)                                                                                                                                                     | EmptyNest                                                                                                                                                          | EmptyNest                                                                                                 |\n",
    "\n",
    "\n",
    "But 2015 to 2021 has additional categories: \n",
    "\n",
    "```SQL\n",
    "\n",
    "Sum(WBN) AS SumOfWBN\n",
    "\n",
    "Sum(ChickNest) AS SumOfChickNest\n",
    "\n",
    "Sum([ChickNestw/outAdult]) AS [SumOfChickNestw/outAdult] \n",
    "\n",
    "Sum(Brood) AS SumOfBrood\n",
    "\n",
    "Sum(AbandNest) AS SumOfAbandNest\n",
    "\n",
    "Sum(PBN) AS SumOfPBN\n",
    "\n",
    "Sum(Territory) AS SumOfTerritory\n",
    "```"
   ]
  },
  {
   "cell_type": "markdown",
   "id": "54afca74",
   "metadata": {},
   "source": [
    "## Generating a common dataset:\n",
    "- merge 2010 species with the colonies. \n",
    "- select only the common columns "
   ]
  },
  {
   "cell_type": "code",
   "execution_count": 11,
   "id": "c81790db",
   "metadata": {},
   "outputs": [],
   "source": [
    "cols_2015_2021 = set(schema[\"tblSpeciesData2015_2018_2021\"].keys())\n",
    "cols_2011_2013 = set(schema[\"tblSpeciesData2011_2013\"].keys())\n",
    "cols_2010 = set(schema[\"tblSpeciesData2010\"].keys())\n",
    "common_fields = cols_2011_2013.intersection(cols_2015_2021)"
   ]
  },
  {
   "cell_type": "code",
   "execution_count": 12,
   "id": "6c1f4e29",
   "metadata": {},
   "outputs": [
    {
     "data": {
      "text/plain": [
       "{'Latitude',\n",
       " 'Longitude',\n",
       " 'OtherAdultsInColony',\n",
       " 'OtherImmInColony',\n",
       " 'RoostingAdults',\n",
       " 'RoostingBirds',\n",
       " 'RoostingImmatures',\n",
       " 'UnknownAge'}"
      ]
     },
     "execution_count": 12,
     "metadata": {},
     "output_type": "execute_result"
    }
   ],
   "source": [
    "cols_2010 - common_fields"
   ]
  },
  {
   "cell_type": "code",
   "execution_count": 13,
   "id": "1577e587",
   "metadata": {},
   "outputs": [
    {
     "data": {
      "text/plain": [
       "{'BestForBPE', 'Notes'}"
      ]
     },
     "execution_count": 13,
     "metadata": {},
     "output_type": "execute_result"
    }
   ],
   "source": [
    "common_fields - cols_2010"
   ]
  },
  {
   "cell_type": "code",
   "execution_count": 14,
   "id": "185fc3af",
   "metadata": {},
   "outputs": [],
   "source": [
    "pd_species_2010 = pandas_access.read_table(acc_db, \"tblSpeciesData2010\")"
   ]
  },
  {
   "cell_type": "code",
   "execution_count": 15,
   "id": "05678f37",
   "metadata": {},
   "outputs": [],
   "source": [
    "pd_species_2010['Notes'] = \"\"\n",
    "pd_species_2010[\"BestForBPE\"] = \"N\""
   ]
  },
  {
   "cell_type": "code",
   "execution_count": null,
   "id": "fe6516c5",
   "metadata": {},
   "outputs": [],
   "source": []
  },
  {
   "cell_type": "code",
   "execution_count": 16,
   "id": "949620c0",
   "metadata": {},
   "outputs": [],
   "source": [
    "pd_species_2010 = pd_species_2010#[common_fields]"
   ]
  },
  {
   "cell_type": "code",
   "execution_count": 17,
   "id": "a3b25c82",
   "metadata": {},
   "outputs": [],
   "source": [
    "pd_species_2011_2013 = pandas_access.read_table(acc_db, \"tblSpeciesData2011_2013\")#[common_fields]\n",
    "pd_species_2015_2021 = pandas_access.read_table(acc_db, \"tblSpeciesData2015_2018_2021\")#[common_fields]"
   ]
  },
  {
   "cell_type": "code",
   "execution_count": 18,
   "id": "5660d42f",
   "metadata": {},
   "outputs": [],
   "source": [
    "pd_species = pd.concat([pd_species_2010, pd_species_2011_2013, pd_species_2015_2021], ignore_index=True)"
   ]
  },
  {
   "cell_type": "code",
   "execution_count": 19,
   "id": "109be71b",
   "metadata": {},
   "outputs": [],
   "source": [
    "pd_species = pd_species.drop(columns=\"AutoID\")"
   ]
  },
  {
   "cell_type": "code",
   "execution_count": 20,
   "id": "3fca9f44",
   "metadata": {},
   "outputs": [],
   "source": [
    "pd_species[\"Year\"] = pd_species[\"Year\"].astype(int).astype(str) "
   ]
  },
  {
   "cell_type": "code",
   "execution_count": 21,
   "id": "ab03ef09",
   "metadata": {},
   "outputs": [],
   "source": [
    "pd_colonies = pandas_access.read_table(acc_db, ct_name)\n",
    "pd_colonies[\"ColonyName\"] = pd_colonies[\"ColonyName\"].astype(str)"
   ]
  },
  {
   "cell_type": "code",
   "execution_count": 22,
   "id": "f296373d",
   "metadata": {},
   "outputs": [],
   "source": [
    "pd_species = pd.merge(pd_species, pd_colonies, on=\"ColonyName\")"
   ]
  },
  {
   "cell_type": "code",
   "execution_count": 23,
   "id": "ef5d90bd",
   "metadata": {},
   "outputs": [],
   "source": [
    "pd_species[\"HighResImage_new\"] = f\"{_base_folder}/high_resolution_photos/\"+pd_species['Year'].astype(str)+'/'+pd_species['GeoRegion']+'/'+pd_species['ColonyName']+'/'+pd.to_datetime(pd_species[\"Date\"].astype('str'), format=\"%m/%d/%y %H:%M:%S\").dt.strftime(\"%d%B%y\")+'Camera'+pd_species[\"CameraNumber\"]+'-'+'Card'+(pd_species[\"CardNumber\"].where(~pd_species[\"CardNumber\"].isnull(), other=\"1\"))+\"-\"+pd_species[\"PhotoNumber\"]+\".jpg\"\n",
    "pd_species[\"screenshot_new\"] = f'{_base_folder}/screenshots/'+pd_species['Year'].astype(str)+'/'+pd_species['GeoRegion']+'/'+pd_species['ColonyName']+'/'+pd.to_datetime(pd_species[\"Date\"].astype('str'), format=\"%m/%d/%y %H:%M:%S\").dt.strftime(\"%d%B%y\")+'Camera'+pd_species[\"CameraNumber\"]+'-'+'Card'+(pd_species[\"CardNumber\"].where(~pd_species[\"CardNumber\"].isnull(), other=\"1\"))+\"-\"+pd_species[\"PhotoNumber\"]+\".jpg\"\n",
    "pd_species[\"thumbnail_new\"] =  f'{_base_folder}/thumbnails/'+pd_species['Year'].astype(str)+'/'+pd_species['GeoRegion']+'/'+pd_species['ColonyName']+'/'+pd.to_datetime(pd_species[\"Date\"].astype('str'), format=\"%m/%d/%y %H:%M:%S\").dt.strftime(\"%d%B%y\")+'Camera'+pd_species[\"CameraNumber\"]+'-'+'Card'+(pd_species[\"CardNumber\"].where(~pd_species[\"CardNumber\"].isnull(), other=\"1\"))+\"-\"+pd_species[\"PhotoNumber\"]+\".png\""
   ]
  },
  {
   "cell_type": "code",
   "execution_count": 24,
   "id": "83726a42",
   "metadata": {},
   "outputs": [],
   "source": [
    "pd_species[\"total_nests\"] = np.where(pd_species[\"Year\"].isin([\"2010\",\"2011\",\"2012\",\"2013\"]),\n",
    "                                    pd_species[\"WBN\"]+pd_species[\"ChickNestwithoutAdult\"]\n",
    "                                    +pd_species[\"AbandNest\"]\n",
    "                                    +pd_species[\"EmptyNest\"]\n",
    "                                    +pd_species[\"PBN\"]\n",
    "                                    +pd_species[\"Site\"]\n",
    "                                    +pd_species[\"Brood\"],\n",
    "                                     pd_species[\"WBN\"]+pd_species[\"ChickNestwithoutAdult\"]\n",
    "                                    +pd_species[\"AbandNest\"]\n",
    "                                    +pd_species[\"ChickNest\"]\n",
    "                                    +pd_species[\"PBN\"]\n",
    "                                    +pd_species[\"Site\"]\n",
    "                                    +pd_species[\"Brood\"]\n",
    "                                    )\n",
    "pd_species[\"total_birds\"] = np.where(pd_species[\"Year\"].isin([\"2010\",\"2011\",\"2012\",\"2013\"]),\n",
    "                                    pd_species[\"WBN\"]\n",
    "                                                                   \n",
    "                                    +pd_species[\"PBN\"]\n",
    "                                    \n",
    "                                     +pd_species[\"Site\"]\n",
    "                                    +pd_species[\"OtherAdultsInColony\"]\n",
    "                                     +pd_species[\"OtherImmInColony\"]\n",
    "                                     +pd_species[\"RoostingBirds\"]\n",
    "                                     +pd_species[\"RoostingAdults\"]\n",
    "                                     +pd_species[\"RoostingImmatures\"]\n",
    "                                     +pd_species[\"UnknownAge\"],\n",
    "                                     \n",
    "                                     pd_species[\"WBN\"]+\n",
    "                                    \n",
    "                                    +pd_species[\"ChickNest\"]\n",
    "                                    +pd_species[\"PBN\"]\n",
    "                                    +pd_species[\"Territory\"]\n",
    "                                     +pd_species[\"Site\"]\n",
    "                                    +pd_species[\"OtherBirds\"]\n",
    "                                    )"
   ]
  },
  {
   "cell_type": "code",
   "execution_count": 25,
   "id": "75d1f9ae",
   "metadata": {},
   "outputs": [],
   "source": [
    "pd_species['date2']=pd_species['Date'].astype('str').apply(clean_date)\n",
    "pd_species['month'] = pd_species[\"date2\"].apply(lambda x: x.split('-')[1])\n",
    "\n",
    "agg_2010 = pd_species[pd_species.Year==\"2010\"].groupby([\"Year\",\"month\",\"ColonyName\",\"SpeciesCode\"]).agg({\"total_birds\":\"sum\"}).reset_index()\n"
   ]
  },
  {
   "cell_type": "code",
   "execution_count": 26,
   "id": "790246b9",
   "metadata": {},
   "outputs": [],
   "source": [
    "selected = agg_2010.sort_values(\"total_birds\").drop_duplicates([\"Year\",\"ColonyName\",\"SpeciesCode\"], keep=\"last\")[[\"Year\",\"month\",\"ColonyName\",\"SpeciesCode\"]].reset_index(drop=True)"
   ]
  },
  {
   "cell_type": "code",
   "execution_count": 27,
   "id": "2676ff28",
   "metadata": {},
   "outputs": [
    {
     "data": {
      "text/html": [
       "<div>\n",
       "<style scoped>\n",
       "    .dataframe tbody tr th:only-of-type {\n",
       "        vertical-align: middle;\n",
       "    }\n",
       "\n",
       "    .dataframe tbody tr th {\n",
       "        vertical-align: top;\n",
       "    }\n",
       "\n",
       "    .dataframe thead th {\n",
       "        text-align: right;\n",
       "    }\n",
       "</style>\n",
       "<table border=\"1\" class=\"dataframe\">\n",
       "  <thead>\n",
       "    <tr style=\"text-align: right;\">\n",
       "      <th></th>\n",
       "      <th>Year</th>\n",
       "      <th>month</th>\n",
       "      <th>ColonyName</th>\n",
       "      <th>SpeciesCode</th>\n",
       "    </tr>\n",
       "  </thead>\n",
       "  <tbody>\n",
       "    <tr>\n",
       "      <th>25</th>\n",
       "      <td>2010</td>\n",
       "      <td>Jun</td>\n",
       "      <td>North Deer Island</td>\n",
       "      <td>ROSA</td>\n",
       "    </tr>\n",
       "    <tr>\n",
       "      <th>64</th>\n",
       "      <td>2010</td>\n",
       "      <td>May</td>\n",
       "      <td>Little Mud Grass Island Northeast</td>\n",
       "      <td>ROSA</td>\n",
       "    </tr>\n",
       "    <tr>\n",
       "      <th>592</th>\n",
       "      <td>2010</td>\n",
       "      <td>May</td>\n",
       "      <td>Biloxi North 32</td>\n",
       "      <td>ROSA</td>\n",
       "    </tr>\n",
       "    <tr>\n",
       "      <th>848</th>\n",
       "      <td>2010</td>\n",
       "      <td>May</td>\n",
       "      <td>Biloxi North 15</td>\n",
       "      <td>ROSA</td>\n",
       "    </tr>\n",
       "    <tr>\n",
       "      <th>977</th>\n",
       "      <td>2010</td>\n",
       "      <td>Jun</td>\n",
       "      <td>West Bay Bird Island New</td>\n",
       "      <td>ROSA</td>\n",
       "    </tr>\n",
       "    <tr>\n",
       "      <th>1076</th>\n",
       "      <td>2010</td>\n",
       "      <td>May</td>\n",
       "      <td>Louisiana West 1</td>\n",
       "      <td>ROSA</td>\n",
       "    </tr>\n",
       "    <tr>\n",
       "      <th>1228</th>\n",
       "      <td>2010</td>\n",
       "      <td>May</td>\n",
       "      <td>Horn Island</td>\n",
       "      <td>ROSA</td>\n",
       "    </tr>\n",
       "    <tr>\n",
       "      <th>1260</th>\n",
       "      <td>2010</td>\n",
       "      <td>Jun</td>\n",
       "      <td>Martin Island</td>\n",
       "      <td>ROSA</td>\n",
       "    </tr>\n",
       "    <tr>\n",
       "      <th>1321</th>\n",
       "      <td>2010</td>\n",
       "      <td>Jun</td>\n",
       "      <td>Saint George Causeway</td>\n",
       "      <td>ROSA</td>\n",
       "    </tr>\n",
       "    <tr>\n",
       "      <th>1351</th>\n",
       "      <td>2010</td>\n",
       "      <td>Jun</td>\n",
       "      <td>Long Reef Deadman Islands B</td>\n",
       "      <td>ROSA</td>\n",
       "    </tr>\n",
       "    <tr>\n",
       "      <th>1358</th>\n",
       "      <td>2010</td>\n",
       "      <td>May</td>\n",
       "      <td>Queen Bess Island</td>\n",
       "      <td>ROSA</td>\n",
       "    </tr>\n",
       "    <tr>\n",
       "      <th>1370</th>\n",
       "      <td>2010</td>\n",
       "      <td>May</td>\n",
       "      <td>Wine Island</td>\n",
       "      <td>ROSA</td>\n",
       "    </tr>\n",
       "    <tr>\n",
       "      <th>1439</th>\n",
       "      <td>2010</td>\n",
       "      <td>May</td>\n",
       "      <td>Belle Pass East</td>\n",
       "      <td>ROSA</td>\n",
       "    </tr>\n",
       "    <tr>\n",
       "      <th>1469</th>\n",
       "      <td>2010</td>\n",
       "      <td>Jun</td>\n",
       "      <td>Flag Island South</td>\n",
       "      <td>ROSA</td>\n",
       "    </tr>\n",
       "    <tr>\n",
       "      <th>1483</th>\n",
       "      <td>2010</td>\n",
       "      <td>Jun</td>\n",
       "      <td>Egmont Key</td>\n",
       "      <td>ROSA</td>\n",
       "    </tr>\n",
       "    <tr>\n",
       "      <th>1490</th>\n",
       "      <td>2010</td>\n",
       "      <td>Jun</td>\n",
       "      <td>Chester Island</td>\n",
       "      <td>ROSA</td>\n",
       "    </tr>\n",
       "    <tr>\n",
       "      <th>1520</th>\n",
       "      <td>2010</td>\n",
       "      <td>May</td>\n",
       "      <td>Raccoon Island</td>\n",
       "      <td>ROSA</td>\n",
       "    </tr>\n",
       "    <tr>\n",
       "      <th>1538</th>\n",
       "      <td>2010</td>\n",
       "      <td>May</td>\n",
       "      <td>Breton Island</td>\n",
       "      <td>ROSA</td>\n",
       "    </tr>\n",
       "  </tbody>\n",
       "</table>\n",
       "</div>"
      ],
      "text/plain": [
       "      Year month                         ColonyName SpeciesCode\n",
       "25    2010   Jun                  North Deer Island        ROSA\n",
       "64    2010   May  Little Mud Grass Island Northeast        ROSA\n",
       "592   2010   May                    Biloxi North 32        ROSA\n",
       "848   2010   May                    Biloxi North 15        ROSA\n",
       "977   2010   Jun           West Bay Bird Island New        ROSA\n",
       "1076  2010   May                   Louisiana West 1        ROSA\n",
       "1228  2010   May                        Horn Island        ROSA\n",
       "1260  2010   Jun                      Martin Island        ROSA\n",
       "1321  2010   Jun              Saint George Causeway        ROSA\n",
       "1351  2010   Jun        Long Reef Deadman Islands B        ROSA\n",
       "1358  2010   May                  Queen Bess Island        ROSA\n",
       "1370  2010   May                        Wine Island        ROSA\n",
       "1439  2010   May                    Belle Pass East        ROSA\n",
       "1469  2010   Jun                  Flag Island South        ROSA\n",
       "1483  2010   Jun                         Egmont Key        ROSA\n",
       "1490  2010   Jun                     Chester Island        ROSA\n",
       "1520  2010   May                     Raccoon Island        ROSA\n",
       "1538  2010   May                      Breton Island        ROSA"
      ]
     },
     "execution_count": 27,
     "metadata": {},
     "output_type": "execute_result"
    }
   ],
   "source": [
    "selected[selected.SpeciesCode == \"ROSA\"]"
   ]
  },
  {
   "cell_type": "code",
   "execution_count": 28,
   "id": "90de1bc5",
   "metadata": {},
   "outputs": [],
   "source": [
    "pd_species.loc[pd_species[[\"Year\",\"month\",\"ColonyName\",\"SpeciesCode\"]].apply(lambda row: str([x for x in row]), axis =1).isin(selected.apply(lambda row: str([x for x in row]), axis =1)),\"BestForBPE\"] = 'Y'"
   ]
  },
  {
   "cell_type": "code",
   "execution_count": 29,
   "id": "2431145a",
   "metadata": {},
   "outputs": [],
   "source": [
    "pd_species[\"uid\"]= pd_species[\"HighResImage_new\"]+\"#\"+np.where(pd_species[\"SpeciesCode\"].isna(),\"N/A\",pd_species[\"SpeciesCode\"].isna())"
   ]
  },
  {
   "cell_type": "code",
   "execution_count": 30,
   "id": "62acafbd",
   "metadata": {},
   "outputs": [],
   "source": [
    "pd_species.to_csv(\"avianmonitoring_2010-2021.csv.gz\", index=False)"
   ]
  },
  {
   "cell_type": "code",
   "execution_count": 31,
   "id": "24561418",
   "metadata": {},
   "outputs": [],
   "source": [
    "pd_species.to_excel(\"avianmonitoring_2010-2021.xlsx\", index=False)"
   ]
  },
  {
   "cell_type": "markdown",
   "id": "7d0ad175",
   "metadata": {},
   "source": [
    "# Reorganize Files"
   ]
  },
  {
   "cell_type": "code",
   "execution_count": 4,
   "id": "6527b3b5",
   "metadata": {},
   "outputs": [],
   "source": [
    "bucket_name  = \"twi-avian-data\"\n",
    "starting_folder = \"HighResolutionImages\"\n",
    "new_folder_hr = \"avian_monitoring_\"\n",
    "aws_s3 = boto3.resource(\n",
    "        \"s3\",\n",
    "   )\n",
    "avian_data = aws_s3.Bucket(bucket_name)"
   ]
  },
  {
   "cell_type": "code",
   "execution_count": null,
   "id": "369d81b9",
   "metadata": {},
   "outputs": [],
   "source": [
    "files = [o for o in avian_data.objects.filter(Prefix=starting_folder) if re.match(r\".*/20[1-2][0-9]/.*(\\.jp(.{0,1})g|.tiff)\",o.key.lower())]"
   ]
  },
  {
   "cell_type": "code",
   "execution_count": null,
   "id": "de57fb3b",
   "metadata": {},
   "outputs": [],
   "source": [
    "image_groups = re.compile(r'HighResolutionImages/(?P<year>\\d{4}).*[/ ,]+(?P<date>\\d+\\s*[A-Z]+\\s*\\d{2,4}).*(Camera|Cam)\\s*(?P<camera>\\d+)[ /-]*(Card\\s*(?P<card>\\d+)){0,1}[\\s-]*((\\w+/))*(IMGP){0,1}(?P<photo>\\d+)\\.(?P<extension>jp.?g|tiff?)', flags=re.IGNORECASE)"
   ]
  },
  {
   "cell_type": "code",
   "execution_count": null,
   "id": "618b8f57",
   "metadata": {},
   "outputs": [],
   "source": [
    "m = image_groups.match(\"HighResolutionImages/2010/June 2010/10 June 2010/10 June 2010 Camera 1 Card 1/10 June 2010 Camera 1 Card 1 010.JPG\")"
   ]
  },
  {
   "cell_type": "code",
   "execution_count": null,
   "id": "7405642c",
   "metadata": {},
   "outputs": [],
   "source": [
    "df_files = []\n",
    "no_files = []\n",
    "for i,o in tqdm(enumerate(files)): \n",
    "    if image_groups.match(o.key):\n",
    "        dict_t = image_groups.match(o.key).groupdict()\n",
    "        df_files.append({\"key\":o.key, \"object\":o, **dict_t})\n",
    "    else:\n",
    "        no_files.append(o.key)\n",
    "    #if i%10000 == 0 :\n",
    "    #    print(i, len(df_files), len(no_files))"
   ]
  },
  {
   "cell_type": "code",
   "execution_count": null,
   "id": "03d931d8",
   "metadata": {},
   "outputs": [],
   "source": [
    "no_files = list(filter(lambda k: not \"numbering off\" in k, no_files) )"
   ]
  },
  {
   "cell_type": "code",
   "execution_count": null,
   "id": "6af26c2c",
   "metadata": {},
   "outputs": [],
   "source": [
    "with open(\"n_files_report.txt\",\"w\") as n_files_report: \n",
    "    n_files_report.write(\"\\n\".join(no_files))"
   ]
  },
  {
   "cell_type": "code",
   "execution_count": null,
   "id": "cfccbd41",
   "metadata": {},
   "outputs": [],
   "source": [
    "\n",
    "fdf = pd.DataFrame(df_files) "
   ]
  },
  {
   "cell_type": "code",
   "execution_count": null,
   "id": "e3e53306",
   "metadata": {},
   "outputs": [],
   "source": [
    "fdf[\"extension\"] = fdf[\"extension\"].str.lower()"
   ]
  },
  {
   "cell_type": "code",
   "execution_count": null,
   "id": "af97914e",
   "metadata": {},
   "outputs": [],
   "source": []
  },
  {
   "cell_type": "code",
   "execution_count": null,
   "id": "cb992f74",
   "metadata": {},
   "outputs": [],
   "source": []
  },
  {
   "cell_type": "code",
   "execution_count": null,
   "id": "0195f596",
   "metadata": {},
   "outputs": [],
   "source": [
    "\n",
    "fdf['date2'] = fdf['date'].astype('str').apply(clean_date)\n",
    "fdf['month'] = fdf[\"date2\"].apply(lambda x: x.split('-')[1])\n",
    "fdf['day'] = fdf[\"date2\"].apply(lambda x: x.split('-')[2])"
   ]
  },
  {
   "cell_type": "code",
   "execution_count": null,
   "id": "6053bfa6",
   "metadata": {},
   "outputs": [],
   "source": [
    "pd_species['date2']=pd_species['Date'].astype('str').apply(clean_date)\n",
    "pd_species['month'] = pd_species[\"date2\"].apply(lambda x: x.split('-')[1])\n",
    "pd_species['day'] = pd_species[\"date2\"].apply(lambda x: x.split('-')[2])"
   ]
  },
  {
   "cell_type": "code",
   "execution_count": null,
   "id": "62beb4a1",
   "metadata": {},
   "outputs": [],
   "source": [
    "pd_species[~pd_species[\"HighResImage_new\"].isna()].to_csv(\"avianData20102021.csv.gz\", index=False)"
   ]
  },
  {
   "cell_type": "code",
   "execution_count": null,
   "id": "e65369b7",
   "metadata": {},
   "outputs": [],
   "source": [
    "pd_species[~pd_species[\"HighResImage_new\"].isna()]"
   ]
  },
  {
   "cell_type": "code",
   "execution_count": null,
   "id": "3c82967a",
   "metadata": {},
   "outputs": [],
   "source": [
    "fdf = fdf.rename(columns={\"camera\":\"CameraNumber\",\"card\":\"CardNumber\", \"photo\":\"PhotoNumber\", \"year\":\"Year\" })"
   ]
  },
  {
   "cell_type": "code",
   "execution_count": null,
   "id": "bbdf530f",
   "metadata": {},
   "outputs": [],
   "source": [
    "fdf[\"PhotoNumber\"] = fdf[\"PhotoNumber\"].str.rjust(5,'0') \n",
    "pd_species[\"PhotoNumber\"] = pd_species[\"PhotoNumber\"].str.rjust(5,'0')"
   ]
  },
  {
   "cell_type": "code",
   "execution_count": null,
   "id": "dc056da8",
   "metadata": {},
   "outputs": [],
   "source": [
    "join_cols = ['CameraNumber','CardNumber','PhotoNumber','Year', 'month','day']\n",
    "for c in join_cols:\n",
    "    fdf[c] = fdf[c].astype('str').str.strip()\n",
    "    pd_species[c] = pd_species[c].astype('str').str.strip()\n",
    "c = 'CardNumber'\n",
    "fdf.loc[fdf[c]=='None',c]= '1'"
   ]
  },
  {
   "cell_type": "code",
   "execution_count": null,
   "id": "4873b50f",
   "metadata": {},
   "outputs": [],
   "source": [
    "merged = pd_species.merge(fdf, on=join_cols, how=\"left\")"
   ]
  },
  {
   "cell_type": "code",
   "execution_count": null,
   "id": "c4325222",
   "metadata": {},
   "outputs": [],
   "source": [
    "pd_species[\"PhotoNumber\"]"
   ]
  },
  {
   "cell_type": "code",
   "execution_count": null,
   "id": "48edaad4",
   "metadata": {},
   "outputs": [],
   "source": [
    "m_grouped =merged[[\"HighResImage_new\",\"key\",\"CameraNumber\",\"CardNumber\",\"PhotoNumber\",\"Date\",\"Year\",\"month\", \"thumbnail_new\"]].groupby([\"HighResImage_new\",\"key\",\"CameraNumber\",\"CardNumber\",\"PhotoNumber\",\"Date\",\"Year\",\"month\",\"thumbnail_new\"]).count().reset_index()"
   ]
  },
  {
   "cell_type": "code",
   "execution_count": null,
   "id": "45afd8a8",
   "metadata": {
    "scrolled": true
   },
   "outputs": [],
   "source": [
    "r = m_grouped.progress_apply(lambda x:avian_data.copy ({'Bucket': avian_data.name,'Key':x['key']}, x['HighResImage_new']), axis=1)"
   ]
  },
  {
   "cell_type": "code",
   "execution_count": null,
   "id": "de5a88f0",
   "metadata": {},
   "outputs": [],
   "source": [
    "np.any(~r.isnull())"
   ]
  },
  {
   "cell_type": "code",
   "execution_count": null,
   "id": "4c753f2f",
   "metadata": {},
   "outputs": [],
   "source": [
    "m_grouped"
   ]
  },
  {
   "cell_type": "code",
   "execution_count": null,
   "id": "e193336e",
   "metadata": {},
   "outputs": [],
   "source": [
    "m_grouped.to_excel(\"UsedPhotos2010-2021.xlsx\", index=False)"
   ]
  },
  {
   "cell_type": "code",
   "execution_count": null,
   "id": "a1698c8f",
   "metadata": {},
   "outputs": [],
   "source": [
    "m_grouped = pd.read_excel(\"UsedPhotos2010-2021.xlsx\")"
   ]
  },
  {
   "cell_type": "code",
   "execution_count": 54,
   "id": "22d70d4c",
   "metadata": {},
   "outputs": [],
   "source": [
    "from PIL import Image, ExifTags\n",
    "from io import BytesIO\n",
    "from concurrent.futures import ThreadPoolExecutor,as_completed\n",
    "from functools import partial"
   ]
  },
  {
   "cell_type": "code",
   "execution_count": null,
   "id": "4f6de1d0",
   "metadata": {},
   "outputs": [],
   "source": [
    "def generate_thumbnail(high_res_key, thumb_key, regenerate=False):\n",
    "    current = avian_data.objects.filter(Prefix=thumb_key)\n",
    "    if not regenerate and  [o for o in current]:\n",
    "        return True\n",
    "    objs = [o for o in avian_data.objects.filter(Prefix=high_res_key)]\n",
    "    if not objs:\n",
    "        print(f\"there is no {high_res_key}\")\n",
    "        return False\n",
    "    image = Image.open(BytesIO(objs[0].get()[\"Body\"].read()))\n",
    "    buffer = BytesIO()\n",
    "    image.thumbnail(thumbnail_size)\n",
    "    image.save(buffer, format=\"png\")\n",
    "    buffer.seek(0)\n",
    "    avian_data.put_object(Key=thumb_key, Body=buffer,ContentType=\"image/png\")\n",
    "    return True"
   ]
  },
  {
   "cell_type": "code",
   "execution_count": null,
   "id": "f86ec0a1",
   "metadata": {},
   "outputs": [],
   "source": [
    "with ThreadPoolExecutor(max_workers=16) as e:\n",
    "    futures = list(tqdm(e.map(partial(generate_thumbnail, regenerate=True), m_grouped[\"HighResImage_new\"].tolist(), m_grouped[\"thumbnail_new\"].tolist()), total=m_grouped.shape[0]))"
   ]
  },
  {
   "cell_type": "code",
   "execution_count": null,
   "id": "05f36553",
   "metadata": {},
   "outputs": [],
   "source": [
    "m_grouped.shape"
   ]
  },
  {
   "cell_type": "markdown",
   "id": "5a4375db",
   "metadata": {},
   "source": [
    "# Previous version code\n",
    "```python\n",
    "#acc_db = \"/mnt/c/Users/carizaporras/Downloads/Colibri_tblSpeciesData2015_2018_2021_2Sept2022 (1).accdb\"\n",
    "#schema = pandas_access.read_schema(acc_db)\n",
    "#pd_species = pandas_access.read_table(acc_db, \"tblSpeciesData2015_2018_2021\")\n",
    "#pd_species[\"ColonyName\"] = pd_species[\"ColonyName\"].astype(str)\n",
    "#pd_colonies = pandas_access.read_table(acc_db, \"tblRWCWB_ColonyInventory_2022\")\n",
    "#pd_colonies[\"ColonyName\"] = pd_colonies[\"ColonyName\"].astype(str)\n",
    "#pd_species = pd.merge(pd_species, pd_colonies, on=\"ColonyName\")\n",
    "#pd_species[\"HighResImage_new\"] = f\"{_base_folder}/high_resolution_photos/\"+pd_species['Year'].astype(str)+'/'+pd_species['GeoRegion']+'/'+pd_species['ColonyName']+'/'+pd.to_datetime(pd_species[\"Date\"].astype('str'), format=\"%m/%d/%y %H:%M:%S\").dt.strftime(\"%d%B%y\")+'Camera'+pd_species[\"CameraNumber\"]+'-'+'Card'+(pd_species[\"CardNumber\"].where(~pd_species[\"CardNumber\"].isnull(), other=\"1\"))+\"-\"+pd_species[\"PhotoNumber\"]+\".jpg\"\n",
    "#pd_species[\"screenshot_new\"] = f'{_base_folder}/screenshots/'+pd_species['Year'].astype(str)+'/'+pd_species['GeoRegion']+'/'+pd_species['ColonyName']+'/'+pd.to_datetime(pd_species[\"Date\"].astype('str'), format=\"%m/%d/%y %H:%M:%S\").dt.strftime(\"%d%B%y\")+'Camera'+pd_species[\"CameraNumber\"]+'-'+'Card'+(pd_species[\"CardNumber\"].where(~pd_species[\"CardNumber\"].isnull(), other=\"1\"))+\"-\"+pd_species[\"PhotoNumber\"]+\".jpg\"\n",
    "#pd_species[\"thumbnail_new\"] =  f'{_base_folder}/thumbnails/'+pd_species['Year'].astype(str)+'/'+pd_species['GeoRegion']+'/'+pd_species['ColonyName']+'/'+pd.to_datetime(pd_species[\"Date\"].astype('str'), format=\"%m/%d/%y %H:%M:%S\").dt.strftime(\"%d%B%y\")+'Camera'+pd_species[\"CameraNumber\"]+'-'+'Card'+(pd_species[\"CardNumber\"].where(~pd_species[\"CardNumber\"].isnull(), other=\"1\"))+\"-\"+pd_species[\"PhotoNumber\"]+\".png\"\n",
    "#gdf = gp.GeoDataFrame(\n",
    "#    pd_species, geometry=gp.points_from_xy(pd_species[\"Longitude\"], pd_species[\"Latitude\"]))\n",
    "#set_index([\"State\",\"GeoRegion\",\"ColonyName\",\"Year\", \"Latitude\", \"Longitude\", \"Date\", \"SpeciesCode\"])\n",
    "#pd_species = pd_species.drop(columns=[\"AutoID\",\"Subcolony\"])\n",
    "#gdf[\"huc\"] = \"TBD\"\n",
    "\n",
    "def _convert_to_degress(value):\n",
    "    \"\"\"\n",
    "    Helper function to convert the GPS coordinates stored in the EXIF to degress in float format\n",
    "    Borrowed from: https://gist.github.com/snakeye/fdc372dbf11370fe29eb\n",
    "    Modified to recieve a tuple instead of a exifread.utils.Ratio\n",
    "    :param value:\n",
    "    :type value: tuple\n",
    "    :rtype: float\n",
    "    \"\"\"\n",
    "    d = float(value[0][0]) / float(value[0][1])\n",
    "    m = float(value[1][0]) / float(value[1][1])\n",
    "    s = float(value[2][0]) / float(value[2][1])\n",
    "\n",
    "    return d + (m / 60.0) + (s / 3600.0)\n",
    "```"
   ]
  },
  {
   "cell_type": "markdown",
   "id": "320e71af",
   "metadata": {},
   "source": [
    "# UPDATE Mime types "
   ]
  },
  {
   "cell_type": "code",
   "execution_count": null,
   "id": "33cd5233",
   "metadata": {},
   "outputs": [],
   "source": [
    "def update_mime_type(t, mime=\"image/png\"):\n",
    "    s3_object = avian_data.Object(t)\n",
    "    s3_object.copy_from(CopySource={'Bucket':avian_data.name, 'Key':t}, Metadata=s3_object.metadata,MetadataDirective=\"REPLACE\",ContentType=mime)\n",
    "    \n",
    "def copy_wnew_mime_type(t, k, mime=\"image/png\"):\n",
    "    avian_data.copy({'Bucket':avian_data.name, 'Key':t},k, Metadata=s3_object.metadata,MetadataDirective=\"REPLACE\",ContentType=mime)\n",
    "    "
   ]
  },
  {
   "cell_type": "code",
   "execution_count": null,
   "id": "99084b2a",
   "metadata": {},
   "outputs": [],
   "source": [
    "if replace and create_thumbnails:\n",
    "    m_grouped[\"thumbnail_new\"].progress_apply(lambda t:update_mime_type(t))"
   ]
  },
  {
   "cell_type": "code",
   "execution_count": null,
   "id": "c87814aa",
   "metadata": {},
   "outputs": [],
   "source": [
    "with ThreadPoolExecutor(max_workers=16) as e:\n",
    "    futures = list(tqdm(e.map(lambda t:update_mime_type(t, mime=\"image/jpeg\"),m_grouped[\"HighResImage_new\"].tolist()), total=m_grouped.shape[0]))"
   ]
  },
  {
   "cell_type": "markdown",
   "id": "df1066ff",
   "metadata": {},
   "source": [
    "# Reorganize/rename screenshots"
   ]
  },
  {
   "cell_type": "code",
   "execution_count": 5,
   "id": "0afeeda2",
   "metadata": {},
   "outputs": [],
   "source": [
    "m_grouped = pd.read_excel(\"UsedPhotos2010-2021.xlsx\")\n",
    "#to_rename = pd.read_excel(\"toRename2.xlsx\")\n",
    "to_rename = pd.read_excel(\"/mnt/c/Users/carizaporras/Downloads/Renaming_Final.xlsx\")"
   ]
  },
  {
   "cell_type": "code",
   "execution_count": 6,
   "id": "638a9d72",
   "metadata": {},
   "outputs": [],
   "source": [
    "if not \"Original_Path\" in to_rename:\n",
    "    to_rename[\"Original_Path\"] = to_rename[\"Path\"]\n",
    "    "
   ]
  },
  {
   "cell_type": "code",
   "execution_count": 7,
   "id": "e6b839c9",
   "metadata": {},
   "outputs": [],
   "source": [
    "to_rename = to_rename[[\"HighResImage_new\",\"Original_Path\"]]"
   ]
  },
  {
   "cell_type": "code",
   "execution_count": 8,
   "id": "20407b59",
   "metadata": {},
   "outputs": [],
   "source": [
    "to_rename = to_rename[~(to_rename[\"Original_Path\"].isna() | to_rename[\"Original_Path\"].isna())]"
   ]
  },
  {
   "cell_type": "code",
   "execution_count": 9,
   "id": "1d1a94e0",
   "metadata": {},
   "outputs": [],
   "source": [
    "to_rename[\"Original_Path\"] = to_rename[\"Original_Path\"].str.replace(\"/to82sp\",\"DottedImages\")"
   ]
  },
  {
   "cell_type": "code",
   "execution_count": 10,
   "id": "cc37a652",
   "metadata": {},
   "outputs": [],
   "source": [
    "to_rename = to_rename.merge(m_grouped, on=\"HighResImage_new\")"
   ]
  },
  {
   "cell_type": "code",
   "execution_count": 11,
   "id": "0c5b3a3c",
   "metadata": {},
   "outputs": [],
   "source": [
    "to_rename[\"screenshot_new\"] = to_rename[\"HighResImage_new\"].str.replace(\"/high_resolution_photos/\",\"/screenshots/\")"
   ]
  },
  {
   "cell_type": "code",
   "execution_count": 12,
   "id": "1399b14f",
   "metadata": {},
   "outputs": [
    {
     "data": {
      "text/html": [
       "<div>\n",
       "<style scoped>\n",
       "    .dataframe tbody tr th:only-of-type {\n",
       "        vertical-align: middle;\n",
       "    }\n",
       "\n",
       "    .dataframe tbody tr th {\n",
       "        vertical-align: top;\n",
       "    }\n",
       "\n",
       "    .dataframe thead th {\n",
       "        text-align: right;\n",
       "    }\n",
       "</style>\n",
       "<table border=\"1\" class=\"dataframe\">\n",
       "  <thead>\n",
       "    <tr style=\"text-align: right;\">\n",
       "      <th></th>\n",
       "      <th>screenshot_new</th>\n",
       "      <th>Original_Path</th>\n",
       "    </tr>\n",
       "  </thead>\n",
       "  <tbody>\n",
       "    <tr>\n",
       "      <th>0</th>\n",
       "      <td>avian_monitoring/screenshots/2010/Apalachee Ba...</td>\n",
       "      <td>DottedImages/2010-2013 Dotted Images/2010/KMR ...</td>\n",
       "    </tr>\n",
       "    <tr>\n",
       "      <th>1</th>\n",
       "      <td>avian_monitoring/screenshots/2010/Apalachee Ba...</td>\n",
       "      <td>DottedImages/2010-2013 Dotted Images/2010/KMR ...</td>\n",
       "    </tr>\n",
       "    <tr>\n",
       "      <th>2</th>\n",
       "      <td>avian_monitoring/screenshots/2010/Apalachee Ba...</td>\n",
       "      <td>DottedImages/2010-2013 Dotted Images/2010/KMR ...</td>\n",
       "    </tr>\n",
       "    <tr>\n",
       "      <th>3</th>\n",
       "      <td>avian_monitoring/screenshots/2010/Apalachee Ba...</td>\n",
       "      <td>DottedImages/2010-2013 Dotted Images/2010/KMR ...</td>\n",
       "    </tr>\n",
       "    <tr>\n",
       "      <th>4</th>\n",
       "      <td>avian_monitoring/screenshots/2010/Apalachee Ba...</td>\n",
       "      <td>DottedImages/2010-2013 Dotted Images/2010/KMR ...</td>\n",
       "    </tr>\n",
       "    <tr>\n",
       "      <th>...</th>\n",
       "      <td>...</td>\n",
       "      <td>...</td>\n",
       "    </tr>\n",
       "    <tr>\n",
       "      <th>15664</th>\n",
       "      <td>avian_monitoring/screenshots/2021/Vermilion Ba...</td>\n",
       "      <td>DottedImages/Task 2 2021 Waterbird Colony Phot...</td>\n",
       "    </tr>\n",
       "    <tr>\n",
       "      <th>15665</th>\n",
       "      <td>avian_monitoring/screenshots/2021/Vermilion Ba...</td>\n",
       "      <td>DottedImages/Task 2 2021 Waterbird Colony Phot...</td>\n",
       "    </tr>\n",
       "    <tr>\n",
       "      <th>15666</th>\n",
       "      <td>avian_monitoring/screenshots/2021/Vermilion Ba...</td>\n",
       "      <td>DottedImages/Task 2 2021 Waterbird Colony Phot...</td>\n",
       "    </tr>\n",
       "    <tr>\n",
       "      <th>15667</th>\n",
       "      <td>avian_monitoring/screenshots/2021/Vermilion Ba...</td>\n",
       "      <td>DottedImages/Task 2 2021 Waterbird Colony Phot...</td>\n",
       "    </tr>\n",
       "    <tr>\n",
       "      <th>15668</th>\n",
       "      <td>avian_monitoring/screenshots/2021/Vermilion Ba...</td>\n",
       "      <td>DottedImages/Task 2 2021 Waterbird Colony Phot...</td>\n",
       "    </tr>\n",
       "  </tbody>\n",
       "</table>\n",
       "<p>15669 rows × 2 columns</p>\n",
       "</div>"
      ],
      "text/plain": [
       "                                          screenshot_new  \\\n",
       "0      avian_monitoring/screenshots/2010/Apalachee Ba...   \n",
       "1      avian_monitoring/screenshots/2010/Apalachee Ba...   \n",
       "2      avian_monitoring/screenshots/2010/Apalachee Ba...   \n",
       "3      avian_monitoring/screenshots/2010/Apalachee Ba...   \n",
       "4      avian_monitoring/screenshots/2010/Apalachee Ba...   \n",
       "...                                                  ...   \n",
       "15664  avian_monitoring/screenshots/2021/Vermilion Ba...   \n",
       "15665  avian_monitoring/screenshots/2021/Vermilion Ba...   \n",
       "15666  avian_monitoring/screenshots/2021/Vermilion Ba...   \n",
       "15667  avian_monitoring/screenshots/2021/Vermilion Ba...   \n",
       "15668  avian_monitoring/screenshots/2021/Vermilion Ba...   \n",
       "\n",
       "                                           Original_Path  \n",
       "0      DottedImages/2010-2013 Dotted Images/2010/KMR ...  \n",
       "1      DottedImages/2010-2013 Dotted Images/2010/KMR ...  \n",
       "2      DottedImages/2010-2013 Dotted Images/2010/KMR ...  \n",
       "3      DottedImages/2010-2013 Dotted Images/2010/KMR ...  \n",
       "4      DottedImages/2010-2013 Dotted Images/2010/KMR ...  \n",
       "...                                                  ...  \n",
       "15664  DottedImages/Task 2 2021 Waterbird Colony Phot...  \n",
       "15665  DottedImages/Task 2 2021 Waterbird Colony Phot...  \n",
       "15666  DottedImages/Task 2 2021 Waterbird Colony Phot...  \n",
       "15667  DottedImages/Task 2 2021 Waterbird Colony Phot...  \n",
       "15668  DottedImages/Task 2 2021 Waterbird Colony Phot...  \n",
       "\n",
       "[15669 rows x 2 columns]"
      ]
     },
     "execution_count": 12,
     "metadata": {},
     "output_type": "execute_result"
    }
   ],
   "source": [
    "to_rename[[\"screenshot_new\", \"Original_Path\"]] "
   ]
  },
  {
   "cell_type": "code",
   "execution_count": 13,
   "id": "fa849114",
   "metadata": {},
   "outputs": [],
   "source": [
    "def rename(key, new_name, replace=False):\n",
    "    if not replace and list(avian_data.objects.filter(Prefix=key)): \n",
    "        return\n",
    "\n",
    "    try:\n",
    "        avian_data.copy({'Bucket': avian_data.name,'Key':key},new_name)\n",
    "    except Exception as e:\n",
    "        print(e)\n",
    "        check_lowercase = list(avian_data.objects.filter(Prefix=key.replace(\".JPG\",\".jpg\")))\n",
    "        if check_lowercase:\n",
    "            avian_data.copy({'Bucket': avian_data.name,'Key':key.replace(\".JPG\",\".jpg\")},new_name)\n",
    "            return\n",
    "        check_uppercase = list(avian_data.objects.filter(Prefix=key.replace(\".jpg\",\".JPG\")))\n",
    "        if check_uppercase:\n",
    "            avian_data.copy({'Bucket': avian_data.name,'Key':key.replace(\".jpg\",\".JPG\")},new_name)\n",
    "            return\n",
    "        print(f\"{key} not found\")"
   ]
  },
  {
   "cell_type": "code",
   "execution_count": 16,
   "id": "d047a721",
   "metadata": {},
   "outputs": [
    {
     "data": {
      "application/vnd.jupyter.widget-view+json": {
       "model_id": "e8809038fb5846d68ad5b2223fe51ba6",
       "version_major": 2,
       "version_minor": 0
      },
      "text/plain": [
       "  0%|          | 0/15669 [00:00<?, ?it/s]"
      ]
     },
     "metadata": {},
     "output_type": "display_data"
    },
    {
     "name": "stdout",
     "output_type": "stream",
     "text": [
      "An error occurred (404) when calling the HeadObject operation: Not Found\n",
      "DottedImages/2010-2013 Dotted Images/2010/KKN 2010 Screen Captures/7May10KKN005-AREA07.JPG not found\n",
      "An error occurred (404) when calling the HeadObject operation: Not Found\n",
      "An error occurred (404) when calling the HeadObject operation: Not Found\n",
      "DottedImages/2010-2013 Dotted Images/2011-2012ScreenCaptures_1October2013/KMR_ScreenCaptures/PJC16_17May11/17May11PJC16Area90.JPG not found\n",
      "An error occurred (404) when calling the HeadObject operation: Not Found\n",
      "An error occurred (404) when calling the HeadObject operation: Not Found\n",
      "An error occurred (404) when calling the HeadObject operation: Not Found\n",
      "An error occurred (404) when calling the HeadObject operation: Not Found\n",
      "An error occurred (404) when calling the HeadObject operation: Not FoundAn error occurred (404) when calling the HeadObject operation: Not Found\n",
      "An error occurred (404) when calling the HeadObject operation: Not Found\n",
      "\n",
      "An error occurred (404) when calling the HeadObject operation: Not Found\n",
      "An error occurred (404) when calling the HeadObject operation: Not Found\n",
      "An error occurred (404) when calling the HeadObject operation: Not Found\n",
      "An error occurred (404) when calling the HeadObject operation: Not Found\n",
      "An error occurred (404) when calling the HeadObject operation: Not Found\n",
      "An error occurred (404) when calling the HeadObject operation: Not Found\n",
      "An error occurred (404) when calling the HeadObject operation: Not Found\n",
      "An error occurred (404) when calling the HeadObject operation: Not FoundAn error occurred (404) when calling the HeadObject operation: Not Found\n",
      "\n",
      "DottedImages/2010-2013 Dotted Images/2011-2012ScreenCaptures_1October2013/MWP_ScreenCaptures/2011/May 2011/Gaillard Island/20 May 2011/20May2011 Gaillard island MWP8 Area22.JPG not found\n",
      "DottedImages/2010-2013 Dotted Images/2011-2012ScreenCaptures_1October2013/MWP_ScreenCaptures/2011/May 2011/Gaillard Island/20 May 2011/20May2011 Gaillard island MWP8 Area69.JPG not foundDottedImages/2010-2013 Dotted Images/2011-2012ScreenCaptures_1October2013/MWP_ScreenCaptures/2011/May 2011/Gaillard Island/20 May 2011/20May2011 Gaillard island MWP8 Area29.JPG not found\n",
      "\n",
      "DottedImages/2010-2013 Dotted Images/2011-2012ScreenCaptures_1October2013/MWP_ScreenCaptures/2011/May 2011/Gaillard Island/20 May 2011/20May2011 Gaillard island MWP8 Area31.JPG not found\n",
      "DottedImages/2010-2013 Dotted Images/2011-2012ScreenCaptures_1October2013/MWP_ScreenCaptures/2011/May 2011/Gaillard Island/20 May 2011/20May2011 Gaillard island MWP8 Area41.JPG not found\n",
      "DottedImages/2010-2013 Dotted Images/2011-2012ScreenCaptures_1October2013/MWP_ScreenCaptures/2011/May 2011/Gaillard Island/20 May 2011/20May2011 Gaillard island MWP8 Area185.JPG not found\n",
      "DottedImages/2010-2013 Dotted Images/2011-2012ScreenCaptures_1October2013/MWP_ScreenCaptures/2011/May 2011/Gaillard Island/20 May 2011/20May2011 Gaillard island MWP8 Area39.JPG not found\n",
      "DottedImages/2010-2013 Dotted Images/2011-2012ScreenCaptures_1October2013/MWP_ScreenCaptures/2011/May 2011/Gaillard Island/20 May 2011/20May2011 Gaillard island MWP8 Area21.JPG not found\n",
      "DottedImages/2010-2013 Dotted Images/2011-2012ScreenCaptures_1October2013/MWP_ScreenCaptures/2011/May 2011/Gaillard Island/20 May 2011/20May2011 Gaillard island MWP8 Area75.JPG not found\n",
      "DottedImages/2010-2013 Dotted Images/2011-2012ScreenCaptures_1October2013/MWP_ScreenCaptures/2011/May 2011/Gaillard Island/20 May 2011/20May2011 Gaillard island MWP8 Area17.JPG not found\n",
      "DottedImages/2010-2013 Dotted Images/2011-2012ScreenCaptures_1October2013/MWP_ScreenCaptures/2011/May 2011/Gaillard Island/20 May 2011/20May2011 Gaillard island MWP8 Area30.JPG not found\n",
      "DottedImages/2010-2013 Dotted Images/2011-2012ScreenCaptures_1October2013/MWP_ScreenCaptures/2011/May 2011/Gaillard Island/20 May 2011/20May2011 Gaillard island MWP8 Area165.JPG not found\n",
      "DottedImages/2010-2013 Dotted Images/2011-2012ScreenCaptures_1October2013/MWP_ScreenCaptures/2011/May 2011/Gaillard Island/20 May 2011/20May2011 Gaillard island MWP8 Area74.JPG not found\n",
      "DottedImages/2010-2013 Dotted Images/2011-2012ScreenCaptures_1October2013/MWP_ScreenCaptures/2011/May 2011/Gaillard Island/20 May 2011/20May2011 Gaillard island MWP8 Area71.JPG not found\n",
      "DottedImages/2010-2013 Dotted Images/2011-2012ScreenCaptures_1October2013/MWP_ScreenCaptures/2011/May 2011/Gaillard Island/20 May 2011/20May2011 Gaillard island MWP8 Area70.JPG not found\n",
      "DottedImages/2010-2013 Dotted Images/2011-2012ScreenCaptures_1October2013/MWP_ScreenCaptures/2011/May 2011/Gaillard Island/20 May 2011/20May2011 Gaillard island MWP8 Area67.JPG not found\n",
      "An error occurred (404) when calling the HeadObject operation: Not Found\n",
      "An error occurred (404) when calling the HeadObject operation: Not Found\n",
      "An error occurred (404) when calling the HeadObject operation: Not Found\n",
      "An error occurred (404) when calling the HeadObject operation: Not Found\n",
      "An error occurred (404) when calling the HeadObject operation: Not Found\n",
      "An error occurred (404) when calling the HeadObject operation: Not FoundAn error occurred (404) when calling the HeadObject operation: Not Found\n",
      "An error occurred (404) when calling the HeadObject operation: Not FoundAn error occurred (404) when calling the HeadObject operation: Not Found\n",
      "An error occurred (404) when calling the HeadObject operation: Not Found\n",
      "\n",
      "An error occurred (404) when calling the HeadObject operation: Not Found\n",
      "An error occurred (404) when calling the HeadObject operation: Not FoundAn error occurred (404) when calling the HeadObject operation: Not Found\n",
      "\n",
      "An error occurred (404) when calling the HeadObject operation: Not Found\n",
      "An error occurred (404) when calling the HeadObject operation: Not Found\n",
      "\n",
      "An error occurred (404) when calling the HeadObject operation: Not Found\n",
      "DottedImages/2010-2013 Dotted Images/2011-2012ScreenCaptures_1October2013/MWP_ScreenCaptures/2011/May 2011/Gaillard Island/20 May 2011/20May2011 Gaillard island MWP8 Area10.JPG not found\n",
      "DottedImages/2010-2013 Dotted Images/2011-2012ScreenCaptures_1October2013/MWP_ScreenCaptures/2011/May 2011/Gaillard Island/20 May 2011/20May2011 Gaillard island MWP8 Area101.JPG not found\n",
      "DottedImages/2010-2013 Dotted Images/2011-2012ScreenCaptures_1October2013/MWP_ScreenCaptures/2011/May 2011/Gaillard Island/20 May 2011/20May2011 Gaillard island MWP8 Area100.JPG not found\n",
      "DottedImages/2010-2013 Dotted Images/2011-2012ScreenCaptures_1October2013/MWP_ScreenCaptures/2011/May 2011/Gaillard Island/20 May 2011/20May2011 Gaillard island MWP8 Area104.JPG not found\n",
      "DottedImages/2010-2013 Dotted Images/2011-2012ScreenCaptures_1October2013/MWP_ScreenCaptures/2011/May 2011/Gaillard Island/20 May 2011/20May2011 Gaillard island MWP8 Area103.JPG not found\n",
      "DottedImages/2010-2013 Dotted Images/2011-2012ScreenCaptures_1October2013/MWP_ScreenCaptures/2011/May 2011/Gaillard Island/20 May 2011/20May2011 Gaillard island MWP8 Area208.JPG not found\n",
      "DottedImages/2010-2013 Dotted Images/2011-2012ScreenCaptures_1October2013/MWP_ScreenCaptures/2011/May 2011/Gaillard Island/20 May 2011/20May2011 Gaillard island MWP8 Area110.JPG not found\n",
      "DottedImages/2010-2013 Dotted Images/2011-2012ScreenCaptures_1October2013/MWP_ScreenCaptures/2011/May 2011/Gaillard Island/20 May 2011/20May2011 Gaillard island MWP8 Area206.JPG not found\n",
      "DottedImages/2010-2013 Dotted Images/2011-2012ScreenCaptures_1October2013/MWP_ScreenCaptures/2011/May 2011/Gaillard Island/20 May 2011/20May2011 Gaillard island MWP8 Area112.JPG not found\n",
      "DottedImages/2010-2013 Dotted Images/2011-2012ScreenCaptures_1October2013/MWP_ScreenCaptures/2011/May 2011/Gaillard Island/20 May 2011/20May2011 Gaillard island MWP8 Area109.JPG not found\n",
      "DottedImages/2010-2013 Dotted Images/2011-2012ScreenCaptures_1October2013/MWP_ScreenCaptures/2011/May 2011/Gaillard Island/20 May 2011/20May2011 Gaillard island MWP8 Area106.JPG not found\n",
      "DottedImages/2010-2013 Dotted Images/2011-2012ScreenCaptures_1October2013/MWP_ScreenCaptures/2011/May 2011/Gaillard Island/20 May 2011/20May2011 Gaillard island MWP8 Area102.JPG not found\n",
      "DottedImages/2010-2013 Dotted Images/2011-2012ScreenCaptures_1October2013/MWP_ScreenCaptures/2011/May 2011/Gaillard Island/20 May 2011/20May2011 Gaillard island MWP8 Area111.JPG not found\n",
      "DottedImages/2010-2013 Dotted Images/2011-2012ScreenCaptures_1October2013/MWP_ScreenCaptures/2011/May 2011/Gaillard Island/20 May 2011/20May2011 Gaillard island MWP8 Area105.JPG not found\n",
      "DottedImages/2010-2013 Dotted Images/2011-2012ScreenCaptures_1October2013/MWP_ScreenCaptures/2011/May 2011/Gaillard Island/20 May 2011/20May2011 Gaillard island MWP8 Area108.JPG not foundAn error occurred (404) when calling the HeadObject operation: Not Found\n",
      "DottedImages/2010-2013 Dotted Images/2011-2012ScreenCaptures_1October2013/MWP_ScreenCaptures/2011/May 2011/Gaillard Island/20 May 2011/20May2011 Gaillard island MWP8 Area107.JPG not found\n",
      "An error occurred (404) when calling the HeadObject operation: Not Found\n",
      "\n",
      "An error occurred (404) when calling the HeadObject operation: Not Found\n",
      "An error occurred (404) when calling the HeadObject operation: Not Found\n",
      "An error occurred (404) when calling the HeadObject operation: Not Found\n",
      "An error occurred (404) when calling the HeadObject operation: Not Found\n",
      "An error occurred (404) when calling the HeadObject operation: Not Found\n",
      "An error occurred (404) when calling the HeadObject operation: Not FoundAn error occurred (404) when calling the HeadObject operation: Not Found\n",
      "\n",
      "An error occurred (404) when calling the HeadObject operation: Not FoundAn error occurred (404) when calling the HeadObject operation: Not Found\n",
      "\n",
      "An error occurred (404) when calling the HeadObject operation: Not Found\n",
      "An error occurred (404) when calling the HeadObject operation: Not Found\n",
      "An error occurred (404) when calling the HeadObject operation: Not Found\n"
     ]
    },
    {
     "name": "stdout",
     "output_type": "stream",
     "text": [
      "DottedImages/2010-2013 Dotted Images/2011-2012ScreenCaptures_1October2013/MWP_ScreenCaptures/2011/May 2011/Gaillard Island/20 May 2011/20May2011 Gaillard island MWP8 Area115.JPG not found\n",
      "DottedImages/2010-2013 Dotted Images/2011-2012ScreenCaptures_1October2013/MWP_ScreenCaptures/2011/May 2011/Gaillard Island/20 May 2011/20May2011 Gaillard island MWP8 Area122.JPG not found\n",
      "DottedImages/2010-2013 Dotted Images/2011-2012ScreenCaptures_1October2013/MWP_ScreenCaptures/2011/May 2011/Gaillard Island/20 May 2011/20May2011 Gaillard island MWP8 Area116.JPG not foundAn error occurred (404) when calling the HeadObject operation: Not Found\n",
      "\n",
      "An error occurred (404) when calling the HeadObject operation: Not Found\n",
      "DottedImages/2010-2013 Dotted Images/2011-2012ScreenCaptures_1October2013/MWP_ScreenCaptures/2011/May 2011/Gaillard Island/20 May 2011/20May2011 Gaillard island MWP8 Area124.JPG not found\n",
      "DottedImages/2010-2013 Dotted Images/2011-2012ScreenCaptures_1October2013/MWP_ScreenCaptures/2011/May 2011/Gaillard Island/20 May 2011/20May2011 Gaillard island MWP8 Area118.JPG not found\n",
      "DottedImages/2010-2013 Dotted Images/2011-2012ScreenCaptures_1October2013/MWP_ScreenCaptures/2011/May 2011/Gaillard Island/20 May 2011/20May2011 Gaillard island MWP8 Area125.JPG not found\n",
      "DottedImages/2010-2013 Dotted Images/2011-2012ScreenCaptures_1October2013/MWP_ScreenCaptures/2011/May 2011/Gaillard Island/20 May 2011/20May2011 Gaillard island MWP8 Area123.JPG not found\n",
      "DottedImages/2010-2013 Dotted Images/2011-2012ScreenCaptures_1October2013/MWP_ScreenCaptures/2011/May 2011/Gaillard Island/20 May 2011/20May2011 Gaillard island MWP8 Area117.JPG not found\n",
      "DottedImages/2010-2013 Dotted Images/2011-2012ScreenCaptures_1October2013/MWP_ScreenCaptures/2011/May 2011/Gaillard Island/20 May 2011/20May2011 Gaillard island MWP8 Area126.JPG not found\n",
      "DottedImages/2010-2013 Dotted Images/2011-2012ScreenCaptures_1October2013/MWP_ScreenCaptures/2011/May 2011/Gaillard Island/20 May 2011/20May2011 Gaillard island MWP8 Area127.JPG not found\n",
      "DottedImages/2010-2013 Dotted Images/2011-2012ScreenCaptures_1October2013/MWP_ScreenCaptures/2011/May 2011/Gaillard Island/20 May 2011/20May2011 Gaillard island MWP8 Area119.JPG not found\n",
      "DottedImages/2010-2013 Dotted Images/2011-2012ScreenCaptures_1October2013/MWP_ScreenCaptures/2011/May 2011/Gaillard Island/20 May 2011/20May2011 Gaillard island MWP8 Area120.JPG not found\n",
      "DottedImages/2010-2013 Dotted Images/2011-2012ScreenCaptures_1October2013/MWP_ScreenCaptures/2011/May 2011/Gaillard Island/20 May 2011/20May2011 Gaillard island MWP8 Area121.JPG not found\n",
      "DottedImages/2010-2013 Dotted Images/2011-2012ScreenCaptures_1October2013/MWP_ScreenCaptures/2011/May 2011/Gaillard Island/20 May 2011/20May2011 Gaillard island MWP8 Area128.JPG not found\n",
      "DottedImages/2010-2013 Dotted Images/2011-2012ScreenCaptures_1October2013/MWP_ScreenCaptures/2011/May 2011/Gaillard Island/20 May 2011/20May2011 Gaillard island MWP8 Area63.JPG not found\n",
      "An error occurred (404) when calling the HeadObject operation: Not Found\n",
      "DottedImages/2010-2013 Dotted Images/2011-2012ScreenCaptures_1October2013/MWP_ScreenCaptures/2011/May 2011/Gaillard Island/20 May 2011/20May2011 Gaillard island MWP8 Area64.JPG not found\n",
      "An error occurred (404) when calling the HeadObject operation: Not Found\n",
      "An error occurred (404) when calling the HeadObject operation: Not Found\n",
      "An error occurred (404) when calling the HeadObject operation: Not Found\n",
      "An error occurred (404) when calling the HeadObject operation: Not Found\n",
      "An error occurred (404) when calling the HeadObject operation: Not Found\n",
      "An error occurred (404) when calling the HeadObject operation: Not FoundAn error occurred (404) when calling the HeadObject operation: Not Found\n",
      "\n",
      "An error occurred (404) when calling the HeadObject operation: Not Found\n",
      "An error occurred (404) when calling the HeadObject operation: Not Found\n",
      "An error occurred (404) when calling the HeadObject operation: Not Found\n",
      "DottedImages/2010-2013 Dotted Images/2011-2012ScreenCaptures_1October2013/MWP_ScreenCaptures/2011/May 2011/Gaillard Island/20 May 2011/20May2011 Gaillard island MWP8 Area65.JPG not found\n",
      "DottedImages/2010-2013 Dotted Images/2011-2012ScreenCaptures_1October2013/MWP_ScreenCaptures/2011/May 2011/Gaillard Island/20 May 2011/20May2011 Gaillard island MWP8 Area66.JPG not found\n",
      "An error occurred (404) when calling the HeadObject operation: Not Found\n",
      "An error occurred (404) when calling the HeadObject operation: Not Found\n",
      "An error occurred (404) when calling the HeadObject operation: Not Found\n",
      "DottedImages/2010-2013 Dotted Images/2011-2012ScreenCaptures_1October2013/MWP_ScreenCaptures/2011/May 2011/Gaillard Island/20 May 2011/20May2011 Gaillard island MWP8 Area134.JPG not found\n",
      "DottedImages/2010-2013 Dotted Images/2011-2012ScreenCaptures_1October2013/MWP_ScreenCaptures/2011/May 2011/Gaillard Island/20 May 2011/20May2011 Gaillard island MWP8 Area135.JPG not found\n",
      "DottedImages/2010-2013 Dotted Images/2011-2012ScreenCaptures_1October2013/MWP_ScreenCaptures/2011/May 2011/Gaillard Island/20 May 2011/20May2011 Gaillard island MWP8 Area195.JPG not foundDottedImages/2010-2013 Dotted Images/2011-2012ScreenCaptures_1October2013/MWP_ScreenCaptures/2011/May 2011/Gaillard Island/20 May 2011/20May2011 Gaillard island MWP8 Area175.JPG not found\n",
      "\n",
      "DottedImages/2010-2013 Dotted Images/2011-2012ScreenCaptures_1October2013/MWP_ScreenCaptures/2011/May 2011/Gaillard Island/20 May 2011/20May2011 Gaillard island MWP8 Area179.JPG not foundDottedImages/2010-2013 Dotted Images/2011-2012ScreenCaptures_1October2013/MWP_ScreenCaptures/2011/May 2011/Gaillard Island/20 May 2011/20May2011 Gaillard island MWP8 Area177.JPG not foundDottedImages/2010-2013 Dotted Images/2011-2012ScreenCaptures_1October2013/MWP_ScreenCaptures/2011/May 2011/Gaillard Island/20 May 2011/20May2011 Gaillard island MWP8 Area176.JPG not found\n",
      "\n",
      "DottedImages/2010-2013 Dotted Images/2011-2012ScreenCaptures_1October2013/MWP_ScreenCaptures/2011/May 2011/Gaillard Island/20 May 2011/20May2011 Gaillard island MWP8 Area180.JPG not found\n",
      "\n",
      "DottedImages/2010-2013 Dotted Images/2011-2012ScreenCaptures_1October2013/MWP_ScreenCaptures/2011/May 2011/Gaillard Island/20 May 2011/20May2011 Gaillard island MWP8 Area136.JPG not foundAn error occurred (404) when calling the HeadObject operation: Not Found\n",
      "\n",
      "DottedImages/2010-2013 Dotted Images/2011-2012ScreenCaptures_1October2013/MWP_ScreenCaptures/2011/May 2011/Gaillard Island/20 May 2011/20May2011 Gaillard island MWP8 Area198.JPG not found\n",
      "DottedImages/2010-2013 Dotted Images/2011-2012ScreenCaptures_1October2013/MWP_ScreenCaptures/2011/May 2011/Gaillard Island/20 May 2011/20May2011 Gaillard island MWP8 Area197.JPG not found\n",
      "An error occurred (404) when calling the HeadObject operation: Not Found\n",
      "An error occurred (404) when calling the HeadObject operation: Not Found\n",
      "DottedImages/2010-2013 Dotted Images/2011-2012ScreenCaptures_1October2013/MWP_ScreenCaptures/2011/May 2011/Gaillard Island/20 May 2011/20May2011 Gaillard island MWP8 Area196.JPG not foundAn error occurred (404) when calling the HeadObject operation: Not Found\n",
      "\n",
      "An error occurred (404) when calling the HeadObject operation: Not FoundAn error occurred (404) when calling the HeadObject operation: Not Found\n",
      "\n",
      "An error occurred (404) when calling the HeadObject operation: Not FoundAn error occurred (404) when calling the HeadObject operation: Not Found\n",
      "An error occurred (404) when calling the HeadObject operation: Not Found\n",
      "\n",
      "An error occurred (404) when calling the HeadObject operation: Not Found\n",
      "An error occurred (404) when calling the HeadObject operation: Not Found\n",
      "DottedImages/2010-2013 Dotted Images/2011-2012ScreenCaptures_1October2013/MWP_ScreenCaptures/2011/May 2011/Gaillard Island/20 May 2011/20May2011 Gaillard island MWP8 Area200.JPG not found\n",
      "DottedImages/2010-2013 Dotted Images/2011-2012ScreenCaptures_1October2013/MWP_ScreenCaptures/2011/May 2011/Gaillard Island/20 May 2011/20May2011 Gaillard island MWP8 Area199.JPG not found\n",
      "DottedImages/2010-2013 Dotted Images/2011-2012ScreenCaptures_1October2013/MWP_ScreenCaptures/2011/May 2011/Gaillard Island/20 May 2011/20May2011 Gaillard island MWP8 Area88.JPG not found\n",
      "An error occurred (404) when calling the HeadObject operation: Not FoundAn error occurred (404) when calling the HeadObject operation: Not Found\n",
      "\n",
      "An error occurred (404) when calling the HeadObject operation: Not FoundAn error occurred (404) when calling the HeadObject operation: Not Found\n",
      "\n",
      "An error occurred (404) when calling the HeadObject operation: Not Found\n",
      "DottedImages/2010-2013 Dotted Images/2011-2012ScreenCaptures_1October2013/MWP_ScreenCaptures/2011/May 2011/Gaillard Island/20 May 2011/20May2011 Gaillard island MWP8 Area201.JPG not found\n",
      "DottedImages/2010-2013 Dotted Images/2011-2012ScreenCaptures_1October2013/MWP_ScreenCaptures/2011/May 2011/Gaillard Island/20 May 2011/20May2011 Gaillard island MWP8 Area204.JPG not foundDottedImages/2010-2013 Dotted Images/2011-2012ScreenCaptures_1October2013/MWP_ScreenCaptures/2011/May 2011/Gaillard Island/20 May 2011/20May2011 Gaillard island MWP8 Area178.JPG not found\n",
      "\n",
      "DottedImages/2010-2013 Dotted Images/2011-2012ScreenCaptures_1October2013/MWP_ScreenCaptures/2011/May 2011/Gaillard Island/20 May 2011/20May2011 Gaillard island MWP8 Area202.JPG not found\n",
      "DottedImages/2010-2013 Dotted Images/2011-2012ScreenCaptures_1October2013/MWP_ScreenCaptures/2011/May 2011/Gaillard Island/20 May 2011/20May2011 Gaillard island MWP8 Area167.JPG not found\n",
      "DottedImages/2010-2013 Dotted Images/2011-2012ScreenCaptures_1October2013/MWP_ScreenCaptures/2011/May 2011/Gaillard Island/20 May 2011/20May2011 Gaillard island MWP8 Area168.JPG not found\n",
      "DottedImages/2010-2013 Dotted Images/2011-2012ScreenCaptures_1October2013/MWP_ScreenCaptures/2011/May 2011/Gaillard Island/20 May 2011/20May2011 Gaillard island MWP8 Area203.JPG not found\n",
      "DottedImages/2010-2013 Dotted Images/2011-2012ScreenCaptures_1October2013/MWP_ScreenCaptures/2011/May 2011/Gaillard Island/20 May 2011/20May2011 Gaillard island MWP8 Area171.JPG not found\n",
      "An error occurred (404) when calling the HeadObject operation: Not Found\n",
      "An error occurred (404) when calling the HeadObject operation: Not Found\n",
      "DottedImages/2010-2013 Dotted Images/2011-2012ScreenCaptures_1October2013/MWP_ScreenCaptures/2011/May 2011/Gaillard Island/20 May 2011/20May2011 Gaillard island MWP8 Area18.JPG not foundDottedImages/2010-2013 Dotted Images/2011-2012ScreenCaptures_1October2013/MWP_ScreenCaptures/2011/May 2011/Gaillard Island/20 May 2011/20May2011 Gaillard island MWP8 Area172.JPG not found\n",
      "DottedImages/2010-2013 Dotted Images/2011-2012ScreenCaptures_1October2013/MWP_ScreenCaptures/2011/May 2011/Gaillard Island/20 May 2011/20May2011 Gaillard island MWP8 Area169.JPG not found\n",
      "\n",
      "DottedImages/2010-2013 Dotted Images/2011-2012ScreenCaptures_1October2013/MWP_ScreenCaptures/2011/May 2011/Gaillard Island/20 May 2011/20May2011 Gaillard island MWP8 Area173.JPG not found\n",
      "DottedImages/2010-2013 Dotted Images/2011-2012ScreenCaptures_1October2013/MWP_ScreenCaptures/2011/May 2011/Gaillard Island/20 May 2011/20May2011 Gaillard island MWP8 Area170.JPG not found\n"
     ]
    },
    {
     "name": "stdout",
     "output_type": "stream",
     "text": [
      "An error occurred (404) when calling the HeadObject operation: Not Found\n",
      "An error occurred (404) when calling the HeadObject operation: Not Found\n",
      "An error occurred (404) when calling the HeadObject operation: Not Found\n",
      "An error occurred (404) when calling the HeadObject operation: Not Found\n",
      "An error occurred (404) when calling the HeadObject operation: Not Found\n",
      "An error occurred (404) when calling the HeadObject operation: Not Found\n",
      "An error occurred (404) when calling the HeadObject operation: Not Found\n",
      "DottedImages/2010-2013 Dotted Images/2011-2012ScreenCaptures_1October2013/MWP_ScreenCaptures/2011/May 2011/Gaillard Island/20 May 2011/20May2011 Gaillard island MWP8 Area174.JPG not found\n",
      "DottedImages/2010-2013 Dotted Images/2011-2012ScreenCaptures_1October2013/MWP_ScreenCaptures/2011/May 2011/Gaillard Island/20 May 2011/20May2011 Gaillard island MWP8 Area193.JPG not found\n",
      "An error occurred (404) when calling the HeadObject operation: Not Found\n",
      "An error occurred (404) when calling the HeadObject operation: Not Found\n",
      "An error occurred (404) when calling the HeadObject operation: Not Found\n",
      "An error occurred (404) when calling the HeadObject operation: Not Found\n",
      "An error occurred (404) when calling the HeadObject operation: Not Found\n",
      "An error occurred (404) when calling the HeadObject operation: Not Found\n",
      "DottedImages/2010-2013 Dotted Images/2011-2012ScreenCaptures_1October2013/MWP_ScreenCaptures/2011/May 2011/Gaillard Island/20 May 2011/20May2011 Gaillard island MWP8 Area192.JPG not found\n",
      "DottedImages/2010-2013 Dotted Images/2011-2012ScreenCaptures_1October2013/MWP_ScreenCaptures/2011/May 2011/Gaillard Island/20 May 2011/20May2011 Gaillard island MWP8 Area25.JPG not found\n",
      "DottedImages/2010-2013 Dotted Images/2011-2012ScreenCaptures_1October2013/MWP_ScreenCaptures/2011/May 2011/Gaillard Island/20 May 2011/20May2011 Gaillard island MWP8 Area26.JPG not found\n",
      "DottedImages/2010-2013 Dotted Images/2011-2012ScreenCaptures_1October2013/MWP_ScreenCaptures/2011/May 2011/Gaillard Island/20 May 2011/20May2011 Gaillard island MWP8 Area26.JPG not found\n",
      "DottedImages/2010-2013 Dotted Images/2011-2012ScreenCaptures_1October2013/MWP_ScreenCaptures/2011/May 2011/Gaillard Island/20 May 2011/20May2011 Gaillard island MWP8 Area155.JPG not found\n",
      "DottedImages/2010-2013 Dotted Images/2011-2012ScreenCaptures_1October2013/MWP_ScreenCaptures/2011/May 2011/Gaillard Island/20 May 2011/20May2011 Gaillard island MWP8 Area154.JPG not found\n",
      "An error occurred (404) when calling the HeadObject operation: Not Found\n",
      "DottedImages/2010-2013 Dotted Images/2011-2012ScreenCaptures_1October2013/MWP_ScreenCaptures/2011/May 2011/Gaillard Island/20 May 2011/20May2011 Gaillard island MWP8 Area157.JPG not found\n",
      "DottedImages/2010-2013 Dotted Images/2011-2012ScreenCaptures_1October2013/MWP_ScreenCaptures/2011/May 2011/Gaillard Island/20 May 2011/20May2011 Gaillard island MWP8 Area151.JPG not found\n",
      "DottedImages/2010-2013 Dotted Images/2011-2012ScreenCaptures_1October2013/MWP_ScreenCaptures/2011/May 2011/Gaillard Island/20 May 2011/20May2011 Gaillard island MWP8 Area26.JPG not found\n",
      "DottedImages/2010-2013 Dotted Images/2011-2012ScreenCaptures_1October2013/MWP_ScreenCaptures/2011/May 2011/Gaillard Island/20 May 2011/20May2011 Gaillard island MWP8 Area150.JPG not found\n",
      "DottedImages/2010-2013 Dotted Images/2011-2012ScreenCaptures_1October2013/MWP_ScreenCaptures/2011/May 2011/Gaillard Island/20 May 2011/20May2011 Gaillard island MWP8 Area27.JPG not found\n",
      "An error occurred (404) when calling the HeadObject operation: Not Found\n",
      "An error occurred (404) when calling the HeadObject operation: Not Found\n",
      "An error occurred (404) when calling the HeadObject operation: Not Found\n",
      "An error occurred (404) when calling the HeadObject operation: Not Found\n",
      "An error occurred (404) when calling the HeadObject operation: Not Found\n",
      "An error occurred (404) when calling the HeadObject operation: Not Found\n",
      "DottedImages/2010-2013 Dotted Images/2011-2012ScreenCaptures_1October2013/MWP_ScreenCaptures/2011/May 2011/Gaillard Island/20 May 2011/20May2011 Gaillard island MWP8 Area28.JPG not found\n",
      "An error occurred (404) when calling the HeadObject operation: Not Found\n",
      "An error occurred (404) when calling the HeadObject operation: Not Found\n",
      "DottedImages/2010-2013 Dotted Images/2011-2012ScreenCaptures_1October2013/MWP_ScreenCaptures/2011/May 2011/Gaillard Island/20 May 2011/20May2011 Gaillard island MWP8 Area153.JPG not found\n",
      "DottedImages/2010-2013 Dotted Images/2011-2012ScreenCaptures_1October2013/MWP_ScreenCaptures/2011/May 2011/Gaillard Island/20 May 2011/20May2011 Gaillard island MWP8 Area156.JPG not found\n",
      "DottedImages/2010-2013 Dotted Images/2011-2012ScreenCaptures_1October2013/MWP_ScreenCaptures/2011/May 2011/Gaillard Island/20 May 2011/20May2011 Gaillard island MWP8 Area211.JPG not found\n",
      "DottedImages/2010-2013 Dotted Images/2011-2012ScreenCaptures_1October2013/MWP_ScreenCaptures/2011/May 2011/Gaillard Island/20 May 2011/20May2011 Gaillard island MWP8 Area160.JPG not foundDottedImages/2010-2013 Dotted Images/2011-2012ScreenCaptures_1October2013/MWP_ScreenCaptures/2011/May 2011/Gaillard Island/20 May 2011/20May2011 Gaillard island MWP8 Area158.JPG not found\n",
      "\n",
      "DottedImages/2010-2013 Dotted Images/2011-2012ScreenCaptures_1October2013/MWP_ScreenCaptures/2011/May 2011/Gaillard Island/20 May 2011/20May2011 Gaillard island MWP8 Area212.JPG not found\n",
      "DottedImages/2010-2013 Dotted Images/2011-2012ScreenCaptures_1October2013/MWP_ScreenCaptures/2011/May 2011/Gaillard Island/20 May 2011/20May2011 Gaillard island MWP8 Area152.JPG not found\n",
      "DottedImages/2010-2013 Dotted Images/2011-2012ScreenCaptures_1October2013/MWP_ScreenCaptures/2011/May 2011/Gaillard Island/20 May 2011/20May2011 Gaillard island MWP8 Area215.JPG not found\n",
      "An error occurred (404) when calling the HeadObject operation: Not Found\n",
      "DottedImages/2010-2013 Dotted Images/2011-2012ScreenCaptures_1October2013/MWP_ScreenCaptures/2011/May 2011/Gaillard Island/20 May 2011/20May2011 Gaillard island MWP8 Area159.JPG not found\n",
      "DottedImages/2010-2013 Dotted Images/2011-2012ScreenCaptures_1October2013/MWP_ScreenCaptures/2011/May 2011/Gaillard Island/20 May 2011/20May2011 Gaillard island MWP8 Area213.JPG not found\n",
      "DottedImages/2010-2013 Dotted Images/2011-2012ScreenCaptures_1October2013/MWP_ScreenCaptures/2011/May 2011/Gaillard Island/20 May 2011/20May2011 Gaillard island MWP8 Area214.JPG not found\n",
      "An error occurred (404) when calling the HeadObject operation: Not Found\n",
      "An error occurred (404) when calling the HeadObject operation: Not Found\n",
      "DottedImages/2010-2013 Dotted Images/2013/23May13 Breton Island Screen Captures/23May13BretonIslandArea61.jpg not found\n",
      "DottedImages/2010-2013 Dotted Images/2013/23May13 Breton Island Screen Captures/23May13BretonIslandArea63.jpg not found\n",
      "An error occurred (404) when calling the HeadObject operation: Not Found\n",
      "An error occurred (404) when calling the HeadObject operation: Not Found\n",
      "An error occurred (404) when calling the HeadObject operation: Not Found\n",
      "An error occurred (404) when calling the HeadObject operation: Not Found\n",
      "An error occurred (404) when calling the HeadObject operation: Not Found\n",
      "An error occurred (404) when calling the HeadObject operation: Not Found\n",
      "An error occurred (404) when calling the HeadObject operation: Not Found\n",
      "An error occurred (404) when calling the HeadObject operation: Not Found\n",
      "An error occurred (404) when calling the HeadObject operation: Not Found\n",
      "An error occurred (404) when calling the HeadObject operation: Not Found\n",
      "An error occurred (404) when calling the HeadObject operation: Not Found\n",
      "An error occurred (404) when calling the HeadObject operation: Not Found\n",
      "An error occurred (404) when calling the HeadObject operation: Not FoundAn error occurred (404) when calling the HeadObject operation: Not Found\n",
      "\n",
      "An error occurred (404) when calling the HeadObject operation: Not FoundAn error occurred (404) when calling the HeadObject operation: Not Found\n",
      "\n",
      "An error occurred (404) when calling the HeadObject operation: Not Found\n",
      "An error occurred (404) when calling the HeadObject operation: Not Found\n",
      "An error occurred (404) when calling the HeadObject operation: Not Found\n",
      "An error occurred (404) when calling the HeadObject operation: Not Found\n",
      "An error occurred (404) when calling the HeadObject operation: Not Found\n",
      "An error occurred (404) when calling the HeadObject operation: Not Found\n",
      "An error occurred (404) when calling the HeadObject operation: Not Found\n",
      "An error occurred (404) when calling the HeadObject operation: Not Found\n",
      "An error occurred (404) when calling the HeadObject operation: Not Found\n"
     ]
    },
    {
     "name": "stdout",
     "output_type": "stream",
     "text": [
      "An error occurred (404) when calling the HeadObject operation: Not Found\n",
      "An error occurred (404) when calling the HeadObject operation: Not Found\n",
      "An error occurred (404) when calling the HeadObject operation: Not Found\n",
      "DottedImages/2018 LA Waterbird Colony Photo Analysis/Group 2 Deliverables/Chandeleur South/24June18_ChandeleurSouth_SubcolonyD_Area4.jpg not found\n",
      "An error occurred (404) when calling the HeadObject operation: Not Found\n",
      "An error occurred (404) when calling the HeadObject operation: Not Found\n",
      "An error occurred (404) when calling the HeadObject operation: Not Found\n",
      "An error occurred (404) when calling the HeadObject operation: Not Found\n",
      "An error occurred (404) when calling the HeadObject operation: Not Found\n",
      "An error occurred (404) when calling the HeadObject operation: Not Found\n",
      "An error occurred (404) when calling the HeadObject operation: Not Found\n",
      "An error occurred (404) when calling the HeadObject operation: Not Found\n",
      "An error occurred (404) when calling the HeadObject operation: Not Found\n",
      "DottedImages/2018 LA Waterbird Colony Photo Analysis/Group 1 Deliverables/Felicity Island/21May2018_FelicityIsland_Area2.JPG not found\n",
      "DottedImages/2018 LA Waterbird Colony Photo Analysis/Group 1 Deliverables/Felicity Island/21May2018_FelicityIsland_Area3.JPG not found\n",
      "An error occurred (404) when calling the HeadObject operation: Not Found\n",
      "An error occurred (404) when calling the HeadObject operation: Not FoundAn error occurred (404) when calling the HeadObject operation: Not Found\n",
      "\n",
      "DottedImages/2018 LA Waterbird Colony Photo Analysis/Group 1 Deliverables/Felicity Island/21May2018_FelicityIsland_Area7.JPG not foundAn error occurred (404) when calling the HeadObject operation: Not Found\n",
      "\n",
      "DottedImages/2018 LA Waterbird Colony Photo Analysis/Group 1 Deliverables/Felicity Island/21May2018_FelicityIsland_Area9.JPG not found\n",
      "DottedImages/2018 LA Waterbird Colony Photo Analysis/Group 1 Deliverables/Felicity Island/21May2018_FelicityIsland_Area8.JPG not found\n",
      "DottedImages/2018 LA Waterbird Colony Photo Analysis/Group 1 Deliverables/Felicity Island/21May2018_FelicityIsland_Area10.JPG not found\n",
      "DottedImages/2018 LA Waterbird Colony Photo Analysis/Group 1 Deliverables/Felicity Island/21May2018_FelicityIsland_Area13.JPG not found\n",
      "DottedImages/2018 LA Waterbird Colony Photo Analysis/Group 1 Deliverables/Felicity Island/21May2018_FelicityIsland_Area4.JPG not found\n",
      "DottedImages/2018 LA Waterbird Colony Photo Analysis/Group 1 Deliverables/Felicity Island/21May2018_FelicityIsland_Area12.JPG not found\n",
      "DottedImages/2018 LA Waterbird Colony Photo Analysis/Group 1 Deliverables/Felicity Island/21May2018_FelicityIsland_Area6.JPG not found\n",
      "DottedImages/2018 LA Waterbird Colony Photo Analysis/Group 1 Deliverables/Felicity Island/21May2018_FelicityIsland_Area1.JPG not found\n",
      "DottedImages/2018 LA Waterbird Colony Photo Analysis/Group 1 Deliverables/Felicity Island/21May2018_FelicityIsland_Area11.JPG not found\n",
      "DottedImages/2018 LA Waterbird Colony Photo Analysis/Group 1 Deliverables/Felicity Island/21May2018_FelicityIsland_Area5.JPG not found\n",
      "An error occurred (404) when calling the HeadObject operation: Not Found\n",
      "An error occurred (404) when calling the HeadObject operation: Not Found\n",
      "An error occurred (404) when calling the HeadObject operation: Not Found\n",
      "An error occurred (404) when calling the HeadObject operation: Not Found\n",
      "An error occurred (404) when calling the HeadObject operation: Not Found\n",
      "An error occurred (404) when calling the HeadObject operation: Not Found\n",
      "An error occurred (404) when calling the HeadObject operation: Not Found\n",
      "An error occurred (404) when calling the HeadObject operation: Not Found\n",
      "An error occurred (404) when calling the HeadObject operation: Not Found\n",
      "An error occurred (404) when calling the HeadObject operation: Not Found\n",
      "An error occurred (404) when calling the HeadObject operation: Not Found\n",
      "DottedImages/Task 2 2021 Waterbird Colony Photo Analysis/2021 DWH CWB Photo Analysis Deliverables/Group 2 - Updated/Drum Bay Island/17June2021DrumBayIslandArea4.JPG not found\n",
      "DottedImages/Task 2 2021 Waterbird Colony Photo Analysis/2021 DWH CWB Photo Analysis Deliverables/Group 2 - Updated/Drum Bay Island/17June2021DrumBayIslandArea3.JPG not found\n",
      "DottedImages/Task 2 2021 Waterbird Colony Photo Analysis/2021 DWH CWB Photo Analysis Deliverables/Group 2 - Updated/Drum Bay Island/17June2021DrumBayIslandArea2.JPG not found\n",
      "DottedImages/Task 2 2021 Waterbird Colony Photo Analysis/2021 DWH CWB Photo Analysis Deliverables/Group 2 - Updated/Drum Bay Island/17June2021DrumBayIslandArea1.JPG not found\n",
      "An error occurred (404) when calling the HeadObject operation: Not Found\n",
      "An error occurred (404) when calling the HeadObject operation: Not Found\n",
      "An error occurred (404) when calling the HeadObject operation: Not Found\n",
      "An error occurred (404) when calling the HeadObject operation: Not Found\n",
      "An error occurred (404) when calling the HeadObject operation: Not Found\n",
      "An error occurred (404) when calling the HeadObject operation: Not Found\n",
      "An error occurred (404) when calling the HeadObject operation: Not Found\n",
      "DottedImages/Task 2 2021 Waterbird Colony Photo Analysis/2021 DWH CWB Photo Analysis Deliverables/Group 2/Rabbit Island/18June2021RabbitArea1.JPG not found\n",
      "An error occurred (404) when calling the HeadObject operation: Not Found\n",
      "An error occurred (404) when calling the HeadObject operation: Not Found\n",
      "An error occurred (404) when calling the HeadObject operation: Not Found\n",
      "An error occurred (404) when calling the HeadObject operation: Not Found\n",
      "An error occurred (404) when calling the HeadObject operation: Not Found\n",
      "An error occurred (404) when calling the HeadObject operation: Not Found\n",
      "An error occurred (404) when calling the HeadObject operation: Not Found\n",
      "An error occurred (404) when calling the HeadObject operation: Not FoundAn error occurred (404) when calling the HeadObject operation: Not Found\n",
      "\n",
      "An error occurred (404) when calling the HeadObject operation: Not Found\n",
      "An error occurred (404) when calling the HeadObject operation: Not Found\n",
      "An error occurred (404) when calling the HeadObject operation: Not Found\n",
      "An error occurred (404) when calling the HeadObject operation: Not Found\n"
     ]
    }
   ],
   "source": [
    "with ThreadPoolExecutor(max_workers=16) as e:\n",
    "    futures = list(tqdm(e.map(lambda x,y: rename(x,y), to_rename[\"Original_Path\"].tolist(), to_rename[\"screenshot_new\"].tolist()), total=to_rename.shape[0]))"
   ]
  },
  {
   "cell_type": "code",
   "execution_count": null,
   "id": "281f1619",
   "metadata": {},
   "outputs": [],
   "source": [
    "r = m_grouped.progress_apply(lambda x:avian_data.copy ({'Bucket': avian_data.name,'Key':x['key']}, x['HighResImage_new']), axis=1)"
   ]
  },
  {
   "cell_type": "markdown",
   "id": "bccf3bd0",
   "metadata": {},
   "source": [
    "# Join summary excel with locations from colonies"
   ]
  },
  {
   "cell_type": "code",
   "execution_count": null,
   "id": "d330ca4f",
   "metadata": {},
   "outputs": [],
   "source": [
    "pd_species = pd.read_excel(\"avianmonitoring_2010-2021.xlsx\")"
   ]
  },
  {
   "cell_type": "code",
   "execution_count": null,
   "id": "2bf6f1cf",
   "metadata": {},
   "outputs": [],
   "source": [
    "totals = pd.read_excel(\"/mnt/z/Colibri2010-21ColonyTotalsMayJuneCombined_8Nov22.xlsx\")"
   ]
  },
  {
   "cell_type": "code",
   "execution_count": null,
   "id": "ee9ab360",
   "metadata": {},
   "outputs": [],
   "source": [
    "totals"
   ]
  },
  {
   "cell_type": "code",
   "execution_count": null,
   "id": "a9829ea6",
   "metadata": {},
   "outputs": [],
   "source": [
    "unique_colonies=pd_species[[\"Year\",\"State\",\"GeoRegion\",\"ColonyName\", \"Longitude_y\",\"Latitude_y\"]].drop_duplicates().reset_index(drop=True)"
   ]
  },
  {
   "cell_type": "code",
   "execution_count": null,
   "id": "3bfdf7ca",
   "metadata": {},
   "outputs": [],
   "source": [
    "unique_colonies.merge"
   ]
  },
  {
   "cell_type": "code",
   "execution_count": null,
   "id": "16c89d97",
   "metadata": {},
   "outputs": [],
   "source": [
    "join_cols =[\"Year\", \"State\",\"GeoRegion\", \"ColonyName\"]\n",
    "for c in join_cols:\n",
    "    totals[c] = totals[c].astype('str').str.strip()\n",
    "    unique_colonies[c] = unique_colonies[c].astype('str').str.strip()"
   ]
  },
  {
   "cell_type": "code",
   "execution_count": null,
   "id": "4285db37",
   "metadata": {},
   "outputs": [],
   "source": [
    "joined_totals = pd.merge(totals,unique_colonies, on=join_cols )"
   ]
  },
  {
   "cell_type": "code",
   "execution_count": null,
   "id": "0a656279",
   "metadata": {},
   "outputs": [],
   "source": [
    "joined_totals"
   ]
  },
  {
   "cell_type": "code",
   "execution_count": null,
   "id": "218e4765",
   "metadata": {},
   "outputs": [],
   "source": [
    "joined_totals.to_excel(\"joined_totals.xlsx\", index=False)"
   ]
  },
  {
   "cell_type": "markdown",
   "id": "0ffd5121",
   "metadata": {},
   "source": [
    "# Compare totals from totals and pd_species"
   ]
  },
  {
   "cell_type": "code",
   "execution_count": 32,
   "id": "1f6861ab",
   "metadata": {},
   "outputs": [
    {
     "data": {
      "text/plain": [
       "Index(['Year', 'Date', 'ColonyName', 'Latitude_x', 'Longitude_x',\n",
       "       'DottingAreaNumber', 'CameraNumber', 'CardNumber', 'PhotoNumber', 'PQ',\n",
       "       'SpeciesCode', 'WBN', 'ChickNestwithoutAdult', 'AbandNest', 'EmptyNest',\n",
       "       'PBN', 'Site', 'Brood', 'OtherAdultsInColony', 'OtherImmInColony',\n",
       "       'Chicks/Nestlings', 'RoostingBirds', 'RoostingAdults',\n",
       "       'RoostingImmatures', 'UnknownAge', 'Dotter', 'Dotter'sColonyNumber',\n",
       "       'DateDotted', 'Notes', 'BestForBPE', 'ChicksNestlings',\n",
       "       'AdditionalNotes', 'Subcolony', 'ChickNest', 'Territory', 'OtherBirds',\n",
       "       'ColonyID', 'ActiveInventory', 'ColonyGroupBuffer', 'State',\n",
       "       'Longitude_y', 'Latitude_y', 'PrimaryHabitat', 'LandForm', 'GeoRegion',\n",
       "       'ExtrapArea', 'TerrestEcoRegion', 'MarineEcoRegion', 'FormerNames',\n",
       "       'OrigDotterID', 'NOTES August 2022', 'HighResImage_new',\n",
       "       'screenshot_new', 'thumbnail_new', 'total_nests', 'total_birds',\n",
       "       'date2', 'month', 'uid'],\n",
       "      dtype='object')"
      ]
     },
     "execution_count": 32,
     "metadata": {},
     "output_type": "execute_result"
    }
   ],
   "source": [
    "joined_totals= pd.read_excel(\"joined_totals.xlsx\")\n",
    "pd_species.columns"
   ]
  },
  {
   "cell_type": "code",
   "execution_count": 33,
   "id": "2d31e5b2",
   "metadata": {},
   "outputs": [],
   "source": [
    "join_cols =[\"Year\", \"State\",\"GeoRegion\", \"ColonyName\", \"SpeciesCode\",'Longitude_y', 'Latitude_y']\n",
    "for c in join_cols:\n",
    "    pd_species[c]=pd_species[c].astype('str').str.strip()\n",
    "    joined_totals[c]=joined_totals[c].astype('str').str.strip()\n",
    "# For 2021 REEG data is divided in subspecies on the access database, but reported as REEG in the summary.\n",
    "pd_species.loc[(pd_species.Year == \"2021\") & pd_species.SpeciesCode.str.startswith(\"REEG \"), \"SpeciesCode\"] = \"REEG\"\n",
    "agg_pd_species = pd_species.loc[pd_species.BestForBPE == 'Y', [\"Year\", \"State\",\"GeoRegion\", \"ColonyName\", \"SpeciesCode\", 'Longitude_y', 'Latitude_y', 'total_nests', 'total_birds']].groupby([\"Year\", \"State\",\"GeoRegion\", \"ColonyName\", \"SpeciesCode\",'Longitude_y', 'Latitude_y']).sum()"
   ]
  },
  {
   "cell_type": "code",
   "execution_count": 34,
   "id": "bc584ce5",
   "metadata": {},
   "outputs": [],
   "source": [
    "agg_totals = joined_totals.groupby([\"Year\", \"State\",\"GeoRegion\", \"ColonyName\", \"SpeciesCode\",'Longitude_y', 'Latitude_y']).sum()"
   ]
  },
  {
   "cell_type": "code",
   "execution_count": 36,
   "id": "4203ae35",
   "metadata": {},
   "outputs": [],
   "source": [
    "joined_totals = agg_totals.join(agg_pd_species, on=join_cols, how=\"outer\").reset_index()"
   ]
  },
  {
   "cell_type": "code",
   "execution_count": 37,
   "id": "93e77364",
   "metadata": {},
   "outputs": [
    {
     "data": {
      "text/html": [
       "<div>\n",
       "<style scoped>\n",
       "    .dataframe tbody tr th:only-of-type {\n",
       "        vertical-align: middle;\n",
       "    }\n",
       "\n",
       "    .dataframe tbody tr th {\n",
       "        vertical-align: top;\n",
       "    }\n",
       "\n",
       "    .dataframe thead th {\n",
       "        text-align: right;\n",
       "    }\n",
       "</style>\n",
       "<table border=\"1\" class=\"dataframe\">\n",
       "  <thead>\n",
       "    <tr style=\"text-align: right;\">\n",
       "      <th></th>\n",
       "      <th>Year</th>\n",
       "      <th>State</th>\n",
       "      <th>GeoRegion</th>\n",
       "      <th>ColonyName</th>\n",
       "      <th>SpeciesCode</th>\n",
       "      <th>Longitude_y</th>\n",
       "      <th>Latitude_y</th>\n",
       "      <th>Nests</th>\n",
       "      <th>Birds</th>\n",
       "      <th>total_nests</th>\n",
       "      <th>total_birds</th>\n",
       "    </tr>\n",
       "  </thead>\n",
       "  <tbody>\n",
       "  </tbody>\n",
       "</table>\n",
       "</div>"
      ],
      "text/plain": [
       "Empty DataFrame\n",
       "Columns: [Year, State, GeoRegion, ColonyName, SpeciesCode, Longitude_y, Latitude_y, Nests, Birds, total_nests, total_birds]\n",
       "Index: []"
      ]
     },
     "execution_count": 37,
     "metadata": {},
     "output_type": "execute_result"
    }
   ],
   "source": [
    "joined_totals[joined_totals.total_nests.isna() & (joined_totals.Year == \"2021\")]"
   ]
  },
  {
   "cell_type": "code",
   "execution_count": 38,
   "id": "39496882",
   "metadata": {
    "scrolled": true
   },
   "outputs": [],
   "source": [
    "joined_totals[\"diff_nests\"] = joined_totals[\"Nests\"].fillna(0) -joined_totals[\"total_nests\"].fillna(0)\n",
    "joined_totals[\"diff_birds\"] = joined_totals[\"Birds\"].fillna(0) -joined_totals[\"total_birds\"].fillna(0)"
   ]
  },
  {
   "cell_type": "code",
   "execution_count": 42,
   "id": "1d3e1e9b",
   "metadata": {},
   "outputs": [
    {
     "data": {
      "text/html": [
       "<div>\n",
       "<style scoped>\n",
       "    .dataframe tbody tr th:only-of-type {\n",
       "        vertical-align: middle;\n",
       "    }\n",
       "\n",
       "    .dataframe tbody tr th {\n",
       "        vertical-align: top;\n",
       "    }\n",
       "\n",
       "    .dataframe thead th {\n",
       "        text-align: right;\n",
       "    }\n",
       "</style>\n",
       "<table border=\"1\" class=\"dataframe\">\n",
       "  <thead>\n",
       "    <tr style=\"text-align: right;\">\n",
       "      <th></th>\n",
       "      <th>Year</th>\n",
       "      <th>State</th>\n",
       "      <th>GeoRegion</th>\n",
       "      <th>ColonyName</th>\n",
       "      <th>SpeciesCode</th>\n",
       "      <th>Longitude_y</th>\n",
       "      <th>Latitude_y</th>\n",
       "      <th>Nests</th>\n",
       "      <th>Birds</th>\n",
       "      <th>total_nests</th>\n",
       "      <th>total_birds</th>\n",
       "      <th>diff_nests</th>\n",
       "      <th>diff_birds</th>\n",
       "    </tr>\n",
       "  </thead>\n",
       "  <tbody>\n",
       "    <tr>\n",
       "      <th>871</th>\n",
       "      <td>2010</td>\n",
       "      <td>LA</td>\n",
       "      <td>Breton-Chandeleur Islands</td>\n",
       "      <td>Breton Island</td>\n",
       "      <td>ROSA</td>\n",
       "      <td>-89.1742</td>\n",
       "      <td>29.4955</td>\n",
       "      <td>8937.0</td>\n",
       "      <td>7858.0</td>\n",
       "      <td>5415.0</td>\n",
       "      <td>8896.0</td>\n",
       "      <td>3522.0</td>\n",
       "      <td>-1038.0</td>\n",
       "    </tr>\n",
       "    <tr>\n",
       "      <th>5965</th>\n",
       "      <td>2010</td>\n",
       "      <td>LA</td>\n",
       "      <td>Biloxi North</td>\n",
       "      <td>Martin Island</td>\n",
       "      <td>ROSA</td>\n",
       "      <td>-89.1984</td>\n",
       "      <td>29.959</td>\n",
       "      <td>NaN</td>\n",
       "      <td>NaN</td>\n",
       "      <td>107.0</td>\n",
       "      <td>154.0</td>\n",
       "      <td>-107.0</td>\n",
       "      <td>-154.0</td>\n",
       "    </tr>\n",
       "  </tbody>\n",
       "</table>\n",
       "</div>"
      ],
      "text/plain": [
       "      Year State                  GeoRegion     ColonyName SpeciesCode  \\\n",
       "871   2010    LA  Breton-Chandeleur Islands  Breton Island        ROSA   \n",
       "5965  2010    LA               Biloxi North  Martin Island        ROSA   \n",
       "\n",
       "     Longitude_y Latitude_y   Nests   Birds  total_nests  total_birds  \\\n",
       "871     -89.1742    29.4955  8937.0  7858.0       5415.0       8896.0   \n",
       "5965    -89.1984     29.959     NaN     NaN        107.0        154.0   \n",
       "\n",
       "      diff_nests  diff_birds  \n",
       "871       3522.0     -1038.0  \n",
       "5965      -107.0      -154.0  "
      ]
     },
     "execution_count": 42,
     "metadata": {},
     "output_type": "execute_result"
    }
   ],
   "source": [
    "joined_totals[((joined_totals[\"diff_nests\"] !=0) | (joined_totals[\"diff_birds\"] !=0)) & (joined_totals[\"SpeciesCode\"] == \"ROSA\")]"
   ]
  },
  {
   "cell_type": "code",
   "execution_count": 40,
   "id": "52f1c43a",
   "metadata": {},
   "outputs": [],
   "source": [
    "joined_totals.to_excel(\"/mnt/z/joined_totals.xlsx\")"
   ]
  },
  {
   "cell_type": "code",
   "execution_count": null,
   "id": "b8363595",
   "metadata": {},
   "outputs": [],
   "source": [
    "pd_species.loc[(pd_species.Year == \"2021\") & pd_species.SpeciesCode.str.startswith(\"REEG \"), \"SpeciesCode\"]"
   ]
  },
  {
   "cell_type": "code",
   "execution_count": null,
   "id": "e1dc3374",
   "metadata": {},
   "outputs": [],
   "source": []
  },
  {
   "cell_type": "code",
   "execution_count": null,
   "id": "41f848ba",
   "metadata": {},
   "outputs": [],
   "source": []
  }
 ],
 "metadata": {
  "kernelspec": {
   "display_name": "Python 3",
   "language": "python",
   "name": "python3"
  },
  "language_info": {
   "codemirror_mode": {
    "name": "ipython",
    "version": 3
   },
   "file_extension": ".py",
   "mimetype": "text/x-python",
   "name": "python",
   "nbconvert_exporter": "python",
   "pygments_lexer": "ipython3",
   "version": "3.8.10"
  }
 },
 "nbformat": 4,
 "nbformat_minor": 5
}
