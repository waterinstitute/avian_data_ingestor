{
 "cells": [
  {
   "cell_type": "code",
   "execution_count": 1,
   "id": "6655df25",
   "metadata": {},
   "outputs": [
    {
     "name": "stdout",
     "output_type": "stream",
     "text": [
      "Requirement already satisfied: tqdm in /mnt/c/Users/carizaporras/development/avian_data_ingestor/.venv/lib/python3.8/site-packages (4.64.1)\r\n"
     ]
    }
   ],
   "source": [
    "!pip install tqdm"
   ]
  },
  {
   "cell_type": "code",
   "execution_count": 1,
   "id": "3b33d973",
   "metadata": {},
   "outputs": [],
   "source": [
    "thumbnail_size = (518,345)\n",
    "create_thumbnails = True\n",
    "replace = True\n",
    "_base_folder = 'avian_monitoring'"
   ]
  },
  {
   "cell_type": "code",
   "execution_count": 2,
   "id": "fb1130e6",
   "metadata": {},
   "outputs": [],
   "source": [
    "from PIL import Image, ExifTags\n",
    "import os\n",
    "import re\n",
    "import json\n",
    "import pandas as pd\n",
    "import geopandas as gpd\n",
    "from pathlib import Path\n",
    "import platform\n",
    "import pandas_access\n",
    "from datetime import datetime\n",
    "import pyodbc\n",
    "\n",
    "# PILlow have methods to read exif, however, in the tests\n",
    "# made, it returns a empty dict for images with actual exif data\n",
    "import piexif\n",
    "import fiona\n",
    "import numpy as np\n",
    "from multiprocessing import Pool\n",
    "from functools import partial\n",
    "import sqlite3\n",
    "import tempfile\n",
    "from pandas.io.json import json_normalize\n",
    "import geopandas as gp\n",
    "import numpy as np\n",
    "import boto3\n",
    "import re\n",
    "from tqdm.notebook import tqdm\n",
    "tqdm.pandas()\n",
    "\n",
    "boto3.setup_default_session(profile_name='GLO')"
   ]
  },
  {
   "cell_type": "code",
   "execution_count": null,
   "id": "0583c1df",
   "metadata": {},
   "outputs": [],
   "source": []
  },
  {
   "cell_type": "markdown",
   "id": "61ba25dd",
   "metadata": {},
   "source": [
    "# Unified 2010-2021 Data"
   ]
  },
  {
   "cell_type": "code",
   "execution_count": 4,
   "id": "1147a2b5",
   "metadata": {},
   "outputs": [],
   "source": [
    "# Notes: In order to use all the fields, I did a rename of the columns containing '?' or '/'\n",
    "acc_db = \"/mnt/c/Users/carizaporras/Downloads/Colibri_tblsSpeciesData2010-2021_18sept22.accdb\"\n",
    "schema = pandas_access.read_schema(acc_db) "
   ]
  },
  {
   "cell_type": "code",
   "execution_count": 5,
   "id": "ef6dd021",
   "metadata": {},
   "outputs": [],
   "source": [
    "colonies_table = schema.pop(\"tblRWCWB_ColonyInventory_13Sept2022\")"
   ]
  },
  {
   "cell_type": "markdown",
   "id": "17882869",
   "metadata": {},
   "source": [
    "There are three tables with slighly different schema"
   ]
  },
  {
   "cell_type": "code",
   "execution_count": 6,
   "id": "2150d7a0",
   "metadata": {},
   "outputs": [
    {
     "data": {
      "text/plain": [
       "{'tblSpeciesData2015_2018_2021': {'AutoID': 'Long Integer',\n",
       "  'Year': 'Long Integer',\n",
       "  'Date': 'DateTime',\n",
       "  'ColonyName': 'Text (510)',\n",
       "  'Subcolony': 'Text (510)',\n",
       "  'DottingAreaNumber': 'Text (6)',\n",
       "  'CameraNumber': 'Text (2)',\n",
       "  'CardNumber': 'Text (2)',\n",
       "  'PhotoNumber': 'Text (10)',\n",
       "  'PQ': 'Text (2)',\n",
       "  'SpeciesCode': 'Text (100)',\n",
       "  'WBN': 'Long Integer',\n",
       "  'ChickNest': 'Long Integer',\n",
       "  'ChickNestwithoutAdult': 'Long Integer',\n",
       "  'Brood': 'Long Integer',\n",
       "  'AbandNest': 'Long Integer',\n",
       "  'EmptyNest': 'Long Integer',\n",
       "  'PBN': 'Long Integer',\n",
       "  'Territory': 'Long Integer',\n",
       "  'Site': 'Long Integer',\n",
       "  'OtherBirds': 'Long Integer',\n",
       "  'Dotter': 'Text (6)',\n",
       "  'DateDotted': 'DateTime',\n",
       "  'BestForBPE': 'Text (100)',\n",
       "  'Notes': 'Text (510)'},\n",
       " 'tblSpeciesData2011_2013': {'AutoID': 'Double',\n",
       "  'Year': 'Double',\n",
       "  'Date': 'DateTime',\n",
       "  'ColonyName': 'Text (510)',\n",
       "  'DottingAreaNumber': 'Text (510)',\n",
       "  'CameraNumber': 'Text (510)',\n",
       "  'CardNumber': 'Text (510)',\n",
       "  'PhotoNumber': 'Text (510)',\n",
       "  'PQ': 'Text (510)',\n",
       "  'SpeciesCode': 'Text (510)',\n",
       "  'WBN': 'Double',\n",
       "  'ChickNestwithoutAdult': 'Double',\n",
       "  'AbandNest': 'Double',\n",
       "  'EmptyNest': 'Double',\n",
       "  'PBN': 'Double',\n",
       "  'Site': 'Double',\n",
       "  'Brood': 'Double',\n",
       "  'OtherAdultsInColony': 'Double',\n",
       "  'OtherImmInColony': 'Double',\n",
       "  'RoostingBirds': 'Double',\n",
       "  'RoostingAdults': 'Double',\n",
       "  'RoostingImmatures': 'Double',\n",
       "  'UnknownAge': 'Double',\n",
       "  'Dotter': 'Text (510)',\n",
       "  'DateDotted': 'DateTime',\n",
       "  'BestForBPE': 'Text (510)',\n",
       "  'Notes': 'Text (510)'},\n",
       " 'tblSpeciesData2010': {'AutoID': 'Double',\n",
       "  'Year': 'Double',\n",
       "  'Date': 'DateTime',\n",
       "  'ColonyName': 'Text (510)',\n",
       "  'Latitude': 'Text (510)',\n",
       "  'Longitude': 'Text (510)',\n",
       "  'DottingAreaNumber': 'Text (510)',\n",
       "  'CameraNumber': 'Text (510)',\n",
       "  'CardNumber': 'Text (510)',\n",
       "  'PhotoNumber': 'Text (510)',\n",
       "  'PQ': 'Text (510)',\n",
       "  'SpeciesCode': 'Text (510)',\n",
       "  'WBN': 'Double',\n",
       "  'ChickNestwithoutAdult': 'Double',\n",
       "  'AbandNest': 'Double',\n",
       "  'EmptyNest': 'Double',\n",
       "  'PBN': 'Double',\n",
       "  'Site': 'Double',\n",
       "  'Brood': 'Double',\n",
       "  'OtherAdultsInColony': 'Double',\n",
       "  'OtherImmInColony': 'Double',\n",
       "  'RoostingBirds': 'Double',\n",
       "  'RoostingAdults': 'Double',\n",
       "  'RoostingImmatures': 'Double',\n",
       "  'UnknownAge': 'Double',\n",
       "  'Dotter': 'Text (510)',\n",
       "  'DateDotted': 'DateTime'}}"
      ]
     },
     "execution_count": 6,
     "metadata": {},
     "output_type": "execute_result"
    }
   ],
   "source": [
    "schema"
   ]
  },
  {
   "cell_type": "markdown",
   "id": "0f47f136",
   "metadata": {},
   "source": [
    "Taking the 2015 to 2021 table as a reference, lets compare the schemas.\n",
    "\n",
    "Fields in the reference but not in the `tblSpeciesData2011_2013` table"
   ]
  },
  {
   "cell_type": "code",
   "execution_count": 7,
   "id": "7535028f",
   "metadata": {},
   "outputs": [
    {
     "data": {
      "text/plain": [
       "{'ChickNest', 'OtherBirds', 'Subcolony', 'Territory'}"
      ]
     },
     "execution_count": 7,
     "metadata": {},
     "output_type": "execute_result"
    }
   ],
   "source": [
    "schema[\"tblSpeciesData2015_2018_2021\"].keys() - schema[\"tblSpeciesData2011_2013\"].keys()"
   ]
  },
  {
   "cell_type": "markdown",
   "id": "eb00a611",
   "metadata": {},
   "source": [
    "Fields in the `tblSpeciesData2011_2013` table but not in the reference"
   ]
  },
  {
   "cell_type": "code",
   "execution_count": 8,
   "id": "2bef7532",
   "metadata": {},
   "outputs": [
    {
     "data": {
      "text/plain": [
       "{'OtherAdultsInColony',\n",
       " 'OtherImmInColony',\n",
       " 'RoostingAdults',\n",
       " 'RoostingBirds',\n",
       " 'RoostingImmatures',\n",
       " 'UnknownAge'}"
      ]
     },
     "execution_count": 8,
     "metadata": {},
     "output_type": "execute_result"
    }
   ],
   "source": [
    " schema[\"tblSpeciesData2011_2013\"].keys() - schema[\"tblSpeciesData2015_2018_2021\"].keys() "
   ]
  },
  {
   "cell_type": "markdown",
   "id": "cbfcb572",
   "metadata": {},
   "source": [
    "Fields in the referece but not in the 2010 table"
   ]
  },
  {
   "cell_type": "code",
   "execution_count": 9,
   "id": "e20b6a5e",
   "metadata": {},
   "outputs": [
    {
     "data": {
      "text/plain": [
       "{'BestForBPE', 'ChickNest', 'Notes', 'OtherBirds', 'Subcolony', 'Territory'}"
      ]
     },
     "execution_count": 9,
     "metadata": {},
     "output_type": "execute_result"
    }
   ],
   "source": [
    "schema[\"tblSpeciesData2015_2018_2021\"].keys() - schema[\"tblSpeciesData2010\"].keys()"
   ]
  },
  {
   "cell_type": "markdown",
   "id": "95e4fdbf",
   "metadata": {},
   "source": [
    "Fields in the referece but not in the 2010 table"
   ]
  },
  {
   "cell_type": "code",
   "execution_count": 10,
   "id": "5a7763ae",
   "metadata": {},
   "outputs": [
    {
     "data": {
      "text/plain": [
       "{'Latitude',\n",
       " 'Longitude',\n",
       " 'OtherAdultsInColony',\n",
       " 'OtherImmInColony',\n",
       " 'RoostingAdults',\n",
       " 'RoostingBirds',\n",
       " 'RoostingImmatures',\n",
       " 'UnknownAge'}"
      ]
     },
     "execution_count": 10,
     "metadata": {},
     "output_type": "execute_result"
    }
   ],
   "source": [
    "schema[\"tblSpeciesData2010\"].keys() - schema[\"tblSpeciesData2015_2018_2021\"].keys() "
   ]
  },
  {
   "cell_type": "markdown",
   "id": "d1b0e1a8",
   "metadata": {},
   "source": [
    "That also means that we have different formulas to calculate the total. The bestForBPE field is used as filter in 2013 to 2021, but it is not used in the 2010.\n",
    "\n",
    "### Formulas\n",
    "\n",
    "|                | 2010                                                                                                                                                               | 2011-2013                                                                                                                                                          | 2015-2021                                                                                                 |\n",
    "|----------------|--------------------------------------------------------------------------------------------------------------------------------------------------------------------|--------------------------------------------------------------------------------------------------------------------------------------------------------------------|-----------------------------------------------------------------------------------------------------------|\n",
    "| Nests          | sum(<br>[WBN]<br>+[ChickNestw/outAdult]<br>+[AbandNest]<br>+[EmptyNest]<br>+[PBN]<br>+[Site]<br>+[Brood])                                                          | Sum(<br>[WBN]<br>+[ChickNestw/outAdult]<br>+[AbandNest]<br>+[EmptyNest]<br>+[PBN]<br>+[Site]<br>+[Brood])                                                          | Sum(<br>[WBN]<br>+[ChickNest]<br>+[ChickNestw/outAdult]<br>+[AbandNest]<br>+[PBN]<br>+[Site]<br>+[Brood]) |\n",
    "| Birds          | sum([WBN]<br>+[PBN]<br>+[Site]<br>+[OtherAdultsInColony]<br>+[OtherImmInColony]<br>+[RoostingBirds]<br>+[RoostingAdults]<br>+[RoostingImmatures]<br>+[UnknownAge]) | Sum([WBN]<br>+[PBN]<br>+[Site]<br>+[OtherAdultsInColony]<br>+[OtherImmInColony]<br>+[RoostingBirds]<br>+[RoostingAdults]<br>+[RoostingImmatures]<br>+[UnknownAge]) | Sum(<br>[WBN]<br>+[ChickNest]<br>+[PBN]<br>+[Territory]<br>+[Site]<br>+[OtherBirds])                      |\n",
    "| SumOfEmptyNest | sum(EmptyNest)                                                                                                                                                     | EmptyNest                                                                                                                                                          | EmptyNest                                                                                                 |\n",
    "\n",
    "\n",
    "But 2015 to 2021 has additional categories: \n",
    "\n",
    "```SQL\n",
    "\n",
    "Sum(WBN) AS SumOfWBN\n",
    "\n",
    "Sum(ChickNest) AS SumOfChickNest\n",
    "\n",
    "Sum([ChickNestw/outAdult]) AS [SumOfChickNestw/outAdult] \n",
    "\n",
    "Sum(Brood) AS SumOfBrood\n",
    "\n",
    "Sum(AbandNest) AS SumOfAbandNest\n",
    "\n",
    "Sum(PBN) AS SumOfPBN\n",
    "\n",
    "Sum(Territory) AS SumOfTerritory\n",
    "```"
   ]
  },
  {
   "cell_type": "markdown",
   "id": "54afca74",
   "metadata": {},
   "source": [
    "## Generating a common dataset:\n",
    "- merge 2010 species with the colonies. \n",
    "- select only the common columns "
   ]
  },
  {
   "cell_type": "code",
   "execution_count": 11,
   "id": "c81790db",
   "metadata": {},
   "outputs": [],
   "source": [
    "cols_2015_2021 = set(schema[\"tblSpeciesData2015_2018_2021\"].keys())\n",
    "cols_2011_2013 = set(schema[\"tblSpeciesData2011_2013\"].keys())\n",
    "cols_2010 = set(schema[\"tblSpeciesData2010\"].keys())\n",
    "common_fields = cols_2011_2013.intersection(cols_2015_2021)"
   ]
  },
  {
   "cell_type": "code",
   "execution_count": 12,
   "id": "6c1f4e29",
   "metadata": {},
   "outputs": [
    {
     "data": {
      "text/plain": [
       "{'Latitude',\n",
       " 'Longitude',\n",
       " 'OtherAdultsInColony',\n",
       " 'OtherImmInColony',\n",
       " 'RoostingAdults',\n",
       " 'RoostingBirds',\n",
       " 'RoostingImmatures',\n",
       " 'UnknownAge'}"
      ]
     },
     "execution_count": 12,
     "metadata": {},
     "output_type": "execute_result"
    }
   ],
   "source": [
    "cols_2010 - common_fields"
   ]
  },
  {
   "cell_type": "code",
   "execution_count": 13,
   "id": "1577e587",
   "metadata": {},
   "outputs": [
    {
     "data": {
      "text/plain": [
       "{'BestForBPE', 'Notes'}"
      ]
     },
     "execution_count": 13,
     "metadata": {},
     "output_type": "execute_result"
    }
   ],
   "source": [
    "common_fields - cols_2010"
   ]
  },
  {
   "cell_type": "code",
   "execution_count": 14,
   "id": "185fc3af",
   "metadata": {},
   "outputs": [],
   "source": [
    "pd_species_2010 = pandas_access.read_table(acc_db, \"tblSpeciesData2010\")"
   ]
  },
  {
   "cell_type": "code",
   "execution_count": 15,
   "id": "05678f37",
   "metadata": {},
   "outputs": [],
   "source": [
    "pd_species_2010['Notes'] = \"\"\n",
    "pd_species_2010[\"BestForBPE\"] = \"Y\""
   ]
  },
  {
   "cell_type": "code",
   "execution_count": 16,
   "id": "949620c0",
   "metadata": {},
   "outputs": [],
   "source": [
    "pd_species_2010 = pd_species_2010[common_fields]"
   ]
  },
  {
   "cell_type": "code",
   "execution_count": 17,
   "id": "a3b25c82",
   "metadata": {},
   "outputs": [],
   "source": [
    "pd_species_2011_2013 = pandas_access.read_table(acc_db, \"tblSpeciesData2011_2013\")[common_fields]\n",
    "pd_species_2015_2021 = pandas_access.read_table(acc_db, \"tblSpeciesData2015_2018_2021\")[common_fields]"
   ]
  },
  {
   "cell_type": "code",
   "execution_count": 18,
   "id": "5660d42f",
   "metadata": {},
   "outputs": [],
   "source": [
    "pd_species = pd.concat([pd_species_2010, pd_species_2011_2013, pd_species_2015_2021])"
   ]
  },
  {
   "cell_type": "code",
   "execution_count": 19,
   "id": "109be71b",
   "metadata": {},
   "outputs": [],
   "source": [
    "pd_species = pd_species.drop(columns=\"AutoID\")"
   ]
  },
  {
   "cell_type": "code",
   "execution_count": 20,
   "id": "3fca9f44",
   "metadata": {},
   "outputs": [],
   "source": [
    "pd_species[\"Year\"] = pd_species[\"Year\"].astype(int).astype(str) "
   ]
  },
  {
   "cell_type": "code",
   "execution_count": 21,
   "id": "ab03ef09",
   "metadata": {},
   "outputs": [],
   "source": [
    "pd_colonies = pandas_access.read_table(acc_db, \"tblRWCWB_ColonyInventory_13Sept2022\")\n",
    "pd_colonies[\"ColonyName\"] = pd_colonies[\"ColonyName\"].astype(str)"
   ]
  },
  {
   "cell_type": "code",
   "execution_count": 22,
   "id": "f296373d",
   "metadata": {},
   "outputs": [],
   "source": [
    "pd_species = pd.merge(pd_species, pd_colonies, on=\"ColonyName\")"
   ]
  },
  {
   "cell_type": "code",
   "execution_count": 23,
   "id": "ef5d90bd",
   "metadata": {},
   "outputs": [],
   "source": [
    "pd_species[\"HighResImage_new\"] = f\"{_base_folder}/high_resolution_photos/\"+pd_species['Year'].astype(str)+'/'+pd_species['GeoRegion']+'/'+pd_species['ColonyName']+'/'+pd.to_datetime(pd_species[\"Date\"].astype('str'), format=\"%m/%d/%y %H:%M:%S\").dt.strftime(\"%d%B%y\")+'Camera'+pd_species[\"CameraNumber\"]+'-'+'Card'+(pd_species[\"CardNumber\"].where(~pd_species[\"CardNumber\"].isnull(), other=\"1\"))+\"-\"+pd_species[\"PhotoNumber\"]+\".jpg\"\n",
    "pd_species[\"screenshot_new\"] = f'{_base_folder}/screenshots/'+pd_species['Year'].astype(str)+'/'+pd_species['GeoRegion']+'/'+pd_species['ColonyName']+'/'+pd.to_datetime(pd_species[\"Date\"].astype('str'), format=\"%m/%d/%y %H:%M:%S\").dt.strftime(\"%d%B%y\")+'Camera'+pd_species[\"CameraNumber\"]+'-'+'Card'+(pd_species[\"CardNumber\"].where(~pd_species[\"CardNumber\"].isnull(), other=\"1\"))+\"-\"+pd_species[\"PhotoNumber\"]+\".jpg\"\n",
    "pd_species[\"thumbnail_new\"] =  f'{_base_folder}/thumbnails/'+pd_species['Year'].astype(str)+'/'+pd_species['GeoRegion']+'/'+pd_species['ColonyName']+'/'+pd.to_datetime(pd_species[\"Date\"].astype('str'), format=\"%m/%d/%y %H:%M:%S\").dt.strftime(\"%d%B%y\")+'Camera'+pd_species[\"CameraNumber\"]+'-'+'Card'+(pd_species[\"CardNumber\"].where(~pd_species[\"CardNumber\"].isnull(), other=\"1\"))+\"-\"+pd_species[\"PhotoNumber\"]+\".png\""
   ]
  },
  {
   "cell_type": "code",
   "execution_count": null,
   "id": "62acafbd",
   "metadata": {},
   "outputs": [],
   "source": [
    "pd_species.to_csv(\"avianmonitoring_2010-2021.csv.gz\")"
   ]
  },
  {
   "cell_type": "markdown",
   "id": "7d0ad175",
   "metadata": {},
   "source": [
    "# Reorganize Files"
   ]
  },
  {
   "cell_type": "code",
   "execution_count": 24,
   "id": "6527b3b5",
   "metadata": {},
   "outputs": [],
   "source": [
    "bucket_name  = \"twi-avian-data\"\n",
    "starting_folder = \"HighResolutionImages\"\n",
    "new_folder_hr = \"avian_monitoring_\"\n",
    "aws_s3 = boto3.resource(\n",
    "        \"s3\",\n",
    "   )\n",
    "avian_data = aws_s3.Bucket(bucket_name)"
   ]
  },
  {
   "cell_type": "code",
   "execution_count": null,
   "id": "369d81b9",
   "metadata": {},
   "outputs": [],
   "source": [
    "files = [o for o in avian_data.objects.filter(Prefix=starting_folder) if re.match(r\".*/20[1-2][0-9]/.*(\\.jp(.{0,1})g|.tiff)\",o.key.lower())]"
   ]
  },
  {
   "cell_type": "code",
   "execution_count": null,
   "id": "de57fb3b",
   "metadata": {},
   "outputs": [],
   "source": [
    "image_groups = re.compile(r'HighResolutionImages/(?P<year>\\d{4}).*[/ ,]+(?P<date>\\d+\\s*[A-Z]+\\s*\\d{2,4}).*(Camera|Cam)\\s*(?P<camera>\\d+)[ /-]*(Card\\s*(?P<card>\\d+)){0,1}[\\s-]*((\\w+/))*(IMGP){0,1}(?P<photo>\\d+)\\.(?P<extension>jp.?g|tiff?)', flags=re.IGNORECASE)"
   ]
  },
  {
   "cell_type": "code",
   "execution_count": null,
   "id": "618b8f57",
   "metadata": {},
   "outputs": [],
   "source": [
    "m = image_groups.match(\"HighResolutionImages/2010/June 2010/10 June 2010/10 June 2010 Camera 1 Card 1/10 June 2010 Camera 1 Card 1 010.JPG\")"
   ]
  },
  {
   "cell_type": "code",
   "execution_count": null,
   "id": "7405642c",
   "metadata": {},
   "outputs": [],
   "source": [
    "df_files = []\n",
    "no_files = []\n",
    "for i,o in tqdm(enumerate(files)): \n",
    "    if image_groups.match(o.key):\n",
    "        dict_t = image_groups.match(o.key).groupdict()\n",
    "        df_files.append({\"key\":o.key, \"object\":o, **dict_t})\n",
    "    else:\n",
    "        no_files.append(o.key)\n",
    "    #if i%10000 == 0 :\n",
    "    #    print(i, len(df_files), len(no_files))"
   ]
  },
  {
   "cell_type": "code",
   "execution_count": null,
   "id": "03d931d8",
   "metadata": {},
   "outputs": [],
   "source": [
    "no_files = list(filter(lambda k: not \"numbering off\" in k, no_files) )"
   ]
  },
  {
   "cell_type": "code",
   "execution_count": null,
   "id": "6af26c2c",
   "metadata": {},
   "outputs": [],
   "source": [
    "with open(\"n_files_report.txt\",\"w\") as n_files_report: \n",
    "    n_files_report.write(\"\\n\".join(no_files))"
   ]
  },
  {
   "cell_type": "code",
   "execution_count": null,
   "id": "cfccbd41",
   "metadata": {},
   "outputs": [],
   "source": [
    "\n",
    "fdf = pd.DataFrame(df_files) "
   ]
  },
  {
   "cell_type": "code",
   "execution_count": null,
   "id": "e3e53306",
   "metadata": {},
   "outputs": [],
   "source": [
    "fdf[\"extension\"] = fdf[\"extension\"].str.lower()"
   ]
  },
  {
   "cell_type": "code",
   "execution_count": null,
   "id": "af97914e",
   "metadata": {},
   "outputs": [],
   "source": [
    "from dateutil.parser import parse"
   ]
  },
  {
   "cell_type": "code",
   "execution_count": null,
   "id": "0195f596",
   "metadata": {},
   "outputs": [],
   "source": [
    "def clean_date(text):\n",
    "  datetimestr = parse(text)\n",
    "  text = datetime.strftime(datetimestr, '%Y-%b-%d')\n",
    "  return text\n",
    "fdf['date2'] = fdf['date'].astype('str').apply(clean_date)\n",
    "fdf['month'] = fdf[\"date2\"].apply(lambda x: x.split('-')[1])\n",
    "fdf['day'] = fdf[\"date2\"].apply(lambda x: x.split('-')[2])"
   ]
  },
  {
   "cell_type": "code",
   "execution_count": null,
   "id": "6053bfa6",
   "metadata": {},
   "outputs": [],
   "source": [
    "pd_species['date2']=pd_species['Date'].astype('str').apply(clean_date)\n",
    "pd_species['month'] = pd_species[\"date2\"].apply(lambda x: x.split('-')[1])\n",
    "pd_species['day'] = pd_species[\"date2\"].apply(lambda x: x.split('-')[2])"
   ]
  },
  {
   "cell_type": "code",
   "execution_count": null,
   "id": "62beb4a1",
   "metadata": {},
   "outputs": [],
   "source": [
    "pd_species.to_csv(\"avianData20102021.csv.gz\")"
   ]
  },
  {
   "cell_type": "code",
   "execution_count": null,
   "id": "3c82967a",
   "metadata": {},
   "outputs": [],
   "source": [
    "fdf = fdf.rename(columns={\"camera\":\"CameraNumber\",\"card\":\"CardNumber\", \"photo\":\"PhotoNumber\", \"year\":\"Year\" })"
   ]
  },
  {
   "cell_type": "code",
   "execution_count": null,
   "id": "bbdf530f",
   "metadata": {},
   "outputs": [],
   "source": [
    "fdf[\"PhotoNumber\"] = fdf[\"PhotoNumber\"].str.rjust(5,'0') \n",
    "pd_species[\"PhotoNumber\"] = pd_species[\"PhotoNumber\"].str.rjust(5,'0')"
   ]
  },
  {
   "cell_type": "code",
   "execution_count": null,
   "id": "dc056da8",
   "metadata": {},
   "outputs": [],
   "source": [
    "join_cols = ['CameraNumber','CardNumber','PhotoNumber','Year', 'month','day']\n",
    "for c in join_cols:\n",
    "    fdf[c] = fdf[c].astype('str').str.strip()\n",
    "    pd_species[c] = pd_species[c].astype('str').str.strip()\n",
    "c = 'CardNumber'\n",
    "fdf.loc[fdf[c]=='None',c]= '1'"
   ]
  },
  {
   "cell_type": "code",
   "execution_count": null,
   "id": "4873b50f",
   "metadata": {},
   "outputs": [],
   "source": [
    "merged = pd_species.merge(fdf, on=join_cols, how=\"left\")"
   ]
  },
  {
   "cell_type": "code",
   "execution_count": null,
   "id": "c4325222",
   "metadata": {},
   "outputs": [],
   "source": [
    "pd_species[\"PhotoNumber\"]"
   ]
  },
  {
   "cell_type": "code",
   "execution_count": null,
   "id": "48edaad4",
   "metadata": {},
   "outputs": [],
   "source": [
    "m_grouped =merged[[\"HighResImage_new\",\"key\",\"CameraNumber\",\"CardNumber\",\"PhotoNumber\",\"Date\",\"Year\",\"month\", \"thumbnail_new\"]].groupby([\"HighResImage_new\",\"key\",\"CameraNumber\",\"CardNumber\",\"PhotoNumber\",\"Date\",\"Year\",\"month\",\"thumbnail_new\"]).count().reset_index()"
   ]
  },
  {
   "cell_type": "code",
   "execution_count": null,
   "id": "45afd8a8",
   "metadata": {
    "scrolled": true
   },
   "outputs": [],
   "source": [
    "r = m_grouped.progress_apply(lambda x:avian_data.copy ({'Bucket': avian_data.name,'Key':x['key']}, x['HighResImage_new']), axis=1)"
   ]
  },
  {
   "cell_type": "code",
   "execution_count": null,
   "id": "de5a88f0",
   "metadata": {},
   "outputs": [],
   "source": [
    "np.any(~r.isnull())"
   ]
  },
  {
   "cell_type": "code",
   "execution_count": null,
   "id": "4c753f2f",
   "metadata": {},
   "outputs": [],
   "source": [
    "m_grouped"
   ]
  },
  {
   "cell_type": "code",
   "execution_count": null,
   "id": "e193336e",
   "metadata": {},
   "outputs": [],
   "source": [
    "m_grouped.to_excel(\"UsedPhotos2010-2021.xlsx\", index=False)"
   ]
  },
  {
   "cell_type": "code",
   "execution_count": 25,
   "id": "a1698c8f",
   "metadata": {},
   "outputs": [],
   "source": [
    "m_grouped = pd.read_excel(\"UsedPhotos2010-2021.xlsx\")"
   ]
  },
  {
   "cell_type": "code",
   "execution_count": 26,
   "id": "22d70d4c",
   "metadata": {},
   "outputs": [],
   "source": [
    "from PIL import Image, ExifTags\n",
    "from io import BytesIO\n",
    "from concurrent.futures import ThreadPoolExecutor,as_completed\n",
    "from functools import partial"
   ]
  },
  {
   "cell_type": "code",
   "execution_count": 27,
   "id": "4f6de1d0",
   "metadata": {},
   "outputs": [],
   "source": [
    "def generate_thumbnail(high_res_key, thumb_key, regenerate=False):\n",
    "    current = avian_data.objects.filter(Prefix=thumb_key)\n",
    "    if not regenerate and  [o for o in current]:\n",
    "        return True\n",
    "    objs = [o for o in avian_data.objects.filter(Prefix=high_res_key)]\n",
    "    if not objs:\n",
    "        print(f\"there is no {high_res_key}\")\n",
    "        return False\n",
    "    image = Image.open(BytesIO(objs[0].get()[\"Body\"].read()))\n",
    "    buffer = BytesIO()\n",
    "    image.thumbnail(thumbnail_size)\n",
    "    image.save(buffer, format=\"png\")\n",
    "    buffer.seek(0)\n",
    "    avian_data.put_object(Key=thumb_key, Body=buffer)\n",
    "    return True"
   ]
  },
  {
   "cell_type": "code",
   "execution_count": null,
   "id": "f86ec0a1",
   "metadata": {},
   "outputs": [
    {
     "data": {
      "application/vnd.jupyter.widget-view+json": {
       "model_id": "6bc4e11579aa4647ae0bb05a09e4d2b0",
       "version_major": 2,
       "version_minor": 0
      },
      "text/plain": [
       "  0%|          | 0/18168 [00:00<?, ?it/s]"
      ]
     },
     "metadata": {},
     "output_type": "display_data"
    }
   ],
   "source": [
    "with ThreadPoolExecutor(max_workers=16) as e:\n",
    "    futures = list(tqdm(e.map(partial(generate_thumbnail, regenerate=True), m_grouped[\"HighResImage_new\"].tolist(), m_grouped[\"thumbnail_new\"].tolist()), total=m_grouped.shape[0]))"
   ]
  },
  {
   "cell_type": "code",
   "execution_count": null,
   "id": "05f36553",
   "metadata": {},
   "outputs": [],
   "source": [
    "m_grouped.shape"
   ]
  },
  {
   "cell_type": "markdown",
   "id": "5a4375db",
   "metadata": {},
   "source": [
    "# Previous version code\n",
    "```python\n",
    "#acc_db = \"/mnt/c/Users/carizaporras/Downloads/Colibri_tblSpeciesData2015_2018_2021_2Sept2022 (1).accdb\"\n",
    "#schema = pandas_access.read_schema(acc_db)\n",
    "#pd_species = pandas_access.read_table(acc_db, \"tblSpeciesData2015_2018_2021\")\n",
    "#pd_species[\"ColonyName\"] = pd_species[\"ColonyName\"].astype(str)\n",
    "#pd_colonies = pandas_access.read_table(acc_db, \"tblRWCWB_ColonyInventory_2022\")\n",
    "#pd_colonies[\"ColonyName\"] = pd_colonies[\"ColonyName\"].astype(str)\n",
    "#pd_species = pd.merge(pd_species, pd_colonies, on=\"ColonyName\")\n",
    "#pd_species[\"HighResImage_new\"] = f\"{_base_folder}/high_resolution_photos/\"+pd_species['Year'].astype(str)+'/'+pd_species['GeoRegion']+'/'+pd_species['ColonyName']+'/'+pd.to_datetime(pd_species[\"Date\"].astype('str'), format=\"%m/%d/%y %H:%M:%S\").dt.strftime(\"%d%B%y\")+'Camera'+pd_species[\"CameraNumber\"]+'-'+'Card'+(pd_species[\"CardNumber\"].where(~pd_species[\"CardNumber\"].isnull(), other=\"1\"))+\"-\"+pd_species[\"PhotoNumber\"]+\".jpg\"\n",
    "#pd_species[\"screenshot_new\"] = f'{_base_folder}/screenshots/'+pd_species['Year'].astype(str)+'/'+pd_species['GeoRegion']+'/'+pd_species['ColonyName']+'/'+pd.to_datetime(pd_species[\"Date\"].astype('str'), format=\"%m/%d/%y %H:%M:%S\").dt.strftime(\"%d%B%y\")+'Camera'+pd_species[\"CameraNumber\"]+'-'+'Card'+(pd_species[\"CardNumber\"].where(~pd_species[\"CardNumber\"].isnull(), other=\"1\"))+\"-\"+pd_species[\"PhotoNumber\"]+\".jpg\"\n",
    "#pd_species[\"thumbnail_new\"] =  f'{_base_folder}/thumbnails/'+pd_species['Year'].astype(str)+'/'+pd_species['GeoRegion']+'/'+pd_species['ColonyName']+'/'+pd.to_datetime(pd_species[\"Date\"].astype('str'), format=\"%m/%d/%y %H:%M:%S\").dt.strftime(\"%d%B%y\")+'Camera'+pd_species[\"CameraNumber\"]+'-'+'Card'+(pd_species[\"CardNumber\"].where(~pd_species[\"CardNumber\"].isnull(), other=\"1\"))+\"-\"+pd_species[\"PhotoNumber\"]+\".png\"\n",
    "#gdf = gp.GeoDataFrame(\n",
    "#    pd_species, geometry=gp.points_from_xy(pd_species[\"Longitude\"], pd_species[\"Latitude\"]))\n",
    "#set_index([\"State\",\"GeoRegion\",\"ColonyName\",\"Year\", \"Latitude\", \"Longitude\", \"Date\", \"SpeciesCode\"])\n",
    "#pd_species = pd_species.drop(columns=[\"AutoID\",\"Subcolony\"])\n",
    "#gdf[\"huc\"] = \"TBD\"\n",
    "\n",
    "def _convert_to_degress(value):\n",
    "    \"\"\"\n",
    "    Helper function to convert the GPS coordinates stored in the EXIF to degress in float format\n",
    "    Borrowed from: https://gist.github.com/snakeye/fdc372dbf11370fe29eb\n",
    "    Modified to recieve a tuple instead of a exifread.utils.Ratio\n",
    "    :param value:\n",
    "    :type value: tuple\n",
    "    :rtype: float\n",
    "    \"\"\"\n",
    "    d = float(value[0][0]) / float(value[0][1])\n",
    "    m = float(value[1][0]) / float(value[1][1])\n",
    "    s = float(value[2][0]) / float(value[2][1])\n",
    "\n",
    "    return d + (m / 60.0) + (s / 3600.0)\n",
    "```"
   ]
  },
  {
   "cell_type": "code",
   "execution_count": null,
   "id": "33cd5233",
   "metadata": {},
   "outputs": [],
   "source": []
  }
 ],
 "metadata": {
  "kernelspec": {
   "display_name": "Python 3",
   "language": "python",
   "name": "python3"
  },
  "language_info": {
   "codemirror_mode": {
    "name": "ipython",
    "version": 3
   },
   "file_extension": ".py",
   "mimetype": "text/x-python",
   "name": "python",
   "nbconvert_exporter": "python",
   "pygments_lexer": "ipython3",
   "version": "3.8.10"
  }
 },
 "nbformat": 4,
 "nbformat_minor": 5
}
