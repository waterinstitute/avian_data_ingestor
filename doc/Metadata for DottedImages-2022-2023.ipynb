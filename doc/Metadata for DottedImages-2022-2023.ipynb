{
 "cells": [
  {
   "cell_type": "markdown",
   "id": "891de72e",
   "metadata": {},
   "source": [
    "# Avian data 2022-2023\n",
    "This notebook performs and document the transformations performed on the data received from Colibri by The Water Institute as part of this project. \n",
    "\n",
    "The main goals of this transformations are:\n",
    "  - Create a unified dataset for 2010-2023 data (This notebook will only process the data from 2022-2023 but using the schema from the previous years)\n",
    "  - Rename both high resolution photos and screenshots to have them in a unified folder structure\n",
    "  - Create thumbnails for the high resolution photos to be visualized on the web dashboard\n",
    "  - Generate datasets for being used in the visualizations"
   ]
  },
  {
   "cell_type": "code",
   "execution_count": null,
   "id": "6655df25",
   "metadata": {},
   "outputs": [],
   "source": [
    "#%pip install tqdm pandas boto3\n",
    "import getpass"
   ]
  },
  {
   "cell_type": "markdown",
   "id": "0e2d7c4b",
   "metadata": {},
   "source": [
    "### Parameters"
   ]
  },
  {
   "cell_type": "code",
   "execution_count": null,
   "id": "3b33d973",
   "metadata": {},
   "outputs": [],
   "source": [
    "thumbnail_size = (518, 345)\n",
    "create_thumbnails = True\n",
    "rename_files=False\n",
    "replace = False\n",
    "_base_folder = \"avian_monitoring\"\n",
    "role_to_assume = getpass.getpass(\"Input the role\")\n"
   ]
  },
  {
   "cell_type": "markdown",
   "id": "815e7fd2",
   "metadata": {},
   "source": [
    "### Common imports"
   ]
  },
  {
   "cell_type": "code",
   "execution_count": null,
   "id": "fb1130e6",
   "metadata": {},
   "outputs": [],
   "source": [
    "from PIL import Image\n",
    "import re\n",
    "import pandas as pd\n",
    "\n",
    "# import geopandas as gpd\n",
    "import pandas_access\n",
    "from datetime import datetime\n",
    "import pyodbc\n",
    "import numpy as np\n",
    "from multiprocessing import Pool\n",
    "from functools import partial\n",
    "import geopandas as gp\n",
    "import boto3\n",
    "import re\n",
    "from tqdm.notebook import tqdm\n",
    "from dateutil.parser import parse\n",
    "from concurrent.futures import ThreadPoolExecutor\n",
    "from io import BytesIO\n",
    "from functools import partial\n",
    "\n",
    "tqdm.pandas()\n",
    "\n",
    "boto3.setup_default_session(profile_name=\"GLO\")\n",
    "bucket_name = \"twi-aviandata\"\n",
    "starting_folder = \"HighResolutionImages\"\n",
    "new_folder_hr = \"avian_monitoring_\"\n",
    "sts_client = boto3.client('sts')\n",
    "assumed_role_object=sts_client.assume_role(\n",
    "    RoleArn= role_to_assume,\n",
    "    RoleSessionName=\"AssumeRoleSession1\",\n",
    "    DurationSeconds=43000\n",
    ")\n",
    "credentials=assumed_role_object['Credentials']\n",
    "\n",
    "aws_s3 = boto3.resource(\n",
    "    \"s3\",\n",
    "    aws_access_key_id=credentials['AccessKeyId'],\n",
    "    aws_secret_access_key=credentials['SecretAccessKey'],\n",
    "    aws_session_token=credentials['SessionToken'],\n",
    ")\n",
    "avian_data = aws_s3.Bucket(bucket_name)"
   ]
  },
  {
   "cell_type": "markdown",
   "id": "bd281c6d",
   "metadata": {},
   "source": [
    "### Utilities"
   ]
  },
  {
   "cell_type": "code",
   "execution_count": null,
   "id": "0583c1df",
   "metadata": {},
   "outputs": [],
   "source": [
    "def clean_date(text):\n",
    "    \"\"\"Return a date as yyyy-MMM-dd (e.g. 2022-May-15)\"\"\"\n",
    "    datetimestr = parse(text)\n",
    "    text = datetime.strftime(datetimestr, \"%Y-%b-%d\")\n",
    "    return text\n",
    "\n",
    "\n",
    "def update_mime_type(t, mime=\"image/png\"):\n",
    "    \"\"\"Update the metadata of s3 objects to the given Mime type\"\"\"\n",
    "    s3_object = avian_data.Object(t)\n",
    "    s3_object.copy_from(\n",
    "        CopySource={\"Bucket\": avian_data.name, \"Key\": t},\n",
    "        Metadata=s3_object.metadata,\n",
    "        MetadataDirective=\"REPLACE\",\n",
    "        ContentType=mime,\n",
    "    )\n",
    "\n",
    "\n",
    "def copy_wnew_mime_type(t, k, mime=\"image/png\"):\n",
    "    \"\"\"Copy a s3 object, modifying its mime type\"\"\"\n",
    "    s3_object = avian_data.Object(t)\n",
    "    avian_data.copy(\n",
    "        {\"Bucket\": avian_data.name, \"Key\": t},\n",
    "        k,\n",
    "        Metadata=s3_object.metadata,\n",
    "        MetadataDirective=\"REPLACE\",\n",
    "        ContentType=mime,\n",
    "    )\n",
    "\n",
    "def rename(key, new_name, replace=False):\n",
    "    \"\"\"Copy an object (key) to a new location (new_name) on the avian_data bucket\"\"\"\n",
    "    if not replace and [o for o in avian_data.objects.filter(Prefix=new_name)]:\n",
    "        return True\n",
    "\n",
    "    try:\n",
    "        avian_data.copy({\"Bucket\": avian_data.name, \"Key\": key}, new_name)\n",
    "    except Exception as e:\n",
    "        print(e)\n",
    "        check_lowercase = list(\n",
    "            avian_data.objects.filter(Prefix=key.replace(\".JPG\", \".jpg\"))\n",
    "        )\n",
    "        if check_lowercase:\n",
    "            avian_data.copy(\n",
    "                {\"Bucket\": avian_data.name, \"Key\": check_lowercase[0].key}, new_name\n",
    "            )\n",
    "            return True\n",
    "        check_uppercase = list(\n",
    "            avian_data.objects.filter(Prefix=key.replace(\".jpg\", \".JPG\"))\n",
    "        )\n",
    "        if check_uppercase:\n",
    "            avian_data.copy(\n",
    "                {\"Bucket\": avian_data.name, \"Key\": check_uppercase[0].key}, new_name\n",
    "            )\n",
    "            return True\n",
    "        print(f\"{key} not found\")\n",
    "        return False\n",
    "\n",
    "\n",
    "def generate_thumbnail(high_res_key, thumb_key, regenerate=False):\n",
    "    \"\"\"Generate a low resolution thumbnail at thumb_key of the high_res_key object.\n",
    "    it uses the global thumbnail_size to define the size.\n",
    "    \"\"\"\n",
    "    current = avian_data.objects.filter(Prefix=thumb_key)\n",
    "    if not regenerate and [o for o in current]:\n",
    "        return True\n",
    "    objs = [o for o in avian_data.objects.filter(Prefix=high_res_key)]\n",
    "    if not objs:\n",
    "        print(f\"there is no {high_res_key}\")\n",
    "        return False\n",
    "    image = Image.open(BytesIO(objs[0].get()[\"Body\"].read()))\n",
    "    buffer = BytesIO()\n",
    "    image.thumbnail(thumbnail_size)\n",
    "    image.save(buffer, format=\"png\")\n",
    "    buffer.seek(0)\n",
    "    avian_data.put_object(Key=thumb_key, Body=buffer, ContentType=\"image/png\")\n",
    "    return True\n",
    "\n",
    "def createListings(tree, path):\n",
    "    \"\"\"Recursive method to list all files and folders in a tree,\n",
    "    with the format required by jquery browse files\"\"\"\n",
    "    dirs = []\n",
    "    files = []\n",
    "    listings = {}\n",
    "    for e in tree:\n",
    "        if tree[e]:\n",
    "            dirs.append(e)\n",
    "            listings.update(createListings(tree[e], path + \"/\" + e))\n",
    "        elif \".\" in e:\n",
    "            files.append(e)\n",
    "\n",
    "    listings[path] = {\"dirs\": dirs, \"files\": files}\n",
    "    return listings\n",
    "\n",
    "def exists_key(key, replace=False):\n",
    "    try:\n",
    "        return len(list(avian_data.objects.filter(Prefix=key))) > 0\n",
    "    except Exception as e:\n",
    "        print(f\"key:{key}, exception {e}\")\n",
    "        return False\n",
    "\n"
   ]
  },
  {
   "cell_type": "markdown",
   "id": "61ba25dd",
   "metadata": {},
   "source": [
    "# Unified 2010-2021 Data\n",
    "\n",
    "Data has been unified by Colibri into a single access database, however it contains tables discriminated by years, with some differences in the schema. This process will combine all the datasets into a single one with a common deffinition of the total birds and total nests. "
   ]
  },
  {
   "cell_type": "code",
   "execution_count": null,
   "id": "1147a2b5",
   "metadata": {},
   "outputs": [],
   "source": [
    "# Notes: In order to use all the fields, I did a rename of the columns containing '?' or '/'\n",
    "acc_db = \"Colibri2010-2021CWBColonies_2Jan2023.accdb\"\n",
    "\n",
    "schema = pandas_access.read_schema(acc_db)\n"
   ]
  },
  {
   "cell_type": "code",
   "execution_count": null,
   "id": "ef6dd021",
   "metadata": {},
   "outputs": [],
   "source": [
    "ct_name = \"tblRWCWB_ColonyInventory_10Nov22\"\n",
    "# colonies_table = schema.pop(\"tblRWCWB_ColonyInventory_13Sept2022\")\n",
    "colonies_table = schema.pop(ct_name)\n"
   ]
  },
  {
   "cell_type": "markdown",
   "id": "17882869",
   "metadata": {},
   "source": [
    "There are three tables with slighly different schema"
   ]
  },
  {
   "cell_type": "code",
   "execution_count": null,
   "id": "2150d7a0",
   "metadata": {},
   "outputs": [],
   "source": [
    "schema\n"
   ]
  },
  {
   "cell_type": "markdown",
   "id": "0f47f136",
   "metadata": {},
   "source": [
    "Taking the 2015 to 2021 table as a reference, lets compare the schemas.\n",
    "\n",
    "Fields in the reference but not in the `tblSpeciesData2011_2013` table"
   ]
  },
  {
   "cell_type": "code",
   "execution_count": null,
   "id": "7535028f",
   "metadata": {},
   "outputs": [],
   "source": [
    "schema[\"tblSpeciesData2015_2018_2021\"].keys() - schema[\"tblSpeciesData2011_2013\"].keys()\n"
   ]
  },
  {
   "cell_type": "markdown",
   "id": "eb00a611",
   "metadata": {},
   "source": [
    "Fields in the `tblSpeciesData2011_2013` table but not in the reference"
   ]
  },
  {
   "cell_type": "code",
   "execution_count": null,
   "id": "2bef7532",
   "metadata": {},
   "outputs": [],
   "source": [
    "schema[\"tblSpeciesData2011_2013\"].keys() - schema[\"tblSpeciesData2015_2018_2021\"].keys()"
   ]
  },
  {
   "cell_type": "markdown",
   "id": "cbfcb572",
   "metadata": {},
   "source": [
    "Fields in the referece but not in the 2010 table"
   ]
  },
  {
   "cell_type": "code",
   "execution_count": null,
   "id": "e20b6a5e",
   "metadata": {},
   "outputs": [],
   "source": [
    "schema[\"tblSpeciesData2015_2018_2021\"].keys() - schema[\"tblSpeciesData2010\"].keys()\n"
   ]
  },
  {
   "cell_type": "markdown",
   "id": "95e4fdbf",
   "metadata": {},
   "source": [
    "Fields in the referece but not in the 2010 table"
   ]
  },
  {
   "cell_type": "code",
   "execution_count": null,
   "id": "5a7763ae",
   "metadata": {},
   "outputs": [],
   "source": [
    "schema[\"tblSpeciesData2010\"].keys() - schema[\"tblSpeciesData2015_2018_2021\"].keys()\n"
   ]
  },
  {
   "cell_type": "markdown",
   "id": "d1b0e1a8",
   "metadata": {},
   "source": [
    "That also means that we have different formulas to calculate the total. The bestForBPE field is used as filter in 2013 to 2021, but it is not used in the 2010.\n",
    "\n",
    "### Formulas\n",
    "\n",
    "|                | 2010                                                                                                                                                               | 2011-2013                                                                                                                                                          | 2015-2021                                                                                                 |\n",
    "|----------------|--------------------------------------------------------------------------------------------------------------------------------------------------------------------|--------------------------------------------------------------------------------------------------------------------------------------------------------------------|-----------------------------------------------------------------------------------------------------------|\n",
    "| Nests          | sum(<br>[WBN]<br>+[ChickNestw/outAdult]<br>+[AbandNest]<br>+[EmptyNest]<br>+[PBN]<br>+[Site]<br>+[Brood])                                                          | Sum(<br>[WBN]<br>+[ChickNestw/outAdult]<br>+[AbandNest]<br>+[EmptyNest]<br>+[PBN]<br>+[Site]<br>+[Brood])                                                          | Sum(<br>[WBN]<br>+[ChickNest]<br>+[ChickNestw/outAdult]<br>+[AbandNest]<br>+[PBN]<br>+[Site]<br>+[Brood]) |\n",
    "| Birds          | sum([WBN]<br>+[PBN]<br>+[Site]<br>+[OtherAdultsInColony]<br>+[OtherImmInColony]<br>+[RoostingBirds]<br>+[RoostingAdults]<br>+[RoostingImmatures]<br>+[UnknownAge]) | Sum([WBN]<br>+[PBN]<br>+[Site]<br>+[OtherAdultsInColony]<br>+[OtherImmInColony]<br>+[RoostingBirds]<br>+[RoostingAdults]<br>+[RoostingImmatures]<br>+[UnknownAge]) | Sum(<br>[WBN]<br>+[ChickNest]<br>+[PBN]<br>+[Territory]<br>+[Site]<br>+[OtherBirds])                      |\n",
    "| SumOfEmptyNest | sum(EmptyNest)                                                                                                                                                     | EmptyNest                                                                                                                                                          | EmptyNest                                                                                                 |\n",
    "\n",
    "\n",
    "But 2015 to 2021 has additional categories: \n",
    "\n",
    "```SQL\n",
    "\n",
    "Sum(WBN) AS SumOfWBN\n",
    "\n",
    "Sum(ChickNest) AS SumOfChickNest\n",
    "\n",
    "Sum([ChickNestw/outAdult]) AS [SumOfChickNestw/outAdult] \n",
    "\n",
    "Sum(Brood) AS SumOfBrood\n",
    "\n",
    "Sum(AbandNest) AS SumOfAbandNest\n",
    "\n",
    "Sum(PBN) AS SumOfPBN\n",
    "\n",
    "Sum(Territory) AS SumOfTerritory\n",
    "```"
   ]
  },
  {
   "cell_type": "markdown",
   "id": "54afca74",
   "metadata": {},
   "source": [
    "## Generating a common dataset:\n",
    "- merge 2010 species with the colonies. \n",
    "- select only the common columns "
   ]
  },
  {
   "cell_type": "code",
   "execution_count": null,
   "id": "c81790db",
   "metadata": {},
   "outputs": [],
   "source": [
    "cols_2015_2021 = set(schema[\"tblSpeciesData2015_2018_2021\"].keys())\n",
    "cols_2011_2013 = set(schema[\"tblSpeciesData2011_2013\"].keys())\n",
    "cols_2010 = set(schema[\"tblSpeciesData2010\"].keys())\n",
    "common_fields = cols_2011_2013.intersection(cols_2015_2021)\n"
   ]
  },
  {
   "cell_type": "code",
   "execution_count": null,
   "id": "6c1f4e29",
   "metadata": {},
   "outputs": [],
   "source": [
    "cols_2010 - common_fields\n"
   ]
  },
  {
   "cell_type": "code",
   "execution_count": null,
   "id": "1577e587",
   "metadata": {},
   "outputs": [],
   "source": [
    "common_fields - cols_2010\n"
   ]
  },
  {
   "cell_type": "code",
   "execution_count": null,
   "id": "f86ec0a1",
   "metadata": {},
   "outputs": [],
   "source": []
  },
  {
   "cell_type": "markdown",
   "id": "320e71af",
   "metadata": {},
   "source": [
    "# UPDATE Mime types "
   ]
  },
  {
   "cell_type": "markdown",
   "id": "54b30546",
   "metadata": {},
   "source": [
    "# 2022-2023 data"
   ]
  },
  {
   "cell_type": "code",
   "execution_count": null,
   "id": "071723df",
   "metadata": {},
   "outputs": [],
   "source": [
    "acc_db2023 = \"./LACWB_2022-2023.accdb\"\n",
    "schema2023 = pandas_access.read_schema(acc_db2023)"
   ]
  },
  {
   "cell_type": "code",
   "execution_count": null,
   "id": "a2976450",
   "metadata": {},
   "outputs": [],
   "source": [
    "fields2023 = set( schema2023[\"tblSpeciesData\"].keys())"
   ]
  },
  {
   "cell_type": "code",
   "execution_count": null,
   "id": "7d98bec0",
   "metadata": {},
   "outputs": [],
   "source": [
    "fields2023"
   ]
  },
  {
   "cell_type": "code",
   "execution_count": null,
   "id": "713d57f0",
   "metadata": {},
   "outputs": [],
   "source": [
    "common_fields - fields2023"
   ]
  },
  {
   "cell_type": "code",
   "execution_count": null,
   "id": "be29ddc0",
   "metadata": {},
   "outputs": [],
   "source": [
    "fields2023 - common_fields"
   ]
  },
  {
   "cell_type": "code",
   "execution_count": null,
   "id": "0e44ba46",
   "metadata": {},
   "outputs": [],
   "source": [
    "common_fields"
   ]
  },
  {
   "cell_type": "code",
   "execution_count": null,
   "id": "87d78ebd",
   "metadata": {},
   "outputs": [],
   "source": [
    "pd_species_2023 = pandas_access.read_table(acc_db2023, \"tblSpeciesData\")\n",
    "colonies_table2023 =  pandas_access.read_table(acc_db2023, \"RWCWB_ColonyInventory_13Septemb\")"
   ]
  },
  {
   "cell_type": "code",
   "execution_count": null,
   "id": "0941ff82",
   "metadata": {},
   "outputs": [],
   "source": [
    "colonies_table2023"
   ]
  },
  {
   "cell_type": "code",
   "execution_count": null,
   "id": "0d26ef92",
   "metadata": {},
   "outputs": [],
   "source": [
    "pd_species_2023 = pd.merge(pd_species_2023, colonies_table2023, on=\"ColonyName\", how=\"left\")\n"
   ]
  },
  {
   "cell_type": "code",
   "execution_count": null,
   "id": "a5683a43",
   "metadata": {},
   "outputs": [],
   "source": [
    "pd_species_2023[\"HighResImage_new\"] = (\n",
    "    f\"{_base_folder}/high_resolution_photos/\"\n",
    "    + pd_species_2023[\"Year\"].astype(str)\n",
    "    + \"/\"\n",
    "    + pd_species_2023[\"GeoRegion\"]\n",
    "    + \"/\"\n",
    "    + pd_species_2023[\"ColonyName\"]\n",
    "    + \"/\"\n",
    "    + pd.to_datetime(\n",
    "        pd_species_2023[\"Date\"].astype(\"str\"), format=\"%m/%d/%y %H:%M:%S\"\n",
    "    ).dt.strftime(\"%d%B%y\")\n",
    "    + \"Camera\"\n",
    "    + pd_species_2023[\"CameraNumber\"]\n",
    "    + \"-\"\n",
    "    + \"Card\"\n",
    "    + (pd_species_2023[\"CardNumber\"].where(~pd_species_2023[\"CardNumber\"].isnull(), other=\"1\"))\n",
    "    + \"-\"\n",
    "    + pd_species_2023[\"PhotoNumber\"]\n",
    "    + \".jpg\"\n",
    ")\n",
    "pd_species_2023[\"screenshot_new\"] = (\n",
    "    f\"{_base_folder}/screenshots/\"\n",
    "    + pd_species_2023[\"Year\"].astype(str)\n",
    "    + \"/\"\n",
    "    + pd_species_2023[\"GeoRegion\"]\n",
    "    + \"/\"\n",
    "    + pd_species_2023[\"ColonyName\"]\n",
    "    + \"/\"\n",
    "    + pd.to_datetime(\n",
    "        pd_species_2023[\"Date\"].astype(\"str\"), format=\"%m/%d/%y %H:%M:%S\"\n",
    "    ).dt.strftime(\"%d%B%y\")\n",
    "    + \"Camera\"\n",
    "    + pd_species_2023[\"CameraNumber\"]\n",
    "    + \"-\"\n",
    "    + \"Card\"\n",
    "    + (pd_species_2023[\"CardNumber\"].where(~pd_species_2023[\"CardNumber\"].isnull(), other=\"1\"))\n",
    "    + \"-\"\n",
    "    + pd_species_2023[\"PhotoNumber\"]\n",
    "    + \".jpg\"\n",
    ")\n",
    "pd_species_2023[\"thumbnail_new\"] = (\n",
    "    f\"{_base_folder}/thumbnails/\"\n",
    "    + pd_species_2023[\"Year\"].astype(str)\n",
    "    + \"/\"\n",
    "    + pd_species_2023[\"GeoRegion\"]\n",
    "    + \"/\"\n",
    "    + pd_species_2023[\"ColonyName\"]\n",
    "    + \"/\"\n",
    "    + pd.to_datetime(\n",
    "        pd_species_2023[\"Date\"].astype(\"str\"), format=\"%m/%d/%y %H:%M:%S\"\n",
    "    ).dt.strftime(\"%d%B%y\")\n",
    "    + \"Camera\"\n",
    "    + pd_species_2023[\"CameraNumber\"]\n",
    "    + \"-\"\n",
    "    + \"Card\"\n",
    "    + (pd_species_2023[\"CardNumber\"].where(~pd_species_2023[\"CardNumber\"].isnull(), other=\"1\"))\n",
    "    + \"-\"\n",
    "    + pd_species_2023[\"PhotoNumber\"]\n",
    "    + \".png\"\n",
    ")\n"
   ]
  },
  {
   "cell_type": "markdown",
   "id": "2b87ce82",
   "metadata": {},
   "source": [
    "# There are some rows without photo information\n",
    "They are from the locations using the new method"
   ]
  },
  {
   "cell_type": "code",
   "execution_count": null,
   "id": "341a0bc2",
   "metadata": {},
   "outputs": [],
   "source": [
    "\n",
    "v  = pd_species_2023[pd_species_2023[\"HighResImage_new\"].isna()][[\"Year\",\"ColonyName\"]].value_counts()"
   ]
  },
  {
   "cell_type": "code",
   "execution_count": null,
   "id": "d64f45ad",
   "metadata": {},
   "outputs": [],
   "source": [
    "print(v.sort_index().to_string())"
   ]
  },
  {
   "cell_type": "code",
   "execution_count": null,
   "id": "e1673371",
   "metadata": {},
   "outputs": [],
   "source": [
    " pd_species_2023[\"total_nests\"] = (pd_species_2023[\"WBN\"]\n",
    "    + pd_species_2023[\"ChickNestwithoutAdult\"]\n",
    "    + pd_species_2023[\"AbandNest\"]\n",
    "    + pd_species_2023[\"ChickNest\"]\n",
    "    + pd_species_2023[\"PBN\"]\n",
    "    + pd_species_2023[\"Site\"]\n",
    "    + pd_species_2023[\"Brood\"])\n",
    "pd_species_2023[\"total_birds\"] = (pd_species_2023[\"WBN\"]\n",
    "    + pd_species_2023[\"ChickNest\"]\n",
    "    + pd_species_2023[\"PBN\"]\n",
    "    + pd_species_2023[\"Territory\"]\n",
    "    + pd_species_2023[\"Site\"]\n",
    "    + pd_species_2023[\"OtherBirds\"])"
   ]
  },
  {
   "cell_type": "code",
   "execution_count": null,
   "id": "8f55beaa",
   "metadata": {},
   "outputs": [],
   "source": [
    "pd_species_2023[\"date2\"] = pd_species_2023[\"Date\"].astype(\"str\").apply(clean_date)\n",
    "pd_species_2023[\"month\"] = pd_species_2023[\"date2\"].apply(lambda x: x.split(\"-\")[1])\n",
    "order_by_field = \"total_nests\" "
   ]
  },
  {
   "cell_type": "code",
   "execution_count": null,
   "id": "0974e222",
   "metadata": {},
   "outputs": [],
   "source": [
    "pd_species_2023[\"SpeciesCode\"] = pd_species_2023[\"SpeciesCode\"].str.upper()\n"
   ]
  },
  {
   "cell_type": "code",
   "execution_count": null,
   "id": "0d918bce",
   "metadata": {},
   "outputs": [],
   "source": [
    "pd_species_2023[pd_species_2023[\"BestForBPE\"]=='Y']"
   ]
  },
  {
   "cell_type": "code",
   "execution_count": null,
   "id": "734ce652",
   "metadata": {},
   "outputs": [],
   "source": [
    "pd_species_2023[\"uid\"] = (\n",
    "    np.where(\n",
    "        pd_species_2023[\"HighResImage_new\"].isna(),\n",
    "        pd_species_2023[\"date2\"].astype(str)\n",
    "        +\"+\"\n",
    "        +pd_species_2023[\"ColonyName\"],\n",
    "        pd_species_2023[\"HighResImage_new\"]\n",
    "    ) \n",
    "    + \"#\"\n",
    "    + np.where(pd_species_2023[\"SpeciesCode\"].isna(),\n",
    "               \"N/A\",\n",
    "               pd_species_2023[\"SpeciesCode\"])\n",
    ")"
   ]
  },
  {
   "cell_type": "code",
   "execution_count": null,
   "id": "0093e4c2",
   "metadata": {},
   "outputs": [],
   "source": [
    "pd_species_2023.loc[pd_species_2023.SpeciesCode.str.startswith(\"REEG \"),\"SpeciesCode\"]=\"REEG\""
   ]
  },
  {
   "cell_type": "code",
   "execution_count": null,
   "id": "7dfa6be1",
   "metadata": {},
   "outputs": [],
   "source": [
    "pd_species_2023"
   ]
  },
  {
   "cell_type": "code",
   "execution_count": null,
   "id": "39d961b2",
   "metadata": {},
   "outputs": [],
   "source": [
    "pd_species_2023.to_excel(\"avianmonitoring_2023.xlsx\", index=False)\n"
   ]
  },
  {
   "cell_type": "code",
   "execution_count": null,
   "id": "8e5031b0",
   "metadata": {},
   "outputs": [],
   "source": [
    "agg_pd_species = (\n",
    "    pd_species_2023.loc[\n",
    "        pd_species_2023.BestForBPE == \"Y\",\n",
    "        [\n",
    "            \"Year\",\n",
    "            \"Date\",\n",
    "            \"State\",\n",
    "            \"GeoRegion\",\n",
    "            \"ColonyName\",\n",
    "            \"SpeciesCode\",\n",
    "            \"Longitude\",\n",
    "            \"Latitude\",\n",
    "            \"total_nests\",\n",
    "            \"total_birds\",\n",
    "        ],\n",
    "    ]\n",
    "    .groupby(\n",
    "        [\n",
    "            \"Year\",\n",
    "            \"Date\",\n",
    "            \"State\",\n",
    "            \"GeoRegion\",\n",
    "            \"ColonyName\",\n",
    "            \"Longitude\",\n",
    "            \"Latitude\",\n",
    "            \"SpeciesCode\"\n",
    "        ]\n",
    "    )\n",
    "    .sum()\n",
    ")"
   ]
  },
  {
   "cell_type": "code",
   "execution_count": null,
   "id": "591e5d8f",
   "metadata": {},
   "outputs": [],
   "source": [
    "agg_pd_species"
   ]
  },
  {
   "cell_type": "code",
   "execution_count": null,
   "id": "4cabce29",
   "metadata": {},
   "outputs": [],
   "source": [
    "agg_pd_species.reset_index().rename(columns={\"total_nests\": \"Nests\", \"total_birds\": \"Birds\"}).to_excel(\"SummaryFileGenerated2023.xlsx\", index=False)"
   ]
  },
  {
   "cell_type": "code",
   "execution_count": null,
   "id": "3a379aac",
   "metadata": {},
   "outputs": [],
   "source": []
  },
  {
   "cell_type": "markdown",
   "id": "51e36919",
   "metadata": {},
   "source": [
    "# Reorganize Files\n",
    "2022 photos are organized by date camea card and photo number:\n",
    "eg. `15May2022_Camera1Card1/15May2022_Cam1Card1_1.jpg`\n",
    "2023 photos have a month folder also, and a small change on naming\n",
    "`2023/June 2023/21June2023Cam2Card1/21June2023_Cam2Card1_1.jpg`\n",
    "Following the existing schema, for photos used on the dotting dattabase, we want to organize them in the `f\"{_base_folder}/high_resolution_photos/\"` folder under a GeoRegion/ColonyName subfolder"
   ]
  },
  {
   "cell_type": "code",
   "execution_count": null,
   "id": "98e58b17",
   "metadata": {},
   "outputs": [],
   "source": [
    "_hr_original_folder = \"HighResolutionImages/\"\n",
    "# the candidate will have this format 2022/15May2022_Camera1Card1/15May2022_Cam1Card1_1.jpg\n",
    "#if year is 2023, then there is a folder for each month 'June 2023' or 'May 2023'\n",
    "\n",
    "pd_species_2023[\"candidate_hr\"] = (_hr_original_folder\n",
    "+ pd_species_2023[\"Year\"].astype(\"str\") + \"/\"\n",
    "+ (np.where(pd_species_2023[\"Year\"]==2023, pd.to_datetime(\n",
    "        pd_species_2023[\"Date\"].astype(\"str\"), format=\"%m/%d/%y %H:%M:%S\"\n",
    "    ).dt.strftime(\"%B %Y\") +\"/\", \"\"))\n",
    "+pd.to_datetime(\n",
    "        pd_species_2023[\"Date\"].astype(\"str\"), format=\"%m/%d/%y %H:%M:%S\"\n",
    "    ).dt.strftime(\"%d%B%Y\") \n",
    "+ np.where( pd.to_datetime(pd_species_2023[\"Date\"].astype(\"str\"), format=\"%m/%d/%y %H:%M:%S\").dt.strftime(\"%B %Y\")==\"June 2023\", \"Cam\",\"_Camera\")\n",
    "+pd_species_2023[\"CameraNumber\"]\n",
    "+\"Card\"\n",
    "+pd_species_2023[\"CardNumber\"]\n",
    "+\"/\"\n",
    "+pd.to_datetime(\n",
    "        pd_species_2023[\"Date\"].astype(\"str\"), format=\"%m/%d/%y %H:%M:%S\"\n",
    "    ).dt.strftime(\"%d%B%Y\")\n",
    "+\"_Cam\"\n",
    "+pd_species_2023[\"CameraNumber\"]\n",
    "+\"Card\"\n",
    "+pd_species_2023[\"CardNumber\"]\n",
    "+\"_\"\n",
    "+pd_species_2023[\"PhotoNumber\"].str.strip()\n",
    "+\".jpg\")\n",
    "\n",
    "m_grouped = pd_species_2023[[\"HighResImage_new\",\"candidate_hr\",\"thumbnail_new\"]].drop_duplicates()\n",
    "#remove the ones that do not have a HighResImage_new\n",
    "m_grouped = m_grouped[~m_grouped[\"HighResImage_new\"].isna()]\n",
    "with ThreadPoolExecutor(max_workers=16) as e:\n",
    "        futures = list(\n",
    "            tqdm(\n",
    "                e.map(\n",
    "                    lambda x, y: rename(x, y),\n",
    "                    m_grouped[\"candidate_hr\"].tolist(),\n",
    "                    m_grouped[\"HighResImage_new\"].tolist(),\n",
    "                ),\n",
    "                total=m_grouped.shape[0],\n",
    "            )\n",
    "        )"
   ]
  },
  {
   "cell_type": "code",
   "execution_count": null,
   "id": "565ded44",
   "metadata": {},
   "outputs": [],
   "source": [
    "if create_thumbnails:\n",
    "    with ThreadPoolExecutor(max_workers=16) as e:\n",
    "        futures = list(\n",
    "            tqdm(\n",
    "                e.map(\n",
    "                    partial(generate_thumbnail, regenerate=False),\n",
    "                    m_grouped[\"HighResImage_new\"].tolist(),\n",
    "                    m_grouped[\"thumbnail_new\"].tolist(),\n",
    "                ),\n",
    "                total=m_grouped.shape[0],\n",
    "            )\n",
    "        )\n"
   ]
  },
  {
   "cell_type": "markdown",
   "id": "751f1f01",
   "metadata": {},
   "source": [
    "for 2023 screenshots, the original files are available at: \n",
    "`DottedImages/2023/Breton Screen Captures/` and have the format:`24June23BRETArea1.JPG`\n",
    "Given that we have the Area and the date on the dataframe we can generate the candidate names"
   ]
  },
  {
   "cell_type": "code",
   "execution_count": null,
   "id": "8f11b996",
   "metadata": {},
   "outputs": [],
   "source": [
    "pd_species_2023"
   ]
  },
  {
   "cell_type": "code",
   "execution_count": null,
   "id": "3f2d91b2",
   "metadata": {},
   "outputs": [],
   "source": [
    "pd_species_2023[\"candidate_screenshot\"]=np.where((pd_species_2023[\"Year\"]==2023) & (pd_species_2023[\"ColonyName\"]==\"Breton Island\"),\n",
    "\"DottedImages/2023/Breton Screen Captures/\"\n",
    "+pd.to_datetime(\n",
    "        pd_species_2023[\"Date\"].astype(\"str\"), format=\"%m/%d/%y %H:%M:%S\"\n",
    "    ).dt.strftime(\"%d%B%y\")+\"BRETArea\"+pd_species_2023[\"DottingAreaNumber\"]+\".JPG\",\n",
    "                                                 None\n",
    ")\n",
    "s_grouped = pd_species_2023.loc[~pd_species_2023.candidate_screenshot.isnull(),[\"screenshot_new\",\"candidate_screenshot\"]].drop_duplicates()\n"
   ]
  },
  {
   "cell_type": "code",
   "execution_count": null,
   "id": "885eec5d",
   "metadata": {},
   "outputs": [],
   "source": [
    "with ThreadPoolExecutor(max_workers=16) as e:\n",
    "        futures = list(\n",
    "            tqdm(\n",
    "                e.map(\n",
    "                    lambda x, y: rename(x, y),\n",
    "                    s_grouped[\"candidate_screenshot\"].tolist(),\n",
    "                    s_grouped[\"screenshot_new\"].tolist(),\n",
    "                ),\n",
    "                total=s_grouped.shape[0],\n",
    "            )\n",
    "        )"
   ]
  },
  {
   "cell_type": "markdown",
   "id": "8f5cf052",
   "metadata": {},
   "source": [
    "## Update list of files on AWS (for file browsing)"
   ]
  },
  {
   "cell_type": "code",
   "execution_count": null,
   "id": "0763db90",
   "metadata": {},
   "outputs": [],
   "source": [
    "files_in_bucket = list(avian_data.objects.all())\n",
    "tree = {}\n",
    "filenames = [f.key for f in files_in_bucket if not f.key.endswith(\"/\")]\n",
    "for file in filenames:\n",
    "    parent = tree\n",
    "    filepath = file.split(\"/\")\n",
    "    for p in filepath:\n",
    "        level = parent.get(p, {})\n",
    "        parent[p] = level\n",
    "        parent = parent[p]"
   ]
  },
  {
   "cell_type": "code",
   "execution_count": null,
   "id": "e3427e88",
   "metadata": {},
   "outputs": [],
   "source": [
    "remove_from_root = [\"403.html\", \n",
    "                    \"index.html\", \n",
    "                    \"list_files.html\",\n",
    "                    \"list_files_ns.html\",\n",
    "                    \"explorer.css\",\n",
    "                    \"explorer.js\",\n",
    "                    \"browser.html\",\n",
    "                    \"test.txt\",\n",
    "                    \"image_unavailable.png\",\n",
    "                    ]\n",
    "for r in remove_from_root:\n",
    "    if r in tree:\n",
    "        tree.pop(r)\n"
   ]
  },
  {
   "cell_type": "code",
   "execution_count": null,
   "id": "82571a8d",
   "metadata": {},
   "outputs": [],
   "source": [
    "tree.keys()"
   ]
  },
  {
   "cell_type": "code",
   "execution_count": null,
   "id": "fb2ea33e",
   "metadata": {},
   "outputs": [],
   "source": [
    "listings = createListings(tree, \"\")\n",
    "import json\n",
    "\n",
    "with open(\"file_listing.json\", \"w\") as jsonfile:\n",
    "    json.dump(listings, jsonfile)"
   ]
  },
  {
   "cell_type": "code",
   "execution_count": null,
   "id": "783f7279",
   "metadata": {},
   "outputs": [],
   "source": [
    "avian_data.put_object(Key=\"file_listing.json\", Body=json.dumps(listings), ContentType=\"application/json\")"
   ]
  },
  {
   "cell_type": "code",
   "execution_count": null,
   "id": "ff65ae53",
   "metadata": {},
   "outputs": [],
   "source": []
  },
  {
   "cell_type": "markdown",
   "id": "ba173649",
   "metadata": {},
   "source": [
    "# Check existing files"
   ]
  },
  {
   "cell_type": "code",
   "execution_count": null,
   "id": "2ca9565f",
   "metadata": {},
   "outputs": [],
   "source": []
  },
  {
   "cell_type": "code",
   "execution_count": null,
   "id": "30e2fbb0",
   "metadata": {},
   "outputs": [],
   "source": [
    "# This is equivalent, but faster than: pd_species[\"thumbnail_new\"] = pd_species[\"thumbnail_new\"].progress_apply(exists_key)\n",
    "with ThreadPoolExecutor(max_workers=128) as e:\n",
    "    futures = {}\n",
    "    _grouped = pd_species_2023[\n",
    "        filter(lambda x: \"_new\" in x, pd_species_2023.columns)\n",
    "    ].drop_duplicates()\n",
    "    for f in _grouped.columns:\n",
    "        futures[f] = list(\n",
    "            tqdm(\n",
    "                e.map(lambda y: exists_key(y), _grouped[f].tolist()),\n",
    "                total=_grouped.shape[0],\n",
    "            )\n",
    "        )"
   ]
  },
  {
   "cell_type": "code",
   "execution_count": null,
   "id": "f937df51",
   "metadata": {},
   "outputs": [],
   "source": [
    "for x in futures:\n",
    "    with pd.option_context(\"display.max_colwidth\", None):\n",
    "        display(_grouped.loc[~np.array(futures[x]), x])\n"
   ]
  },
  {
   "cell_type": "code",
   "execution_count": null,
   "id": "a71f5ab4",
   "metadata": {},
   "outputs": [],
   "source": [
    "x = \"HighResImage_new\"\n",
    "pd_species_2023[pd_species_2023[x].isin(_grouped.loc[~np.array(futures[x]), x])]\n"
   ]
  },
  {
   "cell_type": "code",
   "execution_count": null,
   "id": "11e217d9",
   "metadata": {},
   "outputs": [],
   "source": [
    "for x in futures:\n",
    "    print(x, np.sum(~np.array(futures[x])))\n",
    "    with pd.option_context(\"display.max_colwidth\", None):\n",
    "        _no_exists = pd_species_2023[\n",
    "            pd_species_2023[x].isin(_grouped.loc[~np.array(futures[x]), x])\n",
    "        ]\n",
    "        display(_no_exists)\n",
    "        display(_no_exists[[\"Year\", x]].drop_duplicates().groupby([\"Year\"]).count())\n",
    "        pd_species_2023.loc[\n",
    "            pd_species_2023[x].isin(_grouped.loc[~np.array(futures[x]), x]), x\n",
    "        ] = None\n",
    "#   with pd.option_context('display.max_colwidth', None):\n",
    "#       display(pd_species.loc[~np.array(futures[x]), x].drop_duplicates())\n",
    "#       pd_species.loc[~np.array(futures[x]), x].drop_duplicates().to_csv(f\"not_found_{x}.csv\", index=False)\n",
    "\n",
    "#   display(pd_species.loc[~np.array(futures[x]),[x,\"Year\"]].drop_duplicates().groupby(\"Year\").count())\n",
    "#   pd_species.loc[~np.array(futures[x]), x] = None\n"
   ]
  },
  {
   "cell_type": "code",
   "execution_count": null,
   "id": "3e54d1f4",
   "metadata": {},
   "outputs": [],
   "source": [
    "pd_species_2023.to_csv(\"avianmonitoring_2022-2023_Nulls.csv.gz\", index=False)\n"
   ]
  },
  {
   "cell_type": "code",
   "execution_count": null,
   "id": "2495f84e",
   "metadata": {},
   "outputs": [],
   "source": [
    "pd_species_2023.to_excel(\"avianmonitoring_2022-2023_Nulls.xlsx\", index=False)\n"
   ]
  },
  {
   "cell_type": "code",
   "execution_count": null,
   "id": "1b01848e",
   "metadata": {},
   "outputs": [],
   "source": []
  },
  {
   "cell_type": "code",
   "execution_count": null,
   "id": "6c3f561f",
   "metadata": {},
   "outputs": [],
   "source": [
    "\n"
   ]
  },
  {
   "cell_type": "code",
   "execution_count": null,
   "id": "4062709a",
   "metadata": {},
   "outputs": [],
   "source": [
    "if replace and create_thumbnails:\n",
    "    m_grouped[\"thumbnail_new\"].progress_apply(lambda t: update_mime_type(t))\n"
   ]
  },
  {
   "cell_type": "code",
   "execution_count": null,
   "id": "0d740d45",
   "metadata": {},
   "outputs": [],
   "source": [
    "if rename_files:\n",
    "    with ThreadPoolExecutor(max_workers=16) as e:\n",
    "        futures = list(\n",
    "            tqdm(\n",
    "                e.map(\n",
    "                    lambda t: update_mime_type(t, mime=\"image/jpeg\"),\n",
    "                    m_grouped[\"HighResImage_new\"].tolist(),\n",
    "                ),\n",
    "                total=m_grouped.shape[0],\n",
    "            )\n",
    "        )\n"
   ]
  }
 ],
 "metadata": {
  "kernelspec": {
   "display_name": "Python 3 (ipykernel)",
   "language": "python",
   "name": "python3"
  },
  "language_info": {
   "codemirror_mode": {
    "name": "ipython",
    "version": 3
   },
   "file_extension": ".py",
   "mimetype": "text/x-python",
   "name": "python",
   "nbconvert_exporter": "python",
   "pygments_lexer": "ipython3",
   "version": "3.8.10"
  }
 },
 "nbformat": 4,
 "nbformat_minor": 5
}
