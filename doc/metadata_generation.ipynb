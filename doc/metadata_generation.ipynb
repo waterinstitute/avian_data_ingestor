{
 "cells": [
  {
   "cell_type": "markdown",
   "id": "8ddde4dc",
   "metadata": {},
   "source": [
    "# This notebook is the fundation of the Avian Data ingester\n",
    "The ingester component should\n",
    "  - Generate the thumbnail\n",
    "  - Get the EXIF metadata from the image\n",
    "  - Add the dotting information to the image metadata (currently in an MS access database)\n",
    "  - Read the KMZ/KML file with the routes to asign the GPS Location to each of the photos if needed. \n",
    "    <img src=\"./img/AvianDataIngestor.png\" width=800px/>\n",
    "  "
   ]
  },
  {
   "cell_type": "code",
   "execution_count": 1,
   "id": "cb6354e6",
   "metadata": {},
   "outputs": [
    {
     "data": {
      "application/vnd.jupyter.widget-view+json": {
       "model_id": "6703f724e8dd4b0a8ad63386f14c05db",
       "version_major": 2,
       "version_minor": 0
      },
      "text/plain": [
       "Text(value='./input', description='Input folder (folder containing the tiff images, the dotting database and t…"
      ]
     },
     "metadata": {},
     "output_type": "display_data"
    }
   ],
   "source": [
    "# parameters \n",
    "import ipywidgets as widgets\n",
    "input_path = widgets.Text(\n",
    "    value='./input',\n",
    "    placeholder='InputData',\n",
    "    description='Input folder (folder containing the tiff images, the dotting database and the KMLs):',\n",
    "    disabled=False\n",
    ")\n",
    "display(input_path)"
   ]
  },
  {
   "cell_type": "code",
   "execution_count": null,
   "id": "9b1a5e27",
   "metadata": {},
   "outputs": [],
   "source": [
    "from PIL import Image, ExifTags\n",
    "import os\n",
    "import re\n",
    "import json\n",
    "import pandas as pd\n",
    "import geopandas as gpd\n",
    "from pathlib import Path\n",
    "import platform\n",
    "import pandas_access\n",
    "from datetime import datetime\n",
    "# PILlow have methods to read exif, however, in the tests\n",
    "# made, it returns a empty dict for images with actual exif data\n",
    "import piexif\n",
    "import fiona\n",
    "import numpy as np\n",
    "\n",
    "# enable KML support which is disabled by default\n",
    "fiona.drvsupport.supported_drivers['kml'] = 'r'\n",
    "fiona.drvsupport.supported_drivers['KML'] = 'r' \n",
    "\n",
    "def _convert_to_degress(value):\n",
    "    \"\"\"    \n",
    "    Helper function to convert the GPS coordinates stored in the EXIF to degress in float format\n",
    "    Borrowed from: https://gist.github.com/snakeye/fdc372dbf11370fe29eb\n",
    "    Modified to recieve a tuple instead of a exifread.utils.Ratio\n",
    "    :param value:\n",
    "    :type value: tuple\n",
    "    :rtype: float\n",
    "    \"\"\"\n",
    "    d = float(value[0][0]) / float(value[0][1])\n",
    "    m = float(value[1][0]) / float(value[1][1])\n",
    "    s = float(value[2][0]) / float(value[2][1])\n",
    "\n",
    "    return d + (m / 60.0) + (s / 3600.0)\n",
    "\n",
    "class DottingInfo:\n",
    "    \"\"\"\n",
    "    Access and use the dotting information\n",
    "    \"\"\"\n",
    "    def __init__(self):\n",
    "        access_databases_paths = list(input_folder.glob(\"*.accdb\"))\n",
    "        db = None\n",
    "        self.tables = {}\n",
    "        data = []\n",
    "        try:\n",
    "            # I think we can assume we have only one database file per group of photos,\n",
    "            # However, if we have more than one, we can concatenate the values of the tables, \n",
    "            # iif they have the same schema. \n",
    "            for db in access_databases_paths:\n",
    "                schema = pandas_access.read_schema(db)\n",
    "                for table_name in schema:\n",
    "                    _t = pandas_access.read_table(db, table_name)\n",
    "                    self.tables[table_name] = (_t if not table_name in self.tables else pd.concat([ self.tables[table_name],_t])).drop_duplicates()\n",
    "            self.tables[\"tblSpeciesData\"][\"Date\"] = pd.to_datetime(self.tables[\"tblSpeciesData\"][\"Date\"])\n",
    "        except pyodbc.Error as e:\n",
    "            print(e)\n",
    "    def get_info_by_name(self, image_name):\n",
    "        \"\"\"\n",
    "        image_name must be DDMonthYYYYCameraX-Photo#.tiff\n",
    "        \"\"\"\n",
    "        name_re = r\"([0-9]{2}[A-Za-z]+[0-9]{4})\\s*Camera(\\d+)-(?:Photo|)(\\d+)\\.*\"\n",
    "        matches = re.match(name_re, image_name)\n",
    "        if not matches:\n",
    "            #raise Exception(f\"FATAL: The name of the photo {image_name} is not following the expected schema\")\n",
    "            return None\n",
    "        photo_info = matches.groups()\n",
    "        photo_date = datetime.strptime(photo_info[0], \"%d%B%Y\")\n",
    "        tbl_sd = self.tables.get(\"tblSpeciesData\")\n",
    "        if tbl_sd is None:\n",
    "            raise Exception (\"Please make sure that the table tblSpeciesData exists in the access database\")\n",
    "        data = tbl_sd.loc[(tbl_sd[\"Date\"] == photo_date) & (tbl_sd[\"CameraNumber\"] == photo_info[1]) &  (tbl_sd[\"PhotoNumber\"] == int(photo_info[2]))]\n",
    "        data = data.merge(self.tables[\"tblSpeciesCodes\"], how =\"left\",left_on=[\"SpeciesCode\"], right_on=[\"SpeciesCode\"]).reset_index(drop=True)\n",
    "        data = data.merge(self.tables[\"tblColonyLocationInfo\"], how=\"left\", left_on=\"ColonyID\", right_on=\"ColonyID\")\n",
    "        data = data.merge(self.tables[\"tblColonySiteNotes\"], how=\"left\", on=[\"ColonyID\",\"SpeciesCode\" ], suffixes=(None,\"_notes\"))\n",
    "        return data\n",
    "class KMLInfo:\n",
    "    \"\"\"\n",
    "    Use KML info to tag images.    \n",
    "    \"\"\"\n",
    "    def __init__(self, kmls_paths):\n",
    "        self.kmldf = None\n",
    "        for kml_file in kmls_paths:\n",
    "            _kmldf = gpd.read_file(kml_file)\n",
    "            self.kmldf = pd.concat([self.kmldf, _kmldf]) if self.kmldf is not None else _kmldf\n",
    "    def get_info_by_name(self, name, change_extension = None)->tuple:\n",
    "        \"\"\"\n",
    "        Get information from the KML files about a give image\n",
    "        params: \n",
    "            - name: image name\n",
    "            - change_extension: extension used in the names stored in the kml files\n",
    "                                None if no change is necessary. \n",
    "        \"\"\"\n",
    "        _sn = name if not change_extension else Path(name).with_suffix(f\".{change_extension}\").name\n",
    "        try:\n",
    "            geom = self.kmldf.loc[self.kmldf.Name == _sn].geometry\n",
    "            return geom.values[0] if len(geom)>0 else None\n",
    "        except (AttributeError, KeyError) as e:\n",
    "            return None"
   ]
  },
  {
   "cell_type": "code",
   "execution_count": null,
   "id": "11addfbb",
   "metadata": {},
   "outputs": [],
   "source": [
    "thumbnail_size = (200,200)"
   ]
  },
  {
   "cell_type": "code",
   "execution_count": null,
   "id": "715768f7",
   "metadata": {},
   "outputs": [],
   "source": [
    "input_folder = Path(input_path.value)\n",
    "access_databases_paths = input_folder.glob(\"*.accdb\")\n",
    "thumb_folder = input_folder.joinpath(\"thumbnails\")\n",
    "thumb_folder.mkdir(exist_ok=True, parents=True)\n",
    "metadata_folder = input_folder.joinpath(\"metadata\") \n",
    "metadata_folder.mkdir(exist_ok=True, parents=True)\n"
   ]
  },
  {
   "cell_type": "code",
   "execution_count": null,
   "id": "85583ed4",
   "metadata": {},
   "outputs": [],
   "source": [
    "data = []\n",
    "exclude_tags = [\"InterColorProfile\", \"StripOffsets\", \"StripByteCounts\", \"XMLPacket\"]"
   ]
  },
  {
   "cell_type": "code",
   "execution_count": null,
   "id": "a927a622",
   "metadata": {},
   "outputs": [],
   "source": [
    "images = list(input_folder.glob(\"*.tif?\"))"
   ]
  },
  {
   "cell_type": "code",
   "execution_count": null,
   "id": "5db7bbeb",
   "metadata": {},
   "outputs": [],
   "source": []
  },
  {
   "cell_type": "code",
   "execution_count": null,
   "id": "c9d8995a",
   "metadata": {},
   "outputs": [],
   "source": [
    "dotting_info = DottingInfo()\n",
    "for image_path in images:\n",
    "    with Image.open(image_path) as img:\n",
    "        \n",
    "        thumbnail_name  = image_path.with_suffix(\".png\").name\n",
    "        img_meta = {\"name\": image_path.name, \"thumbnail\": thumbnail_name}\n",
    "        piex = piexif.load(image_path.as_posix())\n",
    "        plain_exif = {}\n",
    "        for k in piex:\n",
    "            if k == \"thumbnail\":\n",
    "                continue\n",
    "            for exif_id in piex[k]:\n",
    "                t = ExifTags.TAGS.get(exif_id) if k != \"GPS\" else ExifTags.GPSTAGS.get(exif_id)\n",
    "                if t in exclude_tags:\n",
    "                    continue\n",
    "                if t is None:\n",
    "                    print( k, exif_id, piex[k][exif_id])\n",
    "                plain_exif[t] = piex[k][exif_id] if not t in (\"GPSLongitude\", \"GPSLatitude\") else _convert_to_degress(piex[k][exif_id])\n",
    "        img_meta[\"exif\"] = plain_exif\n",
    "        img.thumbnail(thumbnail_size)\n",
    "        img.save(thumb_folder.joinpath(thumbnail_name), \"PNG\")\n",
    "        info = dotting_info.get_info_by_name(image_path.name)\n",
    "        if info is not None:\n",
    "            _a = info.groupby([\"CameraNumber\",\"PhotoNumber\", \"Date\"])[[\"SpeciesCode\", \"SpeciesName\", \"Date\", \"ColonyID\",\"Latitude\", \"Longitude\"]].apply(lambda x: x.to_dict('records')).reset_index()\n",
    "            _meta = _a.to_dict(orient=\"records\")[0]\n",
    "            _meta[\"species_colonies\"] = _meta.pop(0)\n",
    "            img_meta.update(_meta)\n",
    "        data.append(img_meta)\n"
   ]
  },
  {
   "cell_type": "code",
   "execution_count": null,
   "id": "9301a0c2",
   "metadata": {},
   "outputs": [],
   "source": [
    "#Example metadata\n"
   ]
  },
  {
   "cell_type": "markdown",
   "id": "7577bdbe",
   "metadata": {},
   "source": [
    "# Read the KMZ\n",
    "If there are KMLS paths and the foto is there, use its location, else "
   ]
  },
  {
   "cell_type": "code",
   "execution_count": null,
   "id": "e54e0c54",
   "metadata": {},
   "outputs": [],
   "source": [
    "def _select_coordinates(point, data):\n",
    "    if point:\n",
    "        return point.coords[0], 'kml_point'\n",
    "    if \"exif\" in data and \"GPSLongitude\" in data.get(\"exif\"):\n",
    "        _exif = data.get(\"exif\")\n",
    "        return  ((-1 if _exif.get(\"GPSLongitudeRef\") == \"S\" else 1)*_exif.get(\"GPSLongitude\"), (-1 if _exif.get(\"GPSLatitudeRef\") == \"W\" else 1) * _exif.get(\"GPSLatitude\"), _exif.get(\"Altitude\", None) ),'exif'\n",
    "    if  \"species_colonies\" in data:\n",
    "        sc_list = data[\"species_colonies\"]\n",
    "        count = len (sc_list)\n",
    "        lat = 0\n",
    "        lon = 0\n",
    "        for col in sc_list:\n",
    "            lat += col.get(\"Latitude\",0)\n",
    "            lon += col.get(\"Longitude\",0)\n",
    "        if lon and lat:\n",
    "            return (lon/count, lat/count, None), 'colonies_average'\n",
    "    return None, None"
   ]
  },
  {
   "cell_type": "code",
   "execution_count": null,
   "id": "204a74ee",
   "metadata": {},
   "outputs": [],
   "source": [
    "kmls_paths =  input_folder.glob(\"*.kml\")\n",
    "kml_info = KMLInfo(kmls_paths)"
   ]
  },
  {
   "cell_type": "code",
   "execution_count": null,
   "id": "cd5906e2",
   "metadata": {
    "scrolled": false
   },
   "outputs": [],
   "source": [
    "for d in data:\n",
    "    _point = kml_info.get_info_by_name(d.get(\"name\"), change_extension=\"jpg\")\n",
    "    \n",
    "    coord, _from = _select_coordinates(_point, d)\n",
    "    if coord:\n",
    "        d[\"longitude\"] = coord[0]\n",
    "        d[\"latitude\"] = coord[1]\n",
    "        d[\"altitude\"] = coord[2]\n",
    "        d[\"location_from\"] = _from"
   ]
  },
  {
   "cell_type": "code",
   "execution_count": null,
   "id": "f917fb35",
   "metadata": {},
   "outputs": [],
   "source": [
    "ser_data = json.loads(json.dumps(data, default=str, indent=2))"
   ]
  },
  {
   "cell_type": "code",
   "execution_count": null,
   "id": "88184fd0",
   "metadata": {},
   "outputs": [],
   "source": [
    "\n",
    "for document in data:\n",
    "    with open(metadata_folder.joinpath(Path(document[\"name\"]).with_suffix(\".json\")),'w') as _file:\n",
    "        json.dump(document, _file, default=str)"
   ]
  },
  {
   "cell_type": "code",
   "execution_count": null,
   "id": "490da16b",
   "metadata": {},
   "outputs": [],
   "source": [
    "with open(metadata_folder.joinpath(\"all.json\"),\"w\") as _all:\n",
    "    json.dump(data, _all, default=str )"
   ]
  },
  {
   "cell_type": "code",
   "execution_count": null,
   "id": "3834830c",
   "metadata": {},
   "outputs": [],
   "source": []
  }
 ],
 "metadata": {
  "kernelspec": {
   "display_name": "Python 3",
   "language": "python",
   "name": "python3"
  },
  "language_info": {
   "codemirror_mode": {
    "name": "ipython",
    "version": 3
   },
   "file_extension": ".py",
   "mimetype": "text/x-python",
   "name": "python",
   "nbconvert_exporter": "python",
   "pygments_lexer": "ipython3",
   "version": "3.8.5"
  }
 },
 "nbformat": 4,
 "nbformat_minor": 5
}
